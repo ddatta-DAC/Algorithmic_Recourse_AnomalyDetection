{
 "cells": [
  {
   "cell_type": "code",
   "execution_count": 1,
   "id": "3b7f92ee-69d9-4979-af58-99017dedfe96",
   "metadata": {},
   "outputs": [],
   "source": [
    "import numpy as np\n",
    "import torch \n",
    "import os\n",
    "import sys\n",
    "import pandas as pd\n",
    "import numpy as np\n",
    "import glob\n",
    "import re\n",
    "from pprint import pprint\n",
    "from typing import *\n",
    "sys.path.append('./..')\n",
    "\n",
    "from PanjivaDataPreprocessor import data_fetcher_v1"
   ]
  },
  {
   "cell_type": "code",
   "execution_count": 2,
   "id": "28c9f6ed-3cbd-4235-a62f-6cc88256a2c0",
   "metadata": {},
   "outputs": [],
   "source": [
    "\n",
    "record_data = data_fetcher_v1.get_training_set_data('us_import1')\n",
    "del record_data['PanjivaRecordID']\n",
    "data = record_data.head(200)\n",
    "record_data = data.values + 1\n",
    "domain_dims_df = data_fetcher_v1.get_domain_dims('us_import1')\n",
    "cardinality = domain_dims_df['dimension'].tolist()\n",
    "cardinality = [ _ + 1 for _ in cardinality]\n"
   ]
  },
  {
   "cell_type": "code",
   "execution_count": 3,
   "id": "e390ef42-0a58-4ee0-9040-760bf43c79b9",
   "metadata": {},
   "outputs": [
    {
     "data": {
      "text/plain": [
       "array([[ 207, 1055, 1114,  233,   37,   83,   16, 1243],\n",
       "       [  80,  238,  530,  185,   37,   84,   16, 1778],\n",
       "       [ 530, 2370, 1211,  233,    8,   21,   16,  934],\n",
       "       [ 279, 2368, 1471,  185,    8,   21,   16,  910],\n",
       "       [ 310,  723, 1471,  260,    8,   21,   16,  597],\n",
       "       [ 279, 2368, 1471,   98,   16,   41,   16, 1298],\n",
       "       [  81, 1471, 1318,  233,   39,   85,   16,  238],\n",
       "       [  26,  723, 1374,  233,   39,   85,   16,  545],\n",
       "       [ 345,  622,  552,  233,   46,   93,   16,  532],\n",
       "       [  95,  571,  802,  233,   58,  120,   16,  219],\n",
       "       [ 199,   53,  969,  233,   39,  102,   16,  156],\n",
       "       [ 471, 1072, 1325,  260,   59,  121,   16,  651],\n",
       "       [ 207,  415, 1181,  260,   59,  121,   16, 2016],\n",
       "       [ 355, 1368,  603,  233,   13,   37,   16, 1496],\n",
       "       [  76, 2121, 1471,  233,   24,   60,   16, 1728]])"
      ]
     },
     "execution_count": 3,
     "metadata": {},
     "output_type": "execute_result"
    }
   ],
   "source": [
    "record_data = record_data[:15]\n",
    "record_data"
   ]
  },
  {
   "cell_type": "code",
   "execution_count": 4,
   "id": "fa0de707-cb73-4269-a9df-52267a170c19",
   "metadata": {},
   "outputs": [
    {
     "name": "stdout",
     "output_type": "stream",
     "text": [
      "[Columns Probability] [0.125 0.125 0.125 0.125 0.125 0.125 0.125 0.125]\n",
      "column_indices.shape (15, 8)\n"
     ]
    }
   ],
   "source": [
    "'''\n",
    "Set the MASK token to be 0\n",
    "token weights = 0 - means the loss does not need to be accounted for \n",
    "'''\n",
    "\n",
    "\n",
    "\n",
    "data = record_data\n",
    "# def get_maksed_tokens(\n",
    "#     data, \n",
    "#     column_cardinalities, \n",
    "#     k1 = 0.8, \n",
    "#     k2 = 0.2,\n",
    "#     uniform_column_choice = True\n",
    "# ):\n",
    "    \n",
    "    \n",
    "\n",
    "column_cardinalities = cardinality\n",
    "k1 = 0.8\n",
    "k2 = 0.2\n",
    "uniform_column_choice = True\n",
    "    \n",
    "    \n",
    "column_indices = np.array(data)\n",
    "mask_token_id = 0\n",
    "\n",
    "# =======\n",
    "num_attr = data.shape[-1]\n",
    "if uniform_column_choice:\n",
    "    column_prob = np.array([1/num_attr for _ in range(num_attr)])\n",
    "else:\n",
    "    column_prob = np.array([np.power(column_cardinalities[i]/sum(column_cardinalities),0.5) for i in range(num_attr)]) \n",
    "    column_prob = column_prob/np.sum(column_prob)\n",
    "print('[Columns Probability]',column_prob)    \n",
    "\n",
    "inp_mask = np.random.multinomial(1, column_prob, column_indices.shape[:1])\n",
    "inp_mask = np.array(inp_mask, dtype=bool)\n",
    "print('column_indices.shape', column_indices.shape)\n",
    "# ======\n",
    "# Set targets to -1 by default, it means ignore\n",
    "# the labels to be predicted \n",
    "# ======"
   ]
  },
  {
   "cell_type": "code",
   "execution_count": 5,
   "id": "02c6aed7-a040-4e07-b2b8-f434b42f7912",
   "metadata": {},
   "outputs": [
    {
     "data": {
      "text/plain": [
       "array([[False, False, False, False,  True, False, False, False],\n",
       "       [False, False, False, False,  True, False, False, False],\n",
       "       [False, False, False,  True, False, False, False, False],\n",
       "       [False,  True, False, False, False, False, False, False],\n",
       "       [False, False, False, False,  True, False, False, False],\n",
       "       [False,  True, False, False, False, False, False, False],\n",
       "       [False,  True, False, False, False, False, False, False],\n",
       "       [False, False,  True, False, False, False, False, False],\n",
       "       [False, False, False, False,  True, False, False, False],\n",
       "       [ True, False, False, False, False, False, False, False],\n",
       "       [False, False,  True, False, False, False, False, False],\n",
       "       [False, False, False, False, False, False,  True, False],\n",
       "       [False, False, False, False,  True, False, False, False],\n",
       "       [False, False, False, False,  True, False, False, False],\n",
       "       [False, False, False, False, False, False, False,  True]])"
      ]
     },
     "execution_count": 5,
     "metadata": {},
     "output_type": "execute_result"
    }
   ],
   "source": [
    "inp_mask"
   ]
  },
  {
   "cell_type": "code",
   "execution_count": 6,
   "id": "b6adc158-1dac-4c63-9fb0-0be68445a921",
   "metadata": {},
   "outputs": [
    {
     "data": {
      "text/plain": [
       "array([[ 207, 1055, 1114,  233,   37,   83,   16, 1243],\n",
       "       [  80,  238,  530,  185,   37,   84,   16, 1778],\n",
       "       [ 530, 2370, 1211,  233,    8,   21,   16,  934],\n",
       "       [ 279, 2368, 1471,  185,    8,   21,   16,  910],\n",
       "       [ 310,  723, 1471,  260,    8,   21,   16,  597],\n",
       "       [ 279, 2368, 1471,   98,   16,   41,   16, 1298],\n",
       "       [  81, 1471, 1318,  233,   39,   85,   16,  238],\n",
       "       [  26,  723, 1374,  233,   39,   85,   16,  545],\n",
       "       [ 345,  622,  552,  233,   46,   93,   16,  532],\n",
       "       [  95,  571,  802,  233,   58,  120,   16,  219],\n",
       "       [ 199,   53,  969,  233,   39,  102,   16,  156],\n",
       "       [ 471, 1072, 1325,  260,   59,  121,   16,  651],\n",
       "       [ 207,  415, 1181,  260,   59,  121,   16, 2016],\n",
       "       [ 355, 1368,  603,  233,   13,   37,   16, 1496],\n",
       "       [  76, 2121, 1471,  233,   24,   60,   16, 1728]])"
      ]
     },
     "execution_count": 6,
     "metadata": {},
     "output_type": "execute_result"
    }
   ],
   "source": [
    "column_indices"
   ]
  },
  {
   "cell_type": "code",
   "execution_count": 7,
   "id": "f63e17d3-f2cb-46ff-86be-c8b85f3252a8",
   "metadata": {},
   "outputs": [],
   "source": [
    "labels = -1 * np.ones(column_indices.shape, dtype=int)\n",
    "labels[inp_mask] = column_indices[inp_mask]\n",
    "\n",
    "column_indices_masked = np.copy(column_indices)\n",
    "# Replace k1 fraction of tokens with [MASK] following MLM\n",
    "\n",
    "inp_mask_2mask = inp_mask & (np.random.rand(*column_indices_masked.shape) < k1)\n",
    "column_indices_masked[inp_mask_2mask] = mask_token_id  \n",
    "\n",
    "# The indices that are not going to be changed\n",
    "# Set this fraction to k2\n",
    "\n",
    "inp_mask_2random = inp_mask_2mask & (np.random.rand(*column_indices_masked.shape) < k2)"
   ]
  },
  {
   "cell_type": "code",
   "execution_count": 8,
   "id": "e629afcf-9c7f-4d16-9ebb-39d8c96b2de1",
   "metadata": {},
   "outputs": [
    {
     "data": {
      "text/plain": [
       "array([[False, False, False, False, False, False, False, False],\n",
       "       [False, False, False, False,  True, False, False, False],\n",
       "       [False, False, False, False, False, False, False, False],\n",
       "       [False, False, False, False, False, False, False, False],\n",
       "       [False, False, False, False, False, False, False, False],\n",
       "       [False,  True, False, False, False, False, False, False],\n",
       "       [False, False, False, False, False, False, False, False],\n",
       "       [False, False, False, False, False, False, False, False],\n",
       "       [False, False, False, False,  True, False, False, False],\n",
       "       [False, False, False, False, False, False, False, False],\n",
       "       [False, False, False, False, False, False, False, False],\n",
       "       [False, False, False, False, False, False,  True, False],\n",
       "       [False, False, False, False, False, False, False, False],\n",
       "       [False, False, False, False,  True, False, False, False],\n",
       "       [False, False, False, False, False, False, False, False]])"
      ]
     },
     "execution_count": 8,
     "metadata": {},
     "output_type": "execute_result"
    }
   ],
   "source": [
    "inp_mask_2random[:]"
   ]
  },
  {
   "cell_type": "code",
   "execution_count": 9,
   "id": "b39a7934-f3f1-43bd-a163-5a90bb9a5269",
   "metadata": {},
   "outputs": [
    {
     "data": {
      "text/plain": [
       "array([[ 207, 1055, 1114,  233,   37,   83,   16, 1243],\n",
       "       [  80,  238,  530,  185,    0,   84,   16, 1778],\n",
       "       [ 530, 2370, 1211,  233,    8,   21,   16,  934],\n",
       "       [ 279,    0, 1471,  185,    8,   21,   16,  910],\n",
       "       [ 310,  723, 1471,  260,    0,   21,   16,  597],\n",
       "       [ 279,    0, 1471,   98,   16,   41,   16, 1298],\n",
       "       [  81,    0, 1318,  233,   39,   85,   16,  238],\n",
       "       [  26,  723,    0,  233,   39,   85,   16,  545],\n",
       "       [ 345,  622,  552,  233,    0,   93,   16,  532],\n",
       "       [   0,  571,  802,  233,   58,  120,   16,  219],\n",
       "       [ 199,   53,    0,  233,   39,  102,   16,  156],\n",
       "       [ 471, 1072, 1325,  260,   59,  121,    0,  651],\n",
       "       [ 207,  415, 1181,  260,   59,  121,   16, 2016],\n",
       "       [ 355, 1368,  603,  233,    0,   37,   16, 1496],\n",
       "       [  76, 2121, 1471,  233,   24,   60,   16, 1728]])"
      ]
     },
     "execution_count": 9,
     "metadata": {},
     "output_type": "execute_result"
    }
   ],
   "source": [
    "column_indices_masked"
   ]
  },
  {
   "cell_type": "code",
   "execution_count": 10,
   "id": "af8e27b3-2cd1-4607-8bfb-cc56e4aea6df",
   "metadata": {},
   "outputs": [
    {
     "name": "stdout",
     "output_type": "stream",
     "text": [
      "0 Values [] 532\n",
      "[207  80 530 279 310 279  81  26 345   0 199 471 207 355  76]\n",
      "[207  80 530 279 310 279  81  26 345   0 199 471 207 355  76]\n",
      "1 Values [990] 2386\n",
      "[1055  238 2370    0  723    0    0  723  622  571   53 1072  415 1368\n",
      " 2121]\n",
      "[1055  238 2370    0  723  990    0  723  622  571   53 1072  415 1368\n",
      " 2121]\n",
      "0 Values [] 1547\n",
      "[1114  530 1211 1471 1471 1471 1318    0  552  802    0 1325 1181  603\n",
      " 1471]\n",
      "[1114  530 1211 1471 1471 1471 1318    0  552  802    0 1325 1181  603\n",
      " 1471]\n",
      "0 Values [] 264\n",
      "[233 185 233 185 260  98 233 233 233 233 233 260 260 233 233]\n",
      "[233 185 233 185 260  98 233 233 233 233 233 260 260 233 233]\n",
      "3 Values [43 51 13] 61\n",
      "[37  0  8  8  0 16 39 39  0 58 39 59 59  0 24]\n",
      "[37 43  8  8  0 16 39 39 51 58 39 59 59 13 24]\n",
      "0 Values [] 127\n",
      "[ 83  84  21  21  21  41  85  85  93 120 102 121 121  37  60]\n",
      "[ 83  84  21  21  21  41  85  85  93 120 102 121 121  37  60]\n",
      "1 Values [58] 85\n",
      "[16 16 16 16 16 16 16 16 16 16 16  0 16 16 16]\n",
      "[16 16 16 16 16 16 16 16 16 16 16 58 16 16 16]\n",
      "0 Values [] 2159\n",
      "[1243 1778  934  910  597 1298  238  545  532  219  156  651 2016 1496\n",
      " 1728]\n",
      "[1243 1778  934  910  597 1298  238  545  532  219  156  651 2016 1496\n",
      " 1728]\n"
     ]
    }
   ],
   "source": [
    "# ----------------------\n",
    "# Replace masks in each column by randomly sampling from candidate values\n",
    "# ----------------------\n",
    "for i in range(num_attr):\n",
    "    _values= np.random.randint(1, column_cardinalities[i]+1, inp_mask_2random[:,i].sum())\n",
    "    column_indices_masked[:,i][inp_mask_2random[:,i]] = _values\n",
    "    \n",
    "data_masked = column_indices_masked\n",
    "token_weights = np.ones(labels.shape)\n",
    "token_weights[labels == -1] = 0"
   ]
  },
  {
   "cell_type": "code",
   "execution_count": 11,
   "id": "65c3cb19-d37b-4504-9351-7aa025483ad6",
   "metadata": {},
   "outputs": [],
   "source": [
    "\n",
    "\n"
   ]
  },
  {
   "cell_type": "code",
   "execution_count": 12,
   "id": "87fe98d9-f6a0-48bc-82ad-116cb18b824d",
   "metadata": {},
   "outputs": [
    {
     "data": {
      "text/plain": [
       "array([[0., 0., 0., 0., 1., 0., 0., 0.],\n",
       "       [0., 0., 0., 0., 1., 0., 0., 0.],\n",
       "       [0., 0., 0., 1., 0., 0., 0., 0.],\n",
       "       [0., 1., 0., 0., 0., 0., 0., 0.],\n",
       "       [0., 0., 0., 0., 1., 0., 0., 0.],\n",
       "       [0., 1., 0., 0., 0., 0., 0., 0.],\n",
       "       [0., 1., 0., 0., 0., 0., 0., 0.],\n",
       "       [0., 0., 1., 0., 0., 0., 0., 0.],\n",
       "       [0., 0., 0., 0., 1., 0., 0., 0.],\n",
       "       [1., 0., 0., 0., 0., 0., 0., 0.],\n",
       "       [0., 0., 1., 0., 0., 0., 0., 0.],\n",
       "       [0., 0., 0., 0., 0., 0., 1., 0.],\n",
       "       [0., 0., 0., 0., 1., 0., 0., 0.],\n",
       "       [0., 0., 0., 0., 1., 0., 0., 0.],\n",
       "       [0., 0., 0., 0., 0., 0., 0., 1.]])"
      ]
     },
     "execution_count": 12,
     "metadata": {},
     "output_type": "execute_result"
    }
   ],
   "source": [
    "token_weights"
   ]
  },
  {
   "cell_type": "code",
   "execution_count": 13,
   "id": "3e85e87f-d591-4f4c-a2e3-07c38ef7895d",
   "metadata": {},
   "outputs": [
    {
     "data": {
      "text/plain": [
       "array([[  -1,   -1,   -1,   -1,   37,   -1,   -1,   -1],\n",
       "       [  -1,   -1,   -1,   -1,   37,   -1,   -1,   -1],\n",
       "       [  -1,   -1,   -1,  233,   -1,   -1,   -1,   -1],\n",
       "       [  -1, 2368,   -1,   -1,   -1,   -1,   -1,   -1],\n",
       "       [  -1,   -1,   -1,   -1,    8,   -1,   -1,   -1],\n",
       "       [  -1, 2368,   -1,   -1,   -1,   -1,   -1,   -1],\n",
       "       [  -1, 1471,   -1,   -1,   -1,   -1,   -1,   -1],\n",
       "       [  -1,   -1, 1374,   -1,   -1,   -1,   -1,   -1],\n",
       "       [  -1,   -1,   -1,   -1,   46,   -1,   -1,   -1],\n",
       "       [  95,   -1,   -1,   -1,   -1,   -1,   -1,   -1],\n",
       "       [  -1,   -1,  969,   -1,   -1,   -1,   -1,   -1],\n",
       "       [  -1,   -1,   -1,   -1,   -1,   -1,   16,   -1],\n",
       "       [  -1,   -1,   -1,   -1,   59,   -1,   -1,   -1],\n",
       "       [  -1,   -1,   -1,   -1,   13,   -1,   -1,   -1],\n",
       "       [  -1,   -1,   -1,   -1,   -1,   -1,   -1, 1728]])"
      ]
     },
     "execution_count": 13,
     "metadata": {},
     "output_type": "execute_result"
    }
   ],
   "source": [
    "labels"
   ]
  },
  {
   "cell_type": "code",
   "execution_count": 3,
   "id": "22f16952-bab3-4298-8f9a-3e6c7ab93468",
   "metadata": {},
   "outputs": [
    {
     "ename": "IndentationError",
     "evalue": "unexpected indent (3401611849.py, line 26)",
     "output_type": "error",
     "traceback": [
      "\u001b[0;36m  File \u001b[0;32m\"/tmp/ipykernel_6451/3401611849.py\"\u001b[0;36m, line \u001b[0;32m26\u001b[0m\n\u001b[0;31m    column_indices = np.array(data)\u001b[0m\n\u001b[0m    ^\u001b[0m\n\u001b[0;31mIndentationError\u001b[0m\u001b[0;31m:\u001b[0m unexpected indent\n"
     ]
    }
   ],
   "source": [
    "return data_masked, labels, token_weights"
   ]
  },
  {
   "cell_type": "code",
   "execution_count": null,
   "id": "e90129f0-b699-4ff3-a520-16438607bc1c",
   "metadata": {},
   "outputs": [],
   "source": [
    "'''\n",
    "Sample run\n",
    "'''\n",
    "# column_indices = [\n",
    "#     [12,90,64,24, 240],\n",
    "#     [22,91,65,25,241],\n",
    "#     [32,92,66,26,242],\n",
    "#     [42,93,67,27,243]\n",
    "# ]\n",
    "# column_indices = np.array(column_indices)\n",
    "# column_cardinalities = [45,100,70,30,250]\n",
    "\n",
    "# get_maksed_tokens(\n",
    "#     column_indices, \n",
    "#     column_cardinalities,\n",
    "#     uniform_column_choice = False\n",
    "# )"
   ]
  }
 ],
 "metadata": {
  "kernelspec": {
   "display_name": "Python 3 (ipykernel)",
   "language": "python",
   "name": "python3"
  },
  "language_info": {
   "codemirror_mode": {
    "name": "ipython",
    "version": 3
   },
   "file_extension": ".py",
   "mimetype": "text/x-python",
   "name": "python",
   "nbconvert_exporter": "python",
   "pygments_lexer": "ipython3",
   "version": "3.8.12"
  }
 },
 "nbformat": 4,
 "nbformat_minor": 5
}
