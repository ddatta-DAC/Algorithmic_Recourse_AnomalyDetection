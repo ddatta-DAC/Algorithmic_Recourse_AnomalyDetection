{
 "cells": [
  {
   "cell_type": "code",
   "execution_count": 1,
   "id": "9d21b2ff-881c-4633-ac76-1b5cc7698f4a",
   "metadata": {},
   "outputs": [],
   "source": [
    "%load_ext autoreload\n",
    "%autoreload 2\n",
    "import sys\n",
    "import math\n",
    "import torch\n",
    "from torch.nn import Module\n",
    "from tqdm import tqdm\n",
    "from torch import nn\n",
    "from typing import *\n",
    "from torch.nn import functional as F\n",
    "from torch import LongTensor as LT\n",
    "import numpy as np\n",
    "from torch import FloatTensor as FT\n",
    "from torch import Tensor as T\n",
    "DEVICE = torch.device(\"cuda\" if torch.cuda.is_available() else \"cpu\")\n",
    "import sys\n",
    "from pathlib import Path\n",
    "from data_masker import get_maksed_tokens\n",
    "sys.path.append('./..')\n",
    "\n",
    "from PanjivaDataPreprocessor import data_fetcher_v1\n",
    "from torch.utils.data import DataLoader\n",
    "\n",
    "from decoder_MLM_v1 import decoder_MLM_layer\n",
    "\n",
    "from encoder_v1 import Encoder \n",
    "from data_masker import get_maksed_tokens\n",
    "\n",
    "class MLM_DataSet(torch.utils.data.Dataset):\n",
    "    def __init__(self, data, cardinality):\n",
    "        super(MLM_DataSet).__init__()\n",
    "        \n",
    "        data, labels, token_weights = get_maksed_tokens(\n",
    "            data, \n",
    "            cardinality\n",
    "        )\n",
    "        self.data = data\n",
    "        self.labels = labels\n",
    "        self.token_weights = np.array(token_weights, dtype=float)\n",
    "        return \n",
    "        \n",
    "    def __len__(self):\n",
    "        return len(self.data)\n",
    "\n",
    "    def __getitem__(self, idx):\n",
    "        record = self.data[idx]\n",
    "        label = self.labels[idx]\n",
    "        token_weight = self.token_weights[idx]\n",
    "        return record, label, token_weight\n",
    "    \n",
    "\n",
    "class tabXformerMLM_obj:\n",
    "    def __init__(\n",
    "        self,\n",
    "        emb_dim:int,\n",
    "        encoder_xformer_heads:int,\n",
    "        count_numerical_attr:int,\n",
    "        cardinality: List,\n",
    "        encoder_num_xformer_layers:int,\n",
    "        encoder_include_PE: bool,\n",
    "        decoder_ffn_layer_dims: List,\n",
    "        model_save_dir,\n",
    "        device\n",
    "    ):\n",
    "        \n",
    "        self.device = device\n",
    "        self.encoder_obj = Encoder(\n",
    "            emb_dim = emb_dim,\n",
    "            xformer_heads = encoder_xformer_heads,\n",
    "            xformer_model_dims =  encoder_xformer_heads * emb_dim,\n",
    "            cardinality = cardinality,\n",
    "            count_numerical_attr=0,\n",
    "            device = device,\n",
    "            num_xformer_layers = encoder_num_xformer_layers,\n",
    "            include_PE = encoder_include_PE\n",
    "        )\n",
    "        self.model_save_dir = model_save_dir \n",
    "        \n",
    "        self.encoder_obj.to(self.device)\n",
    "        self.decoder_obj = decoder_MLM_layer(\n",
    "            emb_dim = emb_dim,\n",
    "            ffn_layer_dims = decoder_ffn_layer_dims,\n",
    "            attribute_cardinality=cardinality,\n",
    "            device = device\n",
    "        )\n",
    "        self.decoder_obj.to(self.device)\n",
    "        self.cardinality = cardinality\n",
    "        self.CE_loss = nn.ModuleList([ nn.CrossEntropyLoss() for _ in cardinality ])\n",
    "        \n",
    "        self.optimizer = torch.optim.Adam(\n",
    "            [\n",
    "                {'params': self.encoder_obj.parameters(), 'lr': 5e-4},\n",
    "                {'params': self.decoder_obj.parameters(), 'lr': 5e-4}\n",
    "            ]\n",
    "        )\n",
    "        return \n",
    "    \n",
    "    def save_model(self):\n",
    "        Path(self.model_save_dir).mkdir( exist_ok=True, parents=True)\n",
    "        fpath = os.path.join(self.model_save_dir, 'encoder_mlm.pth')\n",
    "        torch.save(self.encoder_obj, fpath)\n",
    "        fpath = os.path.join(self.model_save_dir, 'decoder_mlm.pth')\n",
    "        torch.save(self.decoder_obj, fpath)\n",
    "        \n",
    "    # ======\n",
    "    # MLM loss function\n",
    "    # ======\n",
    "    def mlm_loss(\n",
    "        self,\n",
    "        enc_seq_data,\n",
    "        token_pred,\n",
    "        labels,\n",
    "        token_weights\n",
    "    ):\n",
    "\n",
    "        seq_len = enc_seq_data.shape[1]\n",
    "        \n",
    "        # Calculate croiss entropy loss\n",
    "        # preds = torch.split(token_pred, split_size_or_sections = seq_len, dim=0)\n",
    "        preds = token_pred\n",
    "        labels_split = torch.chunk(labels, seq_len,  dim =-1)\n",
    "        token_weights = torch.chunk(token_weights, seq_len,  dim =-1) \n",
    "        \n",
    "        losses = []\n",
    "        loss = 0\n",
    "        \n",
    "        for i in range(seq_len):\n",
    "            one_hot = F.one_hot(labels_split[i].squeeze(-1), num_classes = cardinality[i])\n",
    "            ce = (one_hot * torch.log( preds[i] + 1e-7))[one_hot.bool()]\n",
    "            ce = -1  * token_weights[i].squeeze(-1) * ce\n",
    "            _loss = ce\n",
    "\n",
    "            loss += torch.mean(_loss, dim =-1, keepdims=False)\n",
    "            losses.append(torch.mean(_loss, dim =-1, keepdims=False))\n",
    "            \n",
    "        return losses,loss\n",
    "\n",
    "\n",
    "    def train_model(\n",
    "        self, \n",
    "        data,\n",
    "        batch_size = 32,\n",
    "        num_epochs=10\n",
    "    ):\n",
    "        # Create dataset obj\n",
    "        data_set_obj = MLM_DataSet(\n",
    "            data, \n",
    "            cardinality \n",
    "        )\n",
    "        \n",
    "        data_loader = DataLoader(data_set_obj, batch_size=batch_size, shuffle=True)\n",
    "        epoch_losses = []\n",
    "        all_losses = []\n",
    "        for epoch in tqdm(range(num_epochs)):\n",
    "            cur_epoch_losses = []\n",
    "            print('[Epoch]', epoch)\n",
    "            for batch_idx, batch_data in enumerate(data_loader):\n",
    "                \n",
    "                self.optimizer.zero_grad()\n",
    "                seq_data, labels, token_wt  = batch_data[0], batch_data[1], batch_data[2] \n",
    "                seq_data = LT(seq_data).to(self.device)\n",
    "                labels = LT(labels).to(self.device)\n",
    "                token_wt = torch.tensor(token_wt).float().to(self.device)\n",
    "                enc_seq_data, _ = self.encoder_obj(seq_data)\n",
    "                token_pred = self.decoder_obj(enc_seq_data)\n",
    "\n",
    "                losses, batch_loss = self.mlm_loss(\n",
    "                    enc_seq_data,\n",
    "                    token_pred,\n",
    "                    labels,\n",
    "                    token_wt\n",
    "                )\n",
    "                batch_loss.backward()\n",
    "                self.optimizer.step()\n",
    "                if (batch_idx+1)%50 == 0:\n",
    "                    print('Batch ',batch_idx, batch_loss.cpu().data.numpy())\n",
    "                loss_val = batch_loss.cpu().data.numpy()\n",
    "                \n",
    "                cur_epoch_losses.append(loss_val)\n",
    "                all_losses.append(loss_val)\n",
    "               \n",
    "            epoch_losses.append(np.mean(cur_epoch_losses))\n",
    "            print('[Mean epoch loss] {:4f}'.format(epoch_losses[-1]))\n",
    "            \n",
    "        return all_losses\n",
    "    "
   ]
  },
  {
   "cell_type": "code",
   "execution_count": 2,
   "id": "60ea8a1e-ebdb-46e3-bd67-1f30e159d7a6",
   "metadata": {},
   "outputs": [],
   "source": [
    "record_data = data_fetcher_v1.get_training_set_data('us_import1')\n",
    "del record_data['PanjivaRecordID']\n",
    "# data = record_data.head(5000)\n",
    "data = record_data\n",
    "data = data.values + 1\n",
    "domain_dims_df = data_fetcher_v1.get_domain_dims('us_import1')\n",
    "cardinality = domain_dims_df['dimension'].tolist()\n",
    "cardinality = [ _ + 1 for _ in cardinality]"
   ]
  },
  {
   "cell_type": "code",
   "execution_count": 3,
   "id": "3a58dea0-628c-4ef5-9a9a-73af624173bd",
   "metadata": {},
   "outputs": [],
   "source": [
    "xformer_obj = tabXformerMLM_obj(\n",
    "        emb_dim = 32,\n",
    "        encoder_xformer_heads = 8,\n",
    "        count_numerical_attr = 0 ,\n",
    "        cardinality = cardinality,\n",
    "        encoder_num_xformer_layers = 3,\n",
    "        encoder_include_PE = True,\n",
    "        decoder_ffn_layer_dims = [128,64],\n",
    "        device = DEVICE,\n",
    "        model_save_dir = 'model_save_dir'\n",
    ")"
   ]
  },
  {
   "cell_type": "code",
   "execution_count": 4,
   "id": "fa8bc1d4-116d-45c1-b9c1-19c0efa6ccf4",
   "metadata": {
    "scrolled": true,
    "tags": []
   },
   "outputs": [
    {
     "name": "stdout",
     "output_type": "stream",
     "text": [
      "column_indices.shape (123839, 8)\n"
     ]
    },
    {
     "name": "stderr",
     "output_type": "stream",
     "text": [
      "  0%|                                                                                                                                                                                                                                                 | 0/200 [00:00<?, ?it/s]"
     ]
    },
    {
     "name": "stdout",
     "output_type": "stream",
     "text": [
      "[Epoch] 0\n"
     ]
    },
    {
     "name": "stderr",
     "output_type": "stream",
     "text": [
      "/tmp/ipykernel_9824/3356079846.py:163: UserWarning: To copy construct from a tensor, it is recommended to use sourceTensor.clone().detach() or sourceTensor.clone().detach().requires_grad_(True), rather than torch.tensor(sourceTensor).\n",
      "  token_wt = torch.tensor(token_wt).float().to(self.device)\n"
     ]
    },
    {
     "name": "stdout",
     "output_type": "stream",
     "text": [
      "Batch  49 5.2351475\n",
      "Batch  99 4.8839684\n",
      "Batch  149 4.6083493\n",
      "Batch  199 4.54779\n",
      "Batch  249 4.1850166\n",
      "Batch  299 4.3283296\n",
      "Batch  349 4.2336197\n",
      "Batch  399 4.481608\n",
      "Batch  449 4.0439367\n"
     ]
    },
    {
     "name": "stderr",
     "output_type": "stream",
     "text": [
      "  0%|█▏                                                                                                                                                                                                                                       | 1/200 [00:18<59:42, 18.00s/it]"
     ]
    },
    {
     "name": "stdout",
     "output_type": "stream",
     "text": [
      "[Mean epoch loss] 4.592493\n",
      "[Epoch] 1\n",
      "Batch  49 3.9289432\n",
      "Batch  99 4.032133\n",
      "Batch  149 4.3025684\n",
      "Batch  199 3.899413\n",
      "Batch  249 3.8158298\n",
      "Batch  299 4.021037\n",
      "Batch  349 3.871513\n",
      "Batch  399 3.8091433\n",
      "Batch  449 3.9745913\n"
     ]
    },
    {
     "name": "stderr",
     "output_type": "stream",
     "text": [
      "  1%|██▎                                                                                                                                                                                                                                      | 2/200 [00:36<59:24, 18.00s/it]"
     ]
    },
    {
     "name": "stdout",
     "output_type": "stream",
     "text": [
      "[Mean epoch loss] 3.791209\n",
      "[Epoch] 2\n",
      "Batch  49 3.6428332\n",
      "Batch  99 3.5805209\n",
      "Batch  149 3.3378057\n",
      "Batch  199 3.4783423\n",
      "Batch  249 3.3407779\n",
      "Batch  299 3.5887108\n",
      "Batch  349 3.4985185\n",
      "Batch  399 3.3386502\n",
      "Batch  449 3.1395922\n"
     ]
    },
    {
     "name": "stderr",
     "output_type": "stream",
     "text": [
      "  2%|███▍                                                                                                                                                                                                                                   | 3/200 [00:54<1:00:00, 18.27s/it]"
     ]
    },
    {
     "name": "stdout",
     "output_type": "stream",
     "text": [
      "[Mean epoch loss] 3.461514\n",
      "[Epoch] 3\n",
      "Batch  49 3.4068475\n",
      "Batch  99 2.88569\n",
      "Batch  149 3.196485\n",
      "Batch  199 3.5450797\n",
      "Batch  249 3.3263335\n",
      "Batch  299 3.3652222\n",
      "Batch  349 2.959701\n",
      "Batch  399 3.4800947\n",
      "Batch  449 3.5735652\n"
     ]
    },
    {
     "name": "stderr",
     "output_type": "stream",
     "text": [
      "  2%|████▋                                                                                                                                                                                                                                    | 4/200 [01:13<59:51, 18.33s/it]"
     ]
    },
    {
     "name": "stdout",
     "output_type": "stream",
     "text": [
      "[Mean epoch loss] 3.258891\n",
      "[Epoch] 4\n",
      "Batch  49 2.9420767\n",
      "Batch  99 3.1601696\n",
      "Batch  149 3.3932223\n",
      "Batch  199 3.0761254\n",
      "Batch  249 2.9891932\n",
      "Batch  299 2.8653598\n",
      "Batch  349 3.1094475\n",
      "Batch  399 2.8194532\n",
      "Batch  449 2.984024\n"
     ]
    },
    {
     "name": "stderr",
     "output_type": "stream",
     "text": [
      "  2%|█████▊                                                                                                                                                                                                                                   | 5/200 [01:31<59:44, 18.38s/it]"
     ]
    },
    {
     "name": "stdout",
     "output_type": "stream",
     "text": [
      "[Mean epoch loss] 3.115830\n",
      "[Epoch] 5\n",
      "Batch  49 3.015693\n",
      "Batch  99 2.9172165\n",
      "Batch  149 2.8544757\n",
      "Batch  199 3.0370774\n",
      "Batch  249 3.0221033\n",
      "Batch  299 2.8915148\n",
      "Batch  349 3.139173\n",
      "Batch  399 2.8743017\n",
      "Batch  449 2.9376364\n"
     ]
    },
    {
     "name": "stderr",
     "output_type": "stream",
     "text": [
      "  3%|██████▉                                                                                                                                                                                                                                  | 6/200 [01:49<59:31, 18.41s/it]"
     ]
    },
    {
     "name": "stdout",
     "output_type": "stream",
     "text": [
      "[Mean epoch loss] 3.005258\n",
      "[Epoch] 6\n",
      "Batch  49 3.0283465\n",
      "Batch  99 2.4925275\n",
      "Batch  149 2.9033551\n",
      "Batch  199 2.7525287\n",
      "Batch  249 3.035095\n",
      "Batch  299 2.8325632\n",
      "Batch  349 2.8868773\n",
      "Batch  399 2.7388253\n",
      "Batch  449 3.0216565\n"
     ]
    },
    {
     "name": "stderr",
     "output_type": "stream",
     "text": [
      "  4%|████████▏                                                                                                                                                                                                                                | 7/200 [02:08<59:23, 18.46s/it]"
     ]
    },
    {
     "name": "stdout",
     "output_type": "stream",
     "text": [
      "[Mean epoch loss] 2.910605\n",
      "[Epoch] 7\n",
      "Batch  49 3.011601\n",
      "Batch  99 2.4596803\n",
      "Batch  149 3.1410668\n",
      "Batch  199 2.614724\n",
      "Batch  249 2.8794544\n",
      "Batch  299 2.9946954\n",
      "Batch  349 3.0430174\n",
      "Batch  399 2.8625474\n",
      "Batch  449 3.0501559\n"
     ]
    },
    {
     "name": "stderr",
     "output_type": "stream",
     "text": [
      "  4%|█████████▎                                                                                                                                                                                                                               | 8/200 [02:27<59:19, 18.54s/it]"
     ]
    },
    {
     "name": "stdout",
     "output_type": "stream",
     "text": [
      "[Mean epoch loss] 2.832531\n",
      "[Epoch] 8\n",
      "Batch  49 2.6923192\n",
      "Batch  99 2.7592597\n",
      "Batch  149 2.783766\n",
      "Batch  199 2.646276\n",
      "Batch  249 2.492857\n",
      "Batch  299 3.2868824\n",
      "Batch  349 2.9220672\n",
      "Batch  399 2.3732145\n",
      "Batch  449 2.894465\n"
     ]
    },
    {
     "name": "stderr",
     "output_type": "stream",
     "text": [
      "  4%|██████████▍                                                                                                                                                                                                                              | 9/200 [02:45<58:42, 18.44s/it]"
     ]
    },
    {
     "name": "stdout",
     "output_type": "stream",
     "text": [
      "[Mean epoch loss] 2.764658\n",
      "[Epoch] 9\n",
      "Batch  49 2.629366\n",
      "Batch  99 2.6064153\n",
      "Batch  149 2.54446\n",
      "Batch  199 2.54892\n",
      "Batch  249 2.563397\n",
      "Batch  299 2.7652662\n",
      "Batch  349 2.909329\n",
      "Batch  399 2.9479065\n",
      "Batch  449 2.7337294\n"
     ]
    },
    {
     "name": "stderr",
     "output_type": "stream",
     "text": [
      "  5%|███████████▌                                                                                                                                                                                                                            | 10/200 [03:04<59:05, 18.66s/it]"
     ]
    },
    {
     "name": "stdout",
     "output_type": "stream",
     "text": [
      "[Mean epoch loss] 2.703416\n",
      "[Epoch] 10\n",
      "Batch  49 2.645737\n",
      "Batch  99 2.8581147\n",
      "Batch  149 2.4696267\n",
      "Batch  199 3.0195832\n",
      "Batch  249 3.1622188\n",
      "Batch  299 2.4605975\n",
      "Batch  349 2.5735602\n",
      "Batch  399 2.6934953\n",
      "Batch  449 2.7686114\n"
     ]
    },
    {
     "name": "stderr",
     "output_type": "stream",
     "text": [
      "  6%|████████████▊                                                                                                                                                                                                                           | 11/200 [03:22<58:19, 18.51s/it]"
     ]
    },
    {
     "name": "stdout",
     "output_type": "stream",
     "text": [
      "[Mean epoch loss] 2.644748\n",
      "[Epoch] 11\n",
      "Batch  49 2.7412283\n",
      "Batch  99 2.7633593\n",
      "Batch  149 2.4761329\n",
      "Batch  199 2.4343011\n",
      "Batch  249 2.4791336\n",
      "Batch  299 2.6906586\n",
      "Batch  349 2.5015392\n",
      "Batch  399 2.3884926\n",
      "Batch  449 2.766397\n"
     ]
    },
    {
     "name": "stderr",
     "output_type": "stream",
     "text": [
      "  6%|█████████████▊                                                                                                                                                                                                                        | 12/200 [03:44<1:00:50, 19.42s/it]"
     ]
    },
    {
     "name": "stdout",
     "output_type": "stream",
     "text": [
      "[Mean epoch loss] 2.594129\n",
      "[Epoch] 12\n",
      "Batch  49 2.630439\n",
      "Batch  99 2.290179\n",
      "Batch  149 2.5040112\n",
      "Batch  199 2.611349\n",
      "Batch  249 2.5637176\n",
      "Batch  299 2.328428\n",
      "Batch  349 2.8231163\n",
      "Batch  399 2.3306124\n",
      "Batch  449 2.527938\n"
     ]
    },
    {
     "name": "stderr",
     "output_type": "stream",
     "text": [
      "  6%|██████████████▉                                                                                                                                                                                                                       | 13/200 [04:03<1:00:28, 19.40s/it]"
     ]
    },
    {
     "name": "stdout",
     "output_type": "stream",
     "text": [
      "[Mean epoch loss] 2.545743\n",
      "[Epoch] 13\n",
      "Batch  49 2.315561\n",
      "Batch  99 2.794035\n",
      "Batch  149 2.659222\n",
      "Batch  199 2.3373642\n",
      "Batch  249 2.4964325\n",
      "Batch  299 2.195702\n",
      "Batch  349 2.844152\n",
      "Batch  399 2.2477715\n",
      "Batch  449 2.5586195\n"
     ]
    },
    {
     "name": "stderr",
     "output_type": "stream",
     "text": [
      "  7%|████████████████▏                                                                                                                                                                                                                       | 14/200 [04:22<59:43, 19.27s/it]"
     ]
    },
    {
     "name": "stdout",
     "output_type": "stream",
     "text": [
      "[Mean epoch loss] 2.508056\n",
      "[Epoch] 14\n",
      "Batch  49 2.1288188\n",
      "Batch  99 2.4452243\n",
      "Batch  149 2.4223049\n",
      "Batch  199 2.2218523\n",
      "Batch  249 2.3499305\n",
      "Batch  299 2.5973394\n",
      "Batch  349 2.3680634\n",
      "Batch  399 2.4321415\n",
      "Batch  449 2.3797538\n"
     ]
    },
    {
     "name": "stderr",
     "output_type": "stream",
     "text": [
      "  8%|█████████████████▍                                                                                                                                                                                                                      | 15/200 [04:42<59:52, 19.42s/it]"
     ]
    },
    {
     "name": "stdout",
     "output_type": "stream",
     "text": [
      "[Mean epoch loss] 2.468993\n",
      "[Epoch] 15\n",
      "Batch  49 2.3791435\n",
      "Batch  99 2.356022\n",
      "Batch  149 2.6403284\n",
      "Batch  199 2.7506838\n",
      "Batch  249 2.6703954\n",
      "Batch  299 2.7351646\n",
      "Batch  349 2.726828\n",
      "Batch  399 2.453549\n",
      "Batch  449 2.3976798\n"
     ]
    },
    {
     "name": "stderr",
     "output_type": "stream",
     "text": [
      "  8%|██████████████████▌                                                                                                                                                                                                                     | 16/200 [05:00<58:45, 19.16s/it]"
     ]
    },
    {
     "name": "stdout",
     "output_type": "stream",
     "text": [
      "[Mean epoch loss] 2.433514\n",
      "[Epoch] 16\n",
      "Batch  49 2.3427393\n",
      "Batch  99 2.4500456\n",
      "Batch  149 2.5592403\n",
      "Batch  199 2.2658067\n",
      "Batch  249 2.7694147\n",
      "Batch  299 2.2426775\n",
      "Batch  349 2.4903953\n",
      "Batch  399 2.5898402\n",
      "Batch  449 2.5154064\n"
     ]
    },
    {
     "name": "stderr",
     "output_type": "stream",
     "text": [
      "  8%|███████████████████▋                                                                                                                                                                                                                    | 17/200 [05:20<58:23, 19.14s/it]"
     ]
    },
    {
     "name": "stdout",
     "output_type": "stream",
     "text": [
      "[Mean epoch loss] 2.402736\n",
      "[Epoch] 17\n",
      "Batch  49 2.0793762\n",
      "Batch  99 2.4812012\n",
      "Batch  149 2.3452032\n",
      "Batch  199 2.428604\n",
      "Batch  249 2.368665\n",
      "Batch  299 2.2111123\n",
      "Batch  349 2.2782316\n",
      "Batch  399 2.0379536\n",
      "Batch  449 2.1727724\n"
     ]
    },
    {
     "name": "stderr",
     "output_type": "stream",
     "text": [
      "  9%|████████████████████▉                                                                                                                                                                                                                   | 18/200 [05:39<58:07, 19.16s/it]"
     ]
    },
    {
     "name": "stdout",
     "output_type": "stream",
     "text": [
      "[Mean epoch loss] 2.363369\n",
      "[Epoch] 18\n",
      "Batch  49 2.219609\n",
      "Batch  99 2.275203\n",
      "Batch  149 2.3805895\n",
      "Batch  199 2.3130534\n",
      "Batch  249 2.2453349\n",
      "Batch  299 2.3201854\n",
      "Batch  349 2.1462507\n",
      "Batch  399 2.5014062\n",
      "Batch  449 2.1222138\n"
     ]
    },
    {
     "name": "stderr",
     "output_type": "stream",
     "text": [
      " 10%|██████████████████████                                                                                                                                                                                                                  | 19/200 [05:56<56:30, 18.73s/it]"
     ]
    },
    {
     "name": "stdout",
     "output_type": "stream",
     "text": [
      "[Mean epoch loss] 2.342478\n",
      "[Epoch] 19\n",
      "Batch  49 2.6571698\n",
      "Batch  99 2.1522284\n",
      "Batch  149 2.020953\n",
      "Batch  199 2.378928\n",
      "Batch  249 2.1768086\n",
      "Batch  299 2.388864\n",
      "Batch  349 2.0364642\n",
      "Batch  399 2.2140825\n",
      "Batch  449 2.2065814\n"
     ]
    },
    {
     "name": "stderr",
     "output_type": "stream",
     "text": [
      " 10%|███████████████████████▏                                                                                                                                                                                                                | 20/200 [06:15<56:26, 18.81s/it]"
     ]
    },
    {
     "name": "stdout",
     "output_type": "stream",
     "text": [
      "[Mean epoch loss] 2.311534\n",
      "[Epoch] 20\n",
      "Batch  49 2.1508687\n",
      "Batch  99 2.3537562\n",
      "Batch  149 1.945672\n",
      "Batch  199 2.456022\n",
      "Batch  249 2.7065427\n",
      "Batch  299 2.0171638\n",
      "Batch  349 2.289871\n",
      "Batch  399 2.0905733\n",
      "Batch  449 2.4444804\n"
     ]
    },
    {
     "name": "stderr",
     "output_type": "stream",
     "text": [
      " 10%|████████████████████████▎                                                                                                                                                                                                               | 21/200 [06:35<56:37, 18.98s/it]"
     ]
    },
    {
     "name": "stdout",
     "output_type": "stream",
     "text": [
      "[Mean epoch loss] 2.288939\n",
      "[Epoch] 21\n",
      "Batch  49 2.044045\n",
      "Batch  99 2.1151776\n",
      "Batch  149 2.3127322\n",
      "Batch  199 2.2502801\n",
      "Batch  249 1.9155811\n",
      "Batch  299 2.4107337\n",
      "Batch  349 1.8997818\n",
      "Batch  399 2.6505914\n",
      "Batch  449 2.3331528\n"
     ]
    },
    {
     "name": "stderr",
     "output_type": "stream",
     "text": [
      " 11%|█████████████████████████▌                                                                                                                                                                                                              | 22/200 [06:54<56:46, 19.14s/it]"
     ]
    },
    {
     "name": "stdout",
     "output_type": "stream",
     "text": [
      "[Mean epoch loss] 2.262482\n",
      "[Epoch] 22\n",
      "Batch  49 2.1883938\n",
      "Batch  99 2.3934474\n",
      "Batch  149 2.1978934\n",
      "Batch  199 2.354135\n",
      "Batch  249 2.1787941\n",
      "Batch  299 2.2142434\n",
      "Batch  349 2.1260269\n",
      "Batch  399 2.0700934\n",
      "Batch  449 1.9422622\n"
     ]
    },
    {
     "name": "stderr",
     "output_type": "stream",
     "text": [
      " 12%|██████████████████████████▋                                                                                                                                                                                                             | 23/200 [07:14<56:54, 19.29s/it]"
     ]
    },
    {
     "name": "stdout",
     "output_type": "stream",
     "text": [
      "[Mean epoch loss] 2.237484\n",
      "[Epoch] 23\n",
      "Batch  49 2.2586398\n",
      "Batch  99 2.0349438\n",
      "Batch  149 1.999601\n",
      "Batch  199 1.9327633\n",
      "Batch  249 2.2542367\n",
      "Batch  299 2.235845\n",
      "Batch  349 1.9346766\n",
      "Batch  399 2.3070517\n",
      "Batch  449 2.318549\n"
     ]
    },
    {
     "name": "stderr",
     "output_type": "stream",
     "text": [
      " 12%|███████████████████████████▊                                                                                                                                                                                                            | 24/200 [07:33<56:27, 19.25s/it]"
     ]
    },
    {
     "name": "stdout",
     "output_type": "stream",
     "text": [
      "[Mean epoch loss] 2.216852\n",
      "[Epoch] 24\n",
      "Batch  49 1.9771769\n",
      "Batch  99 1.9965339\n",
      "Batch  149 2.2979877\n",
      "Batch  199 2.5367508\n",
      "Batch  249 2.0565147\n",
      "Batch  299 2.303198\n",
      "Batch  349 2.0825214\n",
      "Batch  399 2.3541973\n",
      "Batch  449 2.314105\n"
     ]
    },
    {
     "name": "stderr",
     "output_type": "stream",
     "text": [
      " 12%|█████████████████████████████                                                                                                                                                                                                           | 25/200 [07:53<56:15, 19.29s/it]"
     ]
    },
    {
     "name": "stdout",
     "output_type": "stream",
     "text": [
      "[Mean epoch loss] 2.195028\n",
      "[Epoch] 25\n",
      "Batch  49 2.0356834\n",
      "Batch  99 2.1332004\n",
      "Batch  149 2.112967\n",
      "Batch  199 2.3052552\n",
      "Batch  249 1.888811\n",
      "Batch  299 2.169761\n",
      "Batch  349 2.104686\n",
      "Batch  399 2.2379582\n",
      "Batch  449 2.5953524\n"
     ]
    },
    {
     "name": "stderr",
     "output_type": "stream",
     "text": [
      " 13%|██████████████████████████████▏                                                                                                                                                                                                         | 26/200 [08:14<57:41, 19.89s/it]"
     ]
    },
    {
     "name": "stdout",
     "output_type": "stream",
     "text": [
      "[Mean epoch loss] 2.175464\n",
      "[Epoch] 26\n",
      "Batch  49 2.259265\n",
      "Batch  99 2.009225\n",
      "Batch  149 2.2052393\n",
      "Batch  199 2.0064864\n",
      "Batch  249 2.2810023\n",
      "Batch  299 2.178085\n",
      "Batch  349 1.88855\n",
      "Batch  399 2.4898217\n",
      "Batch  449 2.3206527\n"
     ]
    },
    {
     "name": "stderr",
     "output_type": "stream",
     "text": [
      " 14%|███████████████████████████████▎                                                                                                                                                                                                        | 27/200 [08:34<58:01, 20.13s/it]"
     ]
    },
    {
     "name": "stdout",
     "output_type": "stream",
     "text": [
      "[Mean epoch loss] 2.158956\n",
      "[Epoch] 27\n",
      "Batch  49 1.9482515\n",
      "Batch  99 2.2267296\n",
      "Batch  149 1.9928702\n",
      "Batch  199 2.1367865\n",
      "Batch  249 2.0844586\n",
      "Batch  299 2.2333012\n",
      "Batch  349 1.9565287\n",
      "Batch  399 2.2117336\n",
      "Batch  449 2.3271947\n"
     ]
    },
    {
     "name": "stderr",
     "output_type": "stream",
     "text": [
      " 14%|████████████████████████████████▍                                                                                                                                                                                                       | 28/200 [08:54<56:45, 19.80s/it]"
     ]
    },
    {
     "name": "stdout",
     "output_type": "stream",
     "text": [
      "[Mean epoch loss] 2.138346\n",
      "[Epoch] 28\n",
      "Batch  49 1.9370776\n",
      "Batch  99 2.091247\n",
      "Batch  149 2.0639381\n",
      "Batch  199 2.0771017\n",
      "Batch  249 2.0394096\n",
      "Batch  299 2.5712044\n",
      "Batch  349 2.2380521\n",
      "Batch  399 2.2141135\n",
      "Batch  449 2.0220804\n"
     ]
    },
    {
     "name": "stderr",
     "output_type": "stream",
     "text": [
      " 14%|█████████████████████████████████▋                                                                                                                                                                                                      | 29/200 [09:14<56:52, 19.96s/it]"
     ]
    },
    {
     "name": "stdout",
     "output_type": "stream",
     "text": [
      "[Mean epoch loss] 2.124521\n",
      "[Epoch] 29\n",
      "Batch  49 1.8007419\n",
      "Batch  99 2.055413\n",
      "Batch  149 1.735581\n",
      "Batch  199 2.091332\n",
      "Batch  249 2.051742\n",
      "Batch  299 2.5416818\n",
      "Batch  349 1.8473778\n",
      "Batch  399 2.3611853\n",
      "Batch  449 2.230463\n"
     ]
    },
    {
     "name": "stderr",
     "output_type": "stream",
     "text": [
      " 15%|██████████████████████████████████▊                                                                                                                                                                                                     | 30/200 [09:33<55:35, 19.62s/it]"
     ]
    },
    {
     "name": "stdout",
     "output_type": "stream",
     "text": [
      "[Mean epoch loss] 2.106866\n",
      "[Epoch] 30\n",
      "Batch  49 2.0960152\n",
      "Batch  99 1.9481498\n",
      "Batch  149 1.7623699\n",
      "Batch  199 1.6644137\n",
      "Batch  249 2.320736\n",
      "Batch  299 2.060871\n",
      "Batch  349 1.9239105\n",
      "Batch  399 2.1736097\n",
      "Batch  449 1.7873327\n"
     ]
    },
    {
     "name": "stderr",
     "output_type": "stream",
     "text": [
      " 16%|███████████████████████████████████▉                                                                                                                                                                                                    | 31/200 [09:52<54:51, 19.47s/it]"
     ]
    },
    {
     "name": "stdout",
     "output_type": "stream",
     "text": [
      "[Mean epoch loss] 2.087718\n",
      "[Epoch] 31\n",
      "Batch  49 2.0273843\n",
      "Batch  99 2.3953176\n",
      "Batch  149 2.4044218\n",
      "Batch  199 1.9526846\n",
      "Batch  249 2.0761013\n",
      "Batch  299 2.1639233\n",
      "Batch  349 1.9430339\n",
      "Batch  399 2.1273162\n",
      "Batch  449 1.9403837\n"
     ]
    },
    {
     "name": "stderr",
     "output_type": "stream",
     "text": [
      " 16%|█████████████████████████████████████                                                                                                                                                                                                   | 32/200 [10:11<54:06, 19.32s/it]"
     ]
    },
    {
     "name": "stdout",
     "output_type": "stream",
     "text": [
      "[Mean epoch loss] 2.075748\n",
      "[Epoch] 32\n",
      "Batch  49 1.9264615\n",
      "Batch  99 2.0757422\n",
      "Batch  149 2.0728748\n",
      "Batch  199 2.2775857\n",
      "Batch  249 2.4890385\n",
      "Batch  299 1.8951389\n",
      "Batch  349 2.1694102\n",
      "Batch  399 1.7788303\n",
      "Batch  449 2.1385257\n"
     ]
    },
    {
     "name": "stderr",
     "output_type": "stream",
     "text": [
      " 16%|██████████████████████████████████████▎                                                                                                                                                                                                 | 33/200 [10:29<53:11, 19.11s/it]"
     ]
    },
    {
     "name": "stdout",
     "output_type": "stream",
     "text": [
      "[Mean epoch loss] 2.060143\n",
      "[Epoch] 33\n",
      "Batch  49 1.9182081\n",
      "Batch  99 1.9127716\n",
      "Batch  149 1.8413064\n",
      "Batch  199 2.118643\n",
      "Batch  249 2.20012\n",
      "Batch  299 1.8680947\n",
      "Batch  349 1.7722917\n",
      "Batch  399 1.8040464\n",
      "Batch  449 2.215016\n"
     ]
    },
    {
     "name": "stderr",
     "output_type": "stream",
     "text": [
      " 17%|███████████████████████████████████████▍                                                                                                                                                                                                | 34/200 [10:49<53:00, 19.16s/it]"
     ]
    },
    {
     "name": "stdout",
     "output_type": "stream",
     "text": [
      "[Mean epoch loss] 2.045867\n",
      "[Epoch] 34\n",
      "Batch  49 2.1997893\n",
      "Batch  99 1.8713496\n",
      "Batch  149 2.0277061\n",
      "Batch  199 2.2508445\n",
      "Batch  249 2.2425914\n",
      "Batch  299 1.7895715\n",
      "Batch  349 2.0191326\n",
      "Batch  399 2.1240869\n",
      "Batch  449 1.994897\n"
     ]
    },
    {
     "name": "stderr",
     "output_type": "stream",
     "text": [
      " 18%|████████████████████████████████████████▌                                                                                                                                                                                               | 35/200 [11:07<52:15, 19.00s/it]"
     ]
    },
    {
     "name": "stdout",
     "output_type": "stream",
     "text": [
      "[Mean epoch loss] 2.036418\n",
      "[Epoch] 35\n",
      "Batch  49 2.033984\n",
      "Batch  99 1.7935455\n",
      "Batch  149 1.8183856\n",
      "Batch  199 1.9415793\n",
      "Batch  249 1.8544619\n",
      "Batch  299 2.3637915\n",
      "Batch  349 2.18445\n",
      "Batch  399 1.8124909\n",
      "Batch  449 1.9286184\n"
     ]
    },
    {
     "name": "stderr",
     "output_type": "stream",
     "text": [
      " 18%|█████████████████████████████████████████▊                                                                                                                                                                                              | 36/200 [11:26<51:57, 19.01s/it]"
     ]
    },
    {
     "name": "stdout",
     "output_type": "stream",
     "text": [
      "[Mean epoch loss] 2.022835\n",
      "[Epoch] 36\n",
      "Batch  49 1.5440199\n",
      "Batch  99 2.2207637\n",
      "Batch  149 2.020732\n",
      "Batch  199 1.9443954\n",
      "Batch  249 1.8612483\n",
      "Batch  299 1.9871938\n",
      "Batch  349 1.8950633\n",
      "Batch  399 2.0736716\n",
      "Batch  449 1.7171613\n"
     ]
    },
    {
     "name": "stderr",
     "output_type": "stream",
     "text": [
      " 18%|██████████████████████████████████████████▉                                                                                                                                                                                             | 37/200 [11:45<51:11, 18.84s/it]"
     ]
    },
    {
     "name": "stdout",
     "output_type": "stream",
     "text": [
      "[Mean epoch loss] 2.009942\n",
      "[Epoch] 37\n",
      "Batch  49 1.806458\n",
      "Batch  99 2.114301\n",
      "Batch  149 1.9595859\n",
      "Batch  199 2.0547972\n",
      "Batch  249 2.3246512\n",
      "Batch  299 2.1491055\n",
      "Batch  349 1.5564604\n",
      "Batch  399 2.1048372\n",
      "Batch  449 1.9872322\n"
     ]
    },
    {
     "name": "stderr",
     "output_type": "stream",
     "text": [
      " 19%|████████████████████████████████████████████                                                                                                                                                                                            | 38/200 [12:02<49:25, 18.31s/it]"
     ]
    },
    {
     "name": "stdout",
     "output_type": "stream",
     "text": [
      "[Mean epoch loss] 2.000707\n",
      "[Epoch] 38\n",
      "Batch  49 1.9669828\n",
      "Batch  99 2.0521224\n",
      "Batch  149 2.0932987\n",
      "Batch  199 1.9778774\n",
      "Batch  249 2.027766\n",
      "Batch  299 1.845208\n",
      "Batch  349 1.73931\n",
      "Batch  399 1.9226458\n",
      "Batch  449 2.004859\n"
     ]
    },
    {
     "name": "stderr",
     "output_type": "stream",
     "text": [
      " 20%|█████████████████████████████████████████████▏                                                                                                                                                                                          | 39/200 [12:19<48:33, 18.10s/it]"
     ]
    },
    {
     "name": "stdout",
     "output_type": "stream",
     "text": [
      "[Mean epoch loss] 1.988551\n",
      "[Epoch] 39\n",
      "Batch  49 1.8226898\n",
      "Batch  99 1.9181887\n",
      "Batch  149 1.8668702\n",
      "Batch  199 2.2232594\n",
      "Batch  249 1.6938393\n",
      "Batch  299 2.0605469\n",
      "Batch  349 2.0057633\n",
      "Batch  399 2.4929729\n",
      "Batch  449 2.1621046\n"
     ]
    },
    {
     "name": "stderr",
     "output_type": "stream",
     "text": [
      " 20%|██████████████████████████████████████████████▍                                                                                                                                                                                         | 40/200 [12:38<48:57, 18.36s/it]"
     ]
    },
    {
     "name": "stdout",
     "output_type": "stream",
     "text": [
      "[Mean epoch loss] 1.980568\n",
      "[Epoch] 40\n",
      "Batch  49 2.1888084\n",
      "Batch  99 1.6519104\n",
      "Batch  149 1.8024569\n",
      "Batch  199 1.67809\n",
      "Batch  249 1.9156561\n",
      "Batch  299 1.6491401\n",
      "Batch  349 2.1720243\n",
      "Batch  399 1.5825516\n",
      "Batch  449 1.9090918\n"
     ]
    },
    {
     "name": "stderr",
     "output_type": "stream",
     "text": [
      " 20%|███████████████████████████████████████████████▌                                                                                                                                                                                        | 41/200 [12:58<49:37, 18.73s/it]"
     ]
    },
    {
     "name": "stdout",
     "output_type": "stream",
     "text": [
      "[Mean epoch loss] 1.970705\n",
      "[Epoch] 41\n",
      "Batch  49 2.184821\n",
      "Batch  99 1.656011\n",
      "Batch  149 2.0211873\n",
      "Batch  199 2.2074451\n",
      "Batch  249 2.053244\n",
      "Batch  299 2.0827765\n",
      "Batch  349 1.742743\n",
      "Batch  399 1.9115531\n",
      "Batch  449 1.8758776\n"
     ]
    },
    {
     "name": "stderr",
     "output_type": "stream",
     "text": [
      " 21%|████████████████████████████████████████████████▋                                                                                                                                                                                       | 42/200 [13:16<48:54, 18.58s/it]"
     ]
    },
    {
     "name": "stdout",
     "output_type": "stream",
     "text": [
      "[Mean epoch loss] 1.957221\n",
      "[Epoch] 42\n",
      "Batch  49 2.1214566\n",
      "Batch  99 1.7492559\n",
      "Batch  149 1.979542\n",
      "Batch  199 1.9043128\n",
      "Batch  249 1.782159\n",
      "Batch  299 1.755572\n",
      "Batch  349 2.09377\n",
      "Batch  399 1.8341042\n",
      "Batch  449 1.8586683\n"
     ]
    },
    {
     "name": "stderr",
     "output_type": "stream",
     "text": [
      " 22%|█████████████████████████████████████████████████▉                                                                                                                                                                                      | 43/200 [13:34<48:01, 18.36s/it]"
     ]
    },
    {
     "name": "stdout",
     "output_type": "stream",
     "text": [
      "[Mean epoch loss] 1.950956\n",
      "[Epoch] 43\n",
      "Batch  49 1.8151649\n",
      "Batch  99 2.009359\n",
      "Batch  149 2.3561249\n",
      "Batch  199 1.9185717\n",
      "Batch  249 1.5119946\n",
      "Batch  299 1.7021626\n",
      "Batch  349 2.1773684\n",
      "Batch  399 1.9906218\n",
      "Batch  449 2.1397953\n"
     ]
    },
    {
     "name": "stderr",
     "output_type": "stream",
     "text": [
      " 22%|███████████████████████████████████████████████████                                                                                                                                                                                     | 44/200 [13:53<47:53, 18.42s/it]"
     ]
    },
    {
     "name": "stdout",
     "output_type": "stream",
     "text": [
      "[Mean epoch loss] 1.935699\n",
      "[Epoch] 44\n",
      "Batch  49 1.8275732\n",
      "Batch  99 1.9785603\n",
      "Batch  149 1.8542246\n",
      "Batch  199 2.0655913\n",
      "Batch  249 1.6870031\n",
      "Batch  299 2.1934633\n",
      "Batch  349 1.9491103\n",
      "Batch  399 1.722138\n",
      "Batch  449 1.9595373\n"
     ]
    },
    {
     "name": "stderr",
     "output_type": "stream",
     "text": [
      " 22%|████████████████████████████████████████████████████▏                                                                                                                                                                                   | 45/200 [14:10<46:50, 18.13s/it]"
     ]
    },
    {
     "name": "stdout",
     "output_type": "stream",
     "text": [
      "[Mean epoch loss] 1.932232\n",
      "[Epoch] 45\n",
      "Batch  49 2.0243914\n",
      "Batch  99 2.0252733\n",
      "Batch  149 2.139135\n",
      "Batch  199 1.7312262\n",
      "Batch  249 1.7527624\n",
      "Batch  299 1.8341168\n",
      "Batch  349 1.8657209\n",
      "Batch  399 2.330616\n",
      "Batch  449 2.0482779\n"
     ]
    },
    {
     "name": "stderr",
     "output_type": "stream",
     "text": [
      " 23%|█████████████████████████████████████████████████████▎                                                                                                                                                                                  | 46/200 [14:28<46:29, 18.11s/it]"
     ]
    },
    {
     "name": "stdout",
     "output_type": "stream",
     "text": [
      "[Mean epoch loss] 1.919649\n",
      "[Epoch] 46\n",
      "Batch  49 2.1996949\n",
      "Batch  99 1.6488233\n",
      "Batch  149 2.041313\n",
      "Batch  199 1.6397161\n",
      "Batch  249 1.8326025\n",
      "Batch  299 1.99667\n",
      "Batch  349 1.9071617\n",
      "Batch  399 2.007279\n",
      "Batch  449 1.5667624\n"
     ]
    },
    {
     "name": "stderr",
     "output_type": "stream",
     "text": [
      " 24%|██████████████████████████████████████████████████████▌                                                                                                                                                                                 | 47/200 [14:45<45:24, 17.81s/it]"
     ]
    },
    {
     "name": "stdout",
     "output_type": "stream",
     "text": [
      "[Mean epoch loss] 1.912164\n",
      "[Epoch] 47\n",
      "Batch  49 1.9100807\n",
      "Batch  99 1.5797842\n",
      "Batch  149 1.960238\n",
      "Batch  199 2.0379636\n",
      "Batch  249 1.7920305\n",
      "Batch  299 2.0113685\n",
      "Batch  349 2.2165384\n",
      "Batch  399 1.7957916\n",
      "Batch  449 1.7928711\n"
     ]
    },
    {
     "name": "stderr",
     "output_type": "stream",
     "text": [
      " 24%|███████████████████████████████████████████████████████▋                                                                                                                                                                                | 48/200 [15:03<45:02, 17.78s/it]"
     ]
    },
    {
     "name": "stdout",
     "output_type": "stream",
     "text": [
      "[Mean epoch loss] 1.904301\n",
      "[Epoch] 48\n",
      "Batch  49 1.9132233\n",
      "Batch  99 1.5936353\n",
      "Batch  149 1.5633868\n",
      "Batch  199 2.1942923\n",
      "Batch  249 1.9391901\n",
      "Batch  299 1.7768545\n",
      "Batch  349 2.0410643\n",
      "Batch  399 1.8814719\n",
      "Batch  449 2.1013598\n"
     ]
    },
    {
     "name": "stderr",
     "output_type": "stream",
     "text": [
      " 24%|████████████████████████████████████████████████████████▊                                                                                                                                                                               | 49/200 [15:20<43:58, 17.47s/it]"
     ]
    },
    {
     "name": "stdout",
     "output_type": "stream",
     "text": [
      "[Mean epoch loss] 1.895999\n",
      "[Epoch] 49\n",
      "Batch  49 1.6660919\n",
      "Batch  99 1.6029576\n",
      "Batch  149 1.9023533\n",
      "Batch  199 1.8777226\n",
      "Batch  249 1.9348656\n",
      "Batch  299 1.7477579\n",
      "Batch  349 1.6481128\n",
      "Batch  399 1.6712825\n",
      "Batch  449 2.0702248\n"
     ]
    },
    {
     "name": "stderr",
     "output_type": "stream",
     "text": [
      " 25%|██████████████████████████████████████████████████████████                                                                                                                                                                              | 50/200 [15:37<43:20, 17.34s/it]"
     ]
    },
    {
     "name": "stdout",
     "output_type": "stream",
     "text": [
      "[Mean epoch loss] 1.890876\n",
      "[Epoch] 50\n",
      "Batch  49 2.0297384\n",
      "Batch  99 1.9520429\n",
      "Batch  149 1.9205904\n",
      "Batch  199 1.6328413\n",
      "Batch  249 1.9700339\n",
      "Batch  299 2.030279\n",
      "Batch  349 1.849478\n",
      "Batch  399 1.8867974\n",
      "Batch  449 2.152802\n"
     ]
    },
    {
     "name": "stderr",
     "output_type": "stream",
     "text": [
      " 26%|███████████████████████████████████████████████████████████▏                                                                                                                                                                            | 51/200 [15:55<43:31, 17.53s/it]"
     ]
    },
    {
     "name": "stdout",
     "output_type": "stream",
     "text": [
      "[Mean epoch loss] 1.880485\n",
      "[Epoch] 51\n",
      "Batch  49 1.9381044\n",
      "Batch  99 2.0118937\n",
      "Batch  149 1.8525903\n",
      "Batch  199 1.5595111\n",
      "Batch  249 2.2218788\n",
      "Batch  299 1.7563541\n",
      "Batch  349 1.7845602\n",
      "Batch  399 2.00839\n",
      "Batch  449 2.1954093\n"
     ]
    },
    {
     "name": "stderr",
     "output_type": "stream",
     "text": [
      " 26%|████████████████████████████████████████████████████████████▎                                                                                                                                                                           | 52/200 [16:12<43:00, 17.44s/it]"
     ]
    },
    {
     "name": "stdout",
     "output_type": "stream",
     "text": [
      "[Mean epoch loss] 1.873985\n",
      "[Epoch] 52\n",
      "Batch  49 2.0056522\n",
      "Batch  99 2.0928442\n",
      "Batch  149 1.7144327\n",
      "Batch  199 1.8180795\n",
      "Batch  249 2.0729485\n",
      "Batch  299 1.7378739\n",
      "Batch  349 1.6001453\n",
      "Batch  399 1.660744\n",
      "Batch  449 1.8133576\n"
     ]
    },
    {
     "name": "stderr",
     "output_type": "stream",
     "text": [
      " 26%|█████████████████████████████████████████████████████████████▍                                                                                                                                                                          | 53/200 [16:30<43:01, 17.56s/it]"
     ]
    },
    {
     "name": "stdout",
     "output_type": "stream",
     "text": [
      "[Mean epoch loss] 1.868920\n",
      "[Epoch] 53\n",
      "Batch  49 1.6504633\n",
      "Batch  99 1.778883\n",
      "Batch  149 2.0778117\n",
      "Batch  199 2.106736\n",
      "Batch  249 1.9542103\n",
      "Batch  299 1.9258138\n",
      "Batch  349 1.8055074\n",
      "Batch  399 1.6705775\n",
      "Batch  449 2.0427954\n"
     ]
    },
    {
     "name": "stderr",
     "output_type": "stream",
     "text": [
      " 27%|██████████████████████████████████████████████████████████████▋                                                                                                                                                                         | 54/200 [16:47<42:33, 17.49s/it]"
     ]
    },
    {
     "name": "stdout",
     "output_type": "stream",
     "text": [
      "[Mean epoch loss] 1.864356\n",
      "[Epoch] 54\n",
      "Batch  49 2.1911614\n",
      "Batch  99 1.8922809\n",
      "Batch  149 2.0343857\n",
      "Batch  199 1.935188\n",
      "Batch  249 1.8080792\n",
      "Batch  299 1.7147839\n",
      "Batch  349 1.6489756\n",
      "Batch  399 1.8182571\n",
      "Batch  449 1.8266662\n"
     ]
    },
    {
     "name": "stderr",
     "output_type": "stream",
     "text": [
      " 28%|███████████████████████████████████████████████████████████████▊                                                                                                                                                                        | 55/200 [17:06<43:17, 17.91s/it]"
     ]
    },
    {
     "name": "stdout",
     "output_type": "stream",
     "text": [
      "[Mean epoch loss] 1.855864\n",
      "[Epoch] 55\n",
      "Batch  49 1.799491\n",
      "Batch  99 2.29118\n",
      "Batch  149 1.6878653\n",
      "Batch  199 1.5363927\n",
      "Batch  249 1.7259686\n",
      "Batch  299 1.8142165\n",
      "Batch  349 1.7977519\n",
      "Batch  399 2.1470113\n",
      "Batch  449 1.6755235\n"
     ]
    },
    {
     "name": "stderr",
     "output_type": "stream",
     "text": [
      " 28%|████████████████████████████████████████████████████████████████▉                                                                                                                                                                       | 56/200 [17:26<44:34, 18.58s/it]"
     ]
    },
    {
     "name": "stdout",
     "output_type": "stream",
     "text": [
      "[Mean epoch loss] 1.847857\n",
      "[Epoch] 56\n",
      "Batch  49 1.6838616\n",
      "Batch  99 1.7050331\n",
      "Batch  149 1.7880712\n",
      "Batch  199 2.036309\n",
      "Batch  249 1.8050301\n",
      "Batch  299 2.0980635\n",
      "Batch  349 1.9871662\n",
      "Batch  399 1.6334755\n",
      "Batch  449 1.7024378\n"
     ]
    },
    {
     "name": "stderr",
     "output_type": "stream",
     "text": [
      " 28%|██████████████████████████████████████████████████████████████████                                                                                                                                                                      | 57/200 [17:45<44:09, 18.52s/it]"
     ]
    },
    {
     "name": "stdout",
     "output_type": "stream",
     "text": [
      "[Mean epoch loss] 1.843201\n",
      "[Epoch] 57\n",
      "Batch  49 1.8479683\n",
      "Batch  99 1.458981\n",
      "Batch  149 1.9046392\n",
      "Batch  199 1.7814019\n",
      "Batch  249 1.6430805\n",
      "Batch  299 2.2033796\n",
      "Batch  349 1.8580765\n",
      "Batch  399 1.5149865\n",
      "Batch  449 2.1603346\n"
     ]
    },
    {
     "name": "stderr",
     "output_type": "stream",
     "text": [
      " 29%|███████████████████████████████████████████████████████████████████▎                                                                                                                                                                    | 58/200 [18:03<43:35, 18.42s/it]"
     ]
    },
    {
     "name": "stdout",
     "output_type": "stream",
     "text": [
      "[Mean epoch loss] 1.834252\n",
      "[Epoch] 58\n",
      "Batch  49 2.068256\n",
      "Batch  99 1.7342453\n",
      "Batch  149 1.9313508\n",
      "Batch  199 2.0260267\n",
      "Batch  249 1.6956073\n",
      "Batch  299 2.1637363\n",
      "Batch  349 2.0115263\n",
      "Batch  399 1.918038\n",
      "Batch  449 1.7939597\n"
     ]
    },
    {
     "name": "stderr",
     "output_type": "stream",
     "text": [
      " 30%|████████████████████████████████████████████████████████████████████▍                                                                                                                                                                   | 59/200 [18:21<43:02, 18.32s/it]"
     ]
    },
    {
     "name": "stdout",
     "output_type": "stream",
     "text": [
      "[Mean epoch loss] 1.830813\n",
      "[Epoch] 59\n",
      "Batch  49 1.589385\n",
      "Batch  99 1.9376972\n",
      "Batch  149 2.134389\n",
      "Batch  199 1.8084126\n",
      "Batch  249 1.5387785\n",
      "Batch  299 1.7793984\n",
      "Batch  349 2.089172\n",
      "Batch  399 1.9277678\n",
      "Batch  449 1.463223\n"
     ]
    },
    {
     "name": "stderr",
     "output_type": "stream",
     "text": [
      " 30%|█████████████████████████████████████████████████████████████████████▌                                                                                                                                                                  | 60/200 [18:38<41:41, 17.87s/it]"
     ]
    },
    {
     "name": "stdout",
     "output_type": "stream",
     "text": [
      "[Mean epoch loss] 1.824534\n",
      "[Epoch] 60\n",
      "Batch  49 1.7681489\n",
      "Batch  99 1.8123646\n",
      "Batch  149 1.7355058\n",
      "Batch  199 1.9182054\n",
      "Batch  249 1.935106\n",
      "Batch  299 1.8454081\n",
      "Batch  349 1.7776699\n",
      "Batch  399 1.9863727\n",
      "Batch  449 1.7022218\n"
     ]
    },
    {
     "name": "stderr",
     "output_type": "stream",
     "text": [
      " 30%|██████████████████████████████████████████████████████████████████████▊                                                                                                                                                                 | 61/200 [18:53<39:54, 17.23s/it]"
     ]
    },
    {
     "name": "stdout",
     "output_type": "stream",
     "text": [
      "[Mean epoch loss] 1.817712\n",
      "[Epoch] 61\n",
      "Batch  49 1.6807538\n",
      "Batch  99 1.8423042\n",
      "Batch  149 1.7710676\n",
      "Batch  199 1.4776279\n",
      "Batch  249 1.8603402\n",
      "Batch  299 1.7860804\n",
      "Batch  349 1.9735954\n",
      "Batch  399 1.7753251\n",
      "Batch  449 1.8010961\n"
     ]
    },
    {
     "name": "stderr",
     "output_type": "stream",
     "text": [
      " 31%|███████████████████████████████████████████████████████████████████████▉                                                                                                                                                                | 62/200 [19:09<38:24, 16.70s/it]"
     ]
    },
    {
     "name": "stdout",
     "output_type": "stream",
     "text": [
      "[Mean epoch loss] 1.813574\n",
      "[Epoch] 62\n",
      "Batch  49 2.160316\n",
      "Batch  99 1.8130999\n",
      "Batch  149 1.5474031\n",
      "Batch  199 1.8087366\n",
      "Batch  249 1.8741827\n",
      "Batch  299 1.956744\n",
      "Batch  349 1.6467881\n",
      "Batch  399 1.8844259\n",
      "Batch  449 2.1832752\n"
     ]
    },
    {
     "name": "stderr",
     "output_type": "stream",
     "text": [
      " 32%|█████████████████████████████████████████████████████████████████████████                                                                                                                                                               | 63/200 [19:24<37:17, 16.33s/it]"
     ]
    },
    {
     "name": "stdout",
     "output_type": "stream",
     "text": [
      "[Mean epoch loss] 1.807203\n",
      "[Epoch] 63\n",
      "Batch  49 1.7775015\n",
      "Batch  99 1.3822951\n",
      "Batch  149 1.6754799\n",
      "Batch  199 1.9131613\n",
      "Batch  249 2.12041\n",
      "Batch  299 1.9814901\n",
      "Batch  349 1.8837088\n",
      "Batch  399 1.73463\n",
      "Batch  449 2.174554\n"
     ]
    },
    {
     "name": "stderr",
     "output_type": "stream",
     "text": [
      " 32%|██████████████████████████████████████████████████████████████████████████▏                                                                                                                                                             | 64/200 [19:41<37:05, 16.37s/it]"
     ]
    },
    {
     "name": "stdout",
     "output_type": "stream",
     "text": [
      "[Mean epoch loss] 1.800925\n",
      "[Epoch] 64\n",
      "Batch  49 1.6209354\n",
      "Batch  99 1.9318848\n",
      "Batch  149 1.8838644\n",
      "Batch  199 1.7523944\n",
      "Batch  249 1.9350647\n",
      "Batch  299 1.953743\n",
      "Batch  349 2.027835\n",
      "Batch  399 1.4454875\n",
      "Batch  449 1.4633721\n"
     ]
    },
    {
     "name": "stderr",
     "output_type": "stream",
     "text": [
      " 32%|███████████████████████████████████████████████████████████████████████████▍                                                                                                                                                            | 65/200 [19:56<36:07, 16.06s/it]"
     ]
    },
    {
     "name": "stdout",
     "output_type": "stream",
     "text": [
      "[Mean epoch loss] 1.798002\n",
      "[Epoch] 65\n",
      "Batch  49 1.957919\n",
      "Batch  99 1.5891043\n",
      "Batch  149 1.9086558\n",
      "Batch  199 1.8283565\n",
      "Batch  249 1.7417955\n",
      "Batch  299 2.0472527\n",
      "Batch  349 1.9746612\n",
      "Batch  399 1.9504497\n",
      "Batch  449 1.8257486\n"
     ]
    },
    {
     "name": "stderr",
     "output_type": "stream",
     "text": [
      " 33%|████████████████████████████████████████████████████████████████████████████▌                                                                                                                                                           | 66/200 [20:12<35:26, 15.87s/it]"
     ]
    },
    {
     "name": "stdout",
     "output_type": "stream",
     "text": [
      "[Mean epoch loss] 1.793209\n",
      "[Epoch] 66\n",
      "Batch  49 2.114101\n",
      "Batch  99 1.8430145\n",
      "Batch  149 1.3832648\n",
      "Batch  199 1.8502622\n",
      "Batch  249 1.6823004\n",
      "Batch  299 2.1039987\n",
      "Batch  349 1.9171689\n",
      "Batch  399 1.9675527\n",
      "Batch  449 1.701972\n"
     ]
    },
    {
     "name": "stderr",
     "output_type": "stream",
     "text": [
      " 34%|█████████████████████████████████████████████████████████████████████████████▋                                                                                                                                                          | 67/200 [20:27<34:50, 15.72s/it]"
     ]
    },
    {
     "name": "stdout",
     "output_type": "stream",
     "text": [
      "[Mean epoch loss] 1.789547\n",
      "[Epoch] 67\n",
      "Batch  49 1.5365582\n",
      "Batch  99 2.0894325\n",
      "Batch  149 1.5396265\n",
      "Batch  199 1.6423011\n",
      "Batch  249 1.5965866\n",
      "Batch  299 1.9084291\n",
      "Batch  349 1.9772965\n",
      "Batch  399 1.7409618\n",
      "Batch  449 1.7916824\n"
     ]
    },
    {
     "name": "stderr",
     "output_type": "stream",
     "text": [
      " 34%|██████████████████████████████████████████████████████████████████████████████▉                                                                                                                                                         | 68/200 [20:42<34:26, 15.65s/it]"
     ]
    },
    {
     "name": "stdout",
     "output_type": "stream",
     "text": [
      "[Mean epoch loss] 1.784721\n",
      "[Epoch] 68\n",
      "Batch  49 1.7203399\n",
      "Batch  99 1.7629426\n",
      "Batch  149 1.710382\n",
      "Batch  199 1.3284032\n",
      "Batch  249 1.6949718\n",
      "Batch  299 1.7997568\n",
      "Batch  349 1.8543993\n",
      "Batch  399 2.3613658\n",
      "Batch  449 1.9710052\n"
     ]
    },
    {
     "name": "stderr",
     "output_type": "stream",
     "text": [
      " 34%|████████████████████████████████████████████████████████████████████████████████                                                                                                                                                        | 69/200 [20:58<34:22, 15.74s/it]"
     ]
    },
    {
     "name": "stdout",
     "output_type": "stream",
     "text": [
      "[Mean epoch loss] 1.776940\n",
      "[Epoch] 69\n",
      "Batch  49 1.6905081\n",
      "Batch  99 1.604476\n",
      "Batch  149 1.8466702\n",
      "Batch  199 1.8670945\n",
      "Batch  249 1.6423044\n",
      "Batch  299 1.7278053\n",
      "Batch  349 1.9746816\n",
      "Batch  399 1.9061117\n",
      "Batch  449 1.6224785\n"
     ]
    },
    {
     "name": "stderr",
     "output_type": "stream",
     "text": [
      " 35%|█████████████████████████████████████████████████████████████████████████████████▏                                                                                                                                                      | 70/200 [21:14<33:55, 15.66s/it]"
     ]
    },
    {
     "name": "stdout",
     "output_type": "stream",
     "text": [
      "[Mean epoch loss] 1.774514\n",
      "[Epoch] 70\n",
      "Batch  49 1.8218937\n",
      "Batch  99 1.6307998\n",
      "Batch  149 1.4642383\n",
      "Batch  199 1.492445\n",
      "Batch  249 1.6132784\n",
      "Batch  299 1.6448197\n",
      "Batch  349 1.6546972\n",
      "Batch  399 1.8260787\n",
      "Batch  449 1.6696534\n"
     ]
    },
    {
     "name": "stderr",
     "output_type": "stream",
     "text": [
      " 36%|██████████████████████████████████████████████████████████████████████████████████▎                                                                                                                                                     | 71/200 [21:30<33:44, 15.69s/it]"
     ]
    },
    {
     "name": "stdout",
     "output_type": "stream",
     "text": [
      "[Mean epoch loss] 1.772783\n",
      "[Epoch] 71\n",
      "Batch  49 1.5270143\n",
      "Batch  99 1.6535311\n",
      "Batch  149 1.5733587\n",
      "Batch  199 1.5353277\n",
      "Batch  249 1.9103869\n",
      "Batch  299 1.7472974\n",
      "Batch  349 1.5693802\n",
      "Batch  399 1.7949029\n",
      "Batch  449 2.2159352\n"
     ]
    },
    {
     "name": "stderr",
     "output_type": "stream",
     "text": [
      " 36%|███████████████████████████████████████████████████████████████████████████████████▌                                                                                                                                                    | 72/200 [21:45<33:21, 15.63s/it]"
     ]
    },
    {
     "name": "stdout",
     "output_type": "stream",
     "text": [
      "[Mean epoch loss] 1.763836\n",
      "[Epoch] 72\n",
      "Batch  49 2.0476143\n",
      "Batch  99 1.7990785\n",
      "Batch  149 1.8195027\n",
      "Batch  199 1.5469464\n",
      "Batch  249 1.5985606\n",
      "Batch  299 1.3160342\n",
      "Batch  349 1.8250862\n",
      "Batch  399 1.4192652\n",
      "Batch  449 1.8524187\n"
     ]
    },
    {
     "name": "stderr",
     "output_type": "stream",
     "text": [
      " 36%|████████████████████████████████████████████████████████████████████████████████████▋                                                                                                                                                   | 73/200 [22:01<33:04, 15.63s/it]"
     ]
    },
    {
     "name": "stdout",
     "output_type": "stream",
     "text": [
      "[Mean epoch loss] 1.762675\n",
      "[Epoch] 73\n",
      "Batch  49 1.732137\n",
      "Batch  99 1.7060905\n",
      "Batch  149 1.7281616\n",
      "Batch  199 1.5373795\n",
      "Batch  249 1.8148427\n",
      "Batch  299 1.8347383\n",
      "Batch  349 1.5934682\n",
      "Batch  399 1.9947531\n",
      "Batch  449 2.0275664\n"
     ]
    },
    {
     "name": "stderr",
     "output_type": "stream",
     "text": [
      " 37%|█████████████████████████████████████████████████████████████████████████████████████▊                                                                                                                                                  | 74/200 [22:16<32:37, 15.54s/it]"
     ]
    },
    {
     "name": "stdout",
     "output_type": "stream",
     "text": [
      "[Mean epoch loss] 1.759232\n",
      "[Epoch] 74\n",
      "Batch  49 1.7076898\n",
      "Batch  99 1.5045561\n",
      "Batch  149 1.6221392\n",
      "Batch  199 1.6104733\n",
      "Batch  249 1.7257973\n",
      "Batch  299 1.4147063\n",
      "Batch  349 1.7750695\n",
      "Batch  399 1.5658088\n",
      "Batch  449 1.7582577\n"
     ]
    },
    {
     "name": "stderr",
     "output_type": "stream",
     "text": [
      " 38%|███████████████████████████████████████████████████████████████████████████████████████                                                                                                                                                 | 75/200 [22:32<32:29, 15.60s/it]"
     ]
    },
    {
     "name": "stdout",
     "output_type": "stream",
     "text": [
      "[Mean epoch loss] 1.754771\n",
      "[Epoch] 75\n",
      "Batch  49 1.7882446\n",
      "Batch  99 1.5107718\n",
      "Batch  149 1.6177231\n",
      "Batch  199 1.8500855\n",
      "Batch  249 1.8493031\n",
      "Batch  299 1.4685373\n",
      "Batch  349 1.8200731\n",
      "Batch  399 1.8853229\n",
      "Batch  449 1.5835831\n"
     ]
    },
    {
     "name": "stderr",
     "output_type": "stream",
     "text": [
      " 38%|████████████████████████████████████████████████████████████████████████████████████████▏                                                                                                                                               | 76/200 [22:47<32:08, 15.55s/it]"
     ]
    },
    {
     "name": "stdout",
     "output_type": "stream",
     "text": [
      "[Mean epoch loss] 1.752979\n",
      "[Epoch] 76\n",
      "Batch  49 1.75121\n",
      "Batch  99 1.5751119\n",
      "Batch  149 1.8302057\n",
      "Batch  199 1.6735474\n",
      "Batch  249 2.1386971\n",
      "Batch  299 1.8290901\n",
      "Batch  349 1.5191412\n",
      "Batch  399 1.6232412\n",
      "Batch  449 1.672219\n"
     ]
    },
    {
     "name": "stderr",
     "output_type": "stream",
     "text": [
      " 38%|█████████████████████████████████████████████████████████████████████████████████████████▎                                                                                                                                              | 77/200 [23:03<31:49, 15.53s/it]"
     ]
    },
    {
     "name": "stdout",
     "output_type": "stream",
     "text": [
      "[Mean epoch loss] 1.743143\n",
      "[Epoch] 77\n",
      "Batch  49 1.4840893\n",
      "Batch  99 1.7793177\n",
      "Batch  149 1.9253795\n",
      "Batch  199 1.6573162\n",
      "Batch  249 1.646271\n",
      "Batch  299 1.6295617\n",
      "Batch  349 1.6939375\n",
      "Batch  399 1.5326595\n",
      "Batch  449 2.1232162\n"
     ]
    },
    {
     "name": "stderr",
     "output_type": "stream",
     "text": [
      " 39%|██████████████████████████████████████████████████████████████████████████████████████████▍                                                                                                                                             | 78/200 [23:18<31:31, 15.50s/it]"
     ]
    },
    {
     "name": "stdout",
     "output_type": "stream",
     "text": [
      "[Mean epoch loss] 1.739631\n",
      "[Epoch] 78\n",
      "Batch  49 1.6989013\n",
      "Batch  99 1.5952916\n",
      "Batch  149 1.8091552\n",
      "Batch  199 1.8479855\n",
      "Batch  249 1.8172026\n",
      "Batch  299 1.7907586\n",
      "Batch  349 1.844965\n",
      "Batch  399 1.9096489\n",
      "Batch  449 1.627725\n"
     ]
    },
    {
     "name": "stderr",
     "output_type": "stream",
     "text": [
      " 40%|███████████████████████████████████████████████████████████████████████████████████████████▋                                                                                                                                            | 79/200 [23:34<31:22, 15.56s/it]"
     ]
    },
    {
     "name": "stdout",
     "output_type": "stream",
     "text": [
      "[Mean epoch loss] 1.742417\n",
      "[Epoch] 79\n",
      "Batch  49 1.9051728\n",
      "Batch  99 1.4338522\n",
      "Batch  149 1.6469455\n",
      "Batch  199 1.6261144\n",
      "Batch  249 2.0979755\n",
      "Batch  299 1.408121\n",
      "Batch  349 1.30126\n",
      "Batch  399 1.5978559\n",
      "Batch  449 1.6480198\n"
     ]
    },
    {
     "name": "stderr",
     "output_type": "stream",
     "text": [
      " 40%|████████████████████████████████████████████████████████████████████████████████████████████▊                                                                                                                                           | 80/200 [23:50<31:16, 15.63s/it]"
     ]
    },
    {
     "name": "stdout",
     "output_type": "stream",
     "text": [
      "[Mean epoch loss] 1.736685\n",
      "[Epoch] 80\n",
      "Batch  49 2.118259\n",
      "Batch  99 1.6075401\n",
      "Batch  149 1.6035872\n",
      "Batch  199 1.5153877\n",
      "Batch  249 1.8565139\n",
      "Batch  299 1.5479846\n",
      "Batch  349 1.5152977\n",
      "Batch  399 1.6056008\n",
      "Batch  449 1.7675452\n"
     ]
    },
    {
     "name": "stderr",
     "output_type": "stream",
     "text": [
      " 40%|█████████████████████████████████████████████████████████████████████████████████████████████▉                                                                                                                                          | 81/200 [24:05<30:56, 15.60s/it]"
     ]
    },
    {
     "name": "stdout",
     "output_type": "stream",
     "text": [
      "[Mean epoch loss] 1.732524\n",
      "[Epoch] 81\n",
      "Batch  49 1.766367\n",
      "Batch  99 1.6112458\n",
      "Batch  149 1.8351201\n",
      "Batch  199 2.0312603\n",
      "Batch  249 2.0210462\n",
      "Batch  299 1.4222612\n",
      "Batch  349 1.8683312\n",
      "Batch  399 1.9639943\n",
      "Batch  449 1.597843\n"
     ]
    },
    {
     "name": "stderr",
     "output_type": "stream",
     "text": [
      " 41%|███████████████████████████████████████████████████████████████████████████████████████████████                                                                                                                                         | 82/200 [24:21<30:44, 15.63s/it]"
     ]
    },
    {
     "name": "stdout",
     "output_type": "stream",
     "text": [
      "[Mean epoch loss] 1.728592\n",
      "[Epoch] 82\n",
      "Batch  49 1.3776802\n",
      "Batch  99 1.7619028\n",
      "Batch  149 1.3788412\n",
      "Batch  199 1.749167\n",
      "Batch  249 1.9209794\n",
      "Batch  299 1.7776145\n",
      "Batch  349 2.074506\n",
      "Batch  399 1.742072\n",
      "Batch  449 1.8222141\n"
     ]
    },
    {
     "name": "stderr",
     "output_type": "stream",
     "text": [
      " 42%|████████████████████████████████████████████████████████████████████████████████████████████████▎                                                                                                                                       | 83/200 [24:37<30:31, 15.66s/it]"
     ]
    },
    {
     "name": "stdout",
     "output_type": "stream",
     "text": [
      "[Mean epoch loss] 1.726148\n",
      "[Epoch] 83\n",
      "Batch  49 1.4526675\n",
      "Batch  99 1.5326214\n",
      "Batch  149 1.9649687\n",
      "Batch  199 1.5528667\n",
      "Batch  249 1.2261012\n",
      "Batch  299 1.8460878\n",
      "Batch  349 1.5912457\n",
      "Batch  399 2.071192\n",
      "Batch  449 1.6854191\n"
     ]
    },
    {
     "name": "stderr",
     "output_type": "stream",
     "text": [
      " 42%|█████████████████████████████████████████████████████████████████████████████████████████████████▍                                                                                                                                      | 84/200 [24:52<30:18, 15.67s/it]"
     ]
    },
    {
     "name": "stdout",
     "output_type": "stream",
     "text": [
      "[Mean epoch loss] 1.723210\n",
      "[Epoch] 84\n",
      "Batch  49 1.5006903\n",
      "Batch  99 1.6124651\n",
      "Batch  149 1.6039543\n",
      "Batch  199 1.7422216\n",
      "Batch  249 1.8484855\n",
      "Batch  299 1.7193211\n",
      "Batch  349 1.5226207\n",
      "Batch  399 1.88698\n",
      "Batch  449 1.6882818\n"
     ]
    },
    {
     "name": "stderr",
     "output_type": "stream",
     "text": [
      " 42%|██████████████████████████████████████████████████████████████████████████████████████████████████▌                                                                                                                                     | 85/200 [25:08<30:01, 15.67s/it]"
     ]
    },
    {
     "name": "stdout",
     "output_type": "stream",
     "text": [
      "[Mean epoch loss] 1.717065\n",
      "[Epoch] 85\n",
      "Batch  49 1.5415311\n",
      "Batch  99 1.6251242\n",
      "Batch  149 1.7397937\n",
      "Batch  199 1.5362833\n",
      "Batch  249 1.736003\n",
      "Batch  299 1.7775493\n",
      "Batch  349 1.5380039\n",
      "Batch  399 1.8810475\n",
      "Batch  449 1.9071074\n"
     ]
    },
    {
     "name": "stderr",
     "output_type": "stream",
     "text": [
      " 43%|███████████████████████████████████████████████████████████████████████████████████████████████████▊                                                                                                                                    | 86/200 [25:23<29:38, 15.60s/it]"
     ]
    },
    {
     "name": "stdout",
     "output_type": "stream",
     "text": [
      "[Mean epoch loss] 1.719393\n",
      "[Epoch] 86\n",
      "Batch  49 1.799559\n",
      "Batch  99 1.6189172\n",
      "Batch  149 1.9212415\n",
      "Batch  199 1.6734396\n",
      "Batch  249 1.8214252\n",
      "Batch  299 1.5898836\n",
      "Batch  349 1.7059689\n",
      "Batch  399 1.7020106\n",
      "Batch  449 1.7284975\n"
     ]
    },
    {
     "name": "stderr",
     "output_type": "stream",
     "text": [
      " 44%|████████████████████████████████████████████████████████████████████████████████████████████████████▉                                                                                                                                   | 87/200 [25:39<29:33, 15.69s/it]"
     ]
    },
    {
     "name": "stdout",
     "output_type": "stream",
     "text": [
      "[Mean epoch loss] 1.712741\n",
      "[Epoch] 87\n",
      "Batch  49 2.0855007\n",
      "Batch  99 1.570651\n",
      "Batch  149 1.6686324\n",
      "Batch  199 1.7436491\n",
      "Batch  249 1.6841366\n",
      "Batch  299 1.6189489\n",
      "Batch  349 1.5517349\n",
      "Batch  399 1.6380632\n",
      "Batch  449 1.6349562\n"
     ]
    },
    {
     "name": "stderr",
     "output_type": "stream",
     "text": [
      " 44%|██████████████████████████████████████████████████████████████████████████████████████████████████████                                                                                                                                  | 88/200 [25:55<29:16, 15.68s/it]"
     ]
    },
    {
     "name": "stdout",
     "output_type": "stream",
     "text": [
      "[Mean epoch loss] 1.711612\n",
      "[Epoch] 88\n",
      "Batch  49 1.5898005\n",
      "Batch  99 1.7132899\n",
      "Batch  149 1.7787002\n",
      "Batch  199 2.1825867\n",
      "Batch  249 1.9138441\n",
      "Batch  299 1.7087054\n",
      "Batch  349 1.6539472\n",
      "Batch  399 1.820489\n",
      "Batch  449 1.6962106\n"
     ]
    },
    {
     "name": "stderr",
     "output_type": "stream",
     "text": [
      " 44%|███████████████████████████████████████████████████████████████████████████████████████████████████████▏                                                                                                                                | 89/200 [26:08<27:27, 14.84s/it]"
     ]
    },
    {
     "name": "stdout",
     "output_type": "stream",
     "text": [
      "[Mean epoch loss] 1.705879\n",
      "[Epoch] 89\n",
      "Batch  49 1.4695446\n",
      "Batch  99 1.5345919\n",
      "Batch  149 1.8583863\n",
      "Batch  199 1.7022313\n",
      "Batch  249 1.679939\n",
      "Batch  299 1.7410086\n",
      "Batch  349 1.5715951\n",
      "Batch  399 1.6868256\n",
      "Batch  449 1.882904\n"
     ]
    },
    {
     "name": "stderr",
     "output_type": "stream",
     "text": [
      " 45%|████████████████████████████████████████████████████████████████████████████████████████████████████████▍                                                                                                                               | 90/200 [26:23<27:20, 14.91s/it]"
     ]
    },
    {
     "name": "stdout",
     "output_type": "stream",
     "text": [
      "[Mean epoch loss] 1.706460\n",
      "[Epoch] 90\n",
      "Batch  49 1.7597681\n",
      "Batch  99 1.7145622\n",
      "Batch  149 1.3186115\n",
      "Batch  199 1.5970469\n",
      "Batch  249 1.8241999\n",
      "Batch  299 1.8504169\n",
      "Batch  349 1.665566\n",
      "Batch  399 1.6849866\n",
      "Batch  449 1.6763284\n"
     ]
    },
    {
     "name": "stderr",
     "output_type": "stream",
     "text": [
      " 46%|█████████████████████████████████████████████████████████████████████████████████████████████████████████▌                                                                                                                              | 91/200 [26:39<27:31, 15.15s/it]"
     ]
    },
    {
     "name": "stdout",
     "output_type": "stream",
     "text": [
      "[Mean epoch loss] 1.699307\n",
      "[Epoch] 91\n",
      "Batch  49 1.5703261\n",
      "Batch  99 2.1454349\n",
      "Batch  149 1.5604665\n",
      "Batch  199 1.6786212\n",
      "Batch  249 1.5934985\n",
      "Batch  299 1.6110892\n",
      "Batch  349 1.7296453\n",
      "Batch  399 1.5295417\n",
      "Batch  449 1.6442987\n"
     ]
    },
    {
     "name": "stderr",
     "output_type": "stream",
     "text": [
      " 46%|██████████████████████████████████████████████████████████████████████████████████████████████████████████▋                                                                                                                             | 92/200 [26:54<27:27, 15.25s/it]"
     ]
    },
    {
     "name": "stdout",
     "output_type": "stream",
     "text": [
      "[Mean epoch loss] 1.695757\n",
      "[Epoch] 92\n",
      "Batch  49 1.7596139\n",
      "Batch  99 1.9022046\n",
      "Batch  149 1.4734589\n",
      "Batch  199 1.5198857\n",
      "Batch  249 1.5564356\n",
      "Batch  299 1.9888152\n",
      "Batch  349 1.7560533\n",
      "Batch  399 1.5742171\n",
      "Batch  449 1.6388662\n"
     ]
    },
    {
     "name": "stderr",
     "output_type": "stream",
     "text": [
      " 46%|███████████████████████████████████████████████████████████████████████████████████████████████████████████▉                                                                                                                            | 93/200 [27:08<26:42, 14.97s/it]"
     ]
    },
    {
     "name": "stdout",
     "output_type": "stream",
     "text": [
      "[Mean epoch loss] 1.696922\n",
      "[Epoch] 93\n",
      "Batch  49 1.6835747\n",
      "Batch  99 1.5627725\n",
      "Batch  149 1.6178555\n",
      "Batch  199 1.797278\n",
      "Batch  249 1.875926\n",
      "Batch  299 1.4084643\n",
      "Batch  349 1.7050837\n",
      "Batch  399 1.6204306\n",
      "Batch  449 1.4441184\n"
     ]
    },
    {
     "name": "stderr",
     "output_type": "stream",
     "text": [
      " 47%|█████████████████████████████████████████████████████████████████████████████████████████████████████████████                                                                                                                           | 94/200 [27:21<25:09, 14.24s/it]"
     ]
    },
    {
     "name": "stdout",
     "output_type": "stream",
     "text": [
      "[Mean epoch loss] 1.692517\n",
      "[Epoch] 94\n",
      "Batch  49 1.6688656\n",
      "Batch  99 1.6193651\n",
      "Batch  149 1.7531033\n",
      "Batch  199 1.6302254\n",
      "Batch  249 1.5930868\n",
      "Batch  299 1.4667331\n",
      "Batch  349 1.815424\n",
      "Batch  399 1.5267391\n",
      "Batch  449 1.8255527\n"
     ]
    },
    {
     "name": "stderr",
     "output_type": "stream",
     "text": [
      " 48%|██████████████████████████████████████████████████████████████████████████████████████████████████████████████▏                                                                                                                         | 95/200 [27:35<24:50, 14.20s/it]"
     ]
    },
    {
     "name": "stdout",
     "output_type": "stream",
     "text": [
      "[Mean epoch loss] 1.689913\n",
      "[Epoch] 95\n",
      "Batch  49 2.125946\n",
      "Batch  99 1.9227228\n",
      "Batch  149 1.8433537\n",
      "Batch  199 1.7644775\n",
      "Batch  249 1.5165054\n",
      "Batch  299 1.7114627\n",
      "Batch  349 1.4764609\n",
      "Batch  399 1.8782668\n",
      "Batch  449 1.4275904\n"
     ]
    },
    {
     "name": "stderr",
     "output_type": "stream",
     "text": [
      " 48%|███████████████████████████████████████████████████████████████████████████████████████████████████████████████▎                                                                                                                        | 96/200 [27:50<25:15, 14.58s/it]"
     ]
    },
    {
     "name": "stdout",
     "output_type": "stream",
     "text": [
      "[Mean epoch loss] 1.688870\n",
      "[Epoch] 96\n",
      "Batch  49 1.6034384\n",
      "Batch  99 1.4184623\n",
      "Batch  149 1.6983693\n",
      "Batch  199 2.1502626\n",
      "Batch  249 1.773485\n",
      "Batch  299 1.8422476\n",
      "Batch  349 1.6479161\n",
      "Batch  399 1.6344432\n",
      "Batch  449 1.8200445\n"
     ]
    },
    {
     "name": "stderr",
     "output_type": "stream",
     "text": [
      " 48%|████████████████████████████████████████████████████████████████████████████████████████████████████████████████▌                                                                                                                       | 97/200 [28:06<25:37, 14.93s/it]"
     ]
    },
    {
     "name": "stdout",
     "output_type": "stream",
     "text": [
      "[Mean epoch loss] 1.685959\n",
      "[Epoch] 97\n",
      "Batch  49 1.4408251\n",
      "Batch  99 1.582051\n",
      "Batch  149 1.7860906\n",
      "Batch  199 1.7924564\n",
      "Batch  249 1.511821\n",
      "Batch  299 1.7407488\n",
      "Batch  349 1.4426295\n",
      "Batch  399 1.6404351\n",
      "Batch  449 1.6820011\n"
     ]
    },
    {
     "name": "stderr",
     "output_type": "stream",
     "text": [
      " 49%|█████████████████████████████████████████████████████████████████████████████████████████████████████████████████▋                                                                                                                      | 98/200 [28:22<25:39, 15.09s/it]"
     ]
    },
    {
     "name": "stdout",
     "output_type": "stream",
     "text": [
      "[Mean epoch loss] 1.680742\n",
      "[Epoch] 98\n",
      "Batch  49 1.5300951\n",
      "Batch  99 1.7277377\n",
      "Batch  149 1.4989381\n",
      "Batch  199 1.5703738\n",
      "Batch  249 1.8384427\n",
      "Batch  299 1.5238613\n",
      "Batch  349 1.725415\n",
      "Batch  399 2.039907\n",
      "Batch  449 1.5705174\n"
     ]
    },
    {
     "name": "stderr",
     "output_type": "stream",
     "text": [
      " 50%|██████████████████████████████████████████████████████████████████████████████████████████████████████████████████▊                                                                                                                     | 99/200 [28:37<25:41, 15.26s/it]"
     ]
    },
    {
     "name": "stdout",
     "output_type": "stream",
     "text": [
      "[Mean epoch loss] 1.681276\n",
      "[Epoch] 99\n",
      "Batch  49 1.5963027\n",
      "Batch  99 1.5688767\n",
      "Batch  149 1.6843886\n",
      "Batch  199 1.4615421\n",
      "Batch  249 1.7434877\n",
      "Batch  299 1.3487211\n",
      "Batch  349 1.8580562\n",
      "Batch  399 1.5471735\n",
      "Batch  449 1.6446774\n"
     ]
    },
    {
     "name": "stderr",
     "output_type": "stream",
     "text": [
      " 50%|███████████████████████████████████████████████████████████████████████████████████████████████████████████████████▌                                                                                                                   | 100/200 [28:53<25:37, 15.37s/it]"
     ]
    },
    {
     "name": "stdout",
     "output_type": "stream",
     "text": [
      "[Mean epoch loss] 1.679220\n",
      "[Epoch] 100\n",
      "Batch  49 1.8252205\n",
      "Batch  99 1.6636484\n",
      "Batch  149 1.4482458\n",
      "Batch  199 1.7455031\n",
      "Batch  249 1.4538265\n",
      "Batch  299 1.8714435\n",
      "Batch  349 1.600722\n",
      "Batch  399 1.5126194\n",
      "Batch  449 1.8307106\n"
     ]
    },
    {
     "name": "stderr",
     "output_type": "stream",
     "text": [
      " 50%|████████████████████████████████████████████████████████████████████████████████████████████████████████████████████▋                                                                                                                  | 101/200 [29:09<25:39, 15.55s/it]"
     ]
    },
    {
     "name": "stdout",
     "output_type": "stream",
     "text": [
      "[Mean epoch loss] 1.673755\n",
      "[Epoch] 101\n",
      "Batch  49 1.3711342\n",
      "Batch  99 1.8729595\n",
      "Batch  149 1.7749691\n",
      "Batch  199 1.6670338\n",
      "Batch  249 1.2875983\n",
      "Batch  299 1.6300272\n",
      "Batch  349 1.845267\n",
      "Batch  399 1.4002581\n",
      "Batch  449 1.5438334\n"
     ]
    },
    {
     "name": "stderr",
     "output_type": "stream",
     "text": [
      " 51%|█████████████████████████████████████████████████████████████████████████████████████████████████████████████████████▊                                                                                                                 | 102/200 [29:29<27:25, 16.79s/it]"
     ]
    },
    {
     "name": "stdout",
     "output_type": "stream",
     "text": [
      "[Mean epoch loss] 1.671153\n",
      "[Epoch] 102\n",
      "Batch  49 1.9018121\n",
      "Batch  99 1.7103524\n",
      "Batch  149 1.6959996\n",
      "Batch  199 1.5542036\n",
      "Batch  249 1.4450538\n",
      "Batch  299 1.8774271\n",
      "Batch  349 1.6528254\n",
      "Batch  399 1.4329252\n",
      "Batch  449 1.7574272\n"
     ]
    },
    {
     "name": "stderr",
     "output_type": "stream",
     "text": [
      " 52%|██████████████████████████████████████████████████████████████████████████████████████████████████████████████████████▉                                                                                                                | 103/200 [29:50<29:34, 18.29s/it]"
     ]
    },
    {
     "name": "stdout",
     "output_type": "stream",
     "text": [
      "[Mean epoch loss] 1.673894\n",
      "[Epoch] 103\n",
      "Batch  49 1.7085941\n",
      "Batch  99 1.408398\n",
      "Batch  149 1.6311107\n",
      "Batch  199 1.6083672\n",
      "Batch  249 1.5069351\n",
      "Batch  299 1.6497688\n",
      "Batch  349 1.8319808\n",
      "Batch  399 1.4613093\n",
      "Batch  449 1.7985841\n"
     ]
    },
    {
     "name": "stderr",
     "output_type": "stream",
     "text": [
      " 52%|████████████████████████████████████████████████████████████████████████████████████████████████████████████████████████                                                                                                               | 104/200 [30:13<31:13, 19.52s/it]"
     ]
    },
    {
     "name": "stdout",
     "output_type": "stream",
     "text": [
      "[Mean epoch loss] 1.670768\n",
      "[Epoch] 104\n",
      "Batch  49 1.1830451\n",
      "Batch  99 1.5622755\n",
      "Batch  149 1.8142586\n",
      "Batch  199 1.810829\n",
      "Batch  249 1.7806187\n",
      "Batch  299 1.520349\n",
      "Batch  349 2.0454457\n",
      "Batch  399 1.6493478\n",
      "Batch  449 1.5865359\n"
     ]
    },
    {
     "name": "stderr",
     "output_type": "stream",
     "text": [
      " 52%|█████████████████████████████████████████████████████████████████████████████████████████████████████████████████████████▎                                                                                                             | 105/200 [30:35<32:19, 20.42s/it]"
     ]
    },
    {
     "name": "stdout",
     "output_type": "stream",
     "text": [
      "[Mean epoch loss] 1.664914\n",
      "[Epoch] 105\n",
      "Batch  49 1.2887605\n",
      "Batch  99 1.8361442\n",
      "Batch  149 1.8792063\n",
      "Batch  199 1.7754779\n",
      "Batch  249 1.2627008\n",
      "Batch  299 1.9818926\n",
      "Batch  349 1.6579274\n",
      "Batch  399 1.6268855\n",
      "Batch  449 1.6605979\n"
     ]
    },
    {
     "name": "stderr",
     "output_type": "stream",
     "text": [
      " 53%|██████████████████████████████████████████████████████████████████████████████████████████████████████████████████████████▍                                                                                                            | 106/200 [30:58<32:59, 21.06s/it]"
     ]
    },
    {
     "name": "stdout",
     "output_type": "stream",
     "text": [
      "[Mean epoch loss] 1.663072\n",
      "[Epoch] 106\n",
      "Batch  49 2.0325937\n",
      "Batch  99 1.7453679\n",
      "Batch  149 1.4145162\n",
      "Batch  199 1.4273083\n",
      "Batch  249 1.5325875\n",
      "Batch  299 1.6020662\n",
      "Batch  349 1.9622817\n",
      "Batch  399 1.8506624\n",
      "Batch  449 1.9077159\n"
     ]
    },
    {
     "name": "stderr",
     "output_type": "stream",
     "text": [
      " 54%|███████████████████████████████████████████████████████████████████████████████████████████████████████████████████████████▌                                                                                                           | 107/200 [31:21<33:22, 21.54s/it]"
     ]
    },
    {
     "name": "stdout",
     "output_type": "stream",
     "text": [
      "[Mean epoch loss] 1.663733\n",
      "[Epoch] 107\n",
      "Batch  49 1.6430888\n",
      "Batch  99 1.5896833\n",
      "Batch  149 2.0656328\n",
      "Batch  199 1.8169532\n",
      "Batch  249 1.6684878\n",
      "Batch  299 2.036736\n",
      "Batch  349 1.7328476\n",
      "Batch  399 1.7646008\n",
      "Batch  449 1.9286383\n"
     ]
    },
    {
     "name": "stderr",
     "output_type": "stream",
     "text": [
      " 54%|████████████████████████████████████████████████████████████████████████████████████████████████████████████████████████████▋                                                                                                          | 108/200 [31:43<33:32, 21.88s/it]"
     ]
    },
    {
     "name": "stdout",
     "output_type": "stream",
     "text": [
      "[Mean epoch loss] 1.661630\n",
      "[Epoch] 108\n",
      "Batch  49 1.75271\n",
      "Batch  99 1.5520818\n",
      "Batch  149 1.5355337\n",
      "Batch  199 1.5780053\n",
      "Batch  249 1.5494686\n",
      "Batch  299 1.740641\n",
      "Batch  349 1.7420226\n",
      "Batch  399 1.6066434\n",
      "Batch  449 1.8344388\n"
     ]
    },
    {
     "name": "stderr",
     "output_type": "stream",
     "text": [
      " 55%|█████████████████████████████████████████████████████████████████████████████████████████████████████████████████████████████▉                                                                                                         | 109/200 [32:05<33:17, 21.95s/it]"
     ]
    },
    {
     "name": "stdout",
     "output_type": "stream",
     "text": [
      "[Mean epoch loss] 1.657334\n",
      "[Epoch] 109\n",
      "Batch  49 2.072246\n",
      "Batch  99 1.604639\n",
      "Batch  149 1.8203022\n",
      "Batch  199 1.2167803\n",
      "Batch  249 2.037591\n",
      "Batch  299 1.6454086\n",
      "Batch  349 1.5892417\n",
      "Batch  399 1.698689\n",
      "Batch  449 1.9142693\n"
     ]
    },
    {
     "name": "stderr",
     "output_type": "stream",
     "text": [
      " 55%|███████████████████████████████████████████████████████████████████████████████████████████████████████████████████████████████                                                                                                        | 110/200 [32:28<33:03, 22.04s/it]"
     ]
    },
    {
     "name": "stdout",
     "output_type": "stream",
     "text": [
      "[Mean epoch loss] 1.654583\n",
      "[Epoch] 110\n",
      "Batch  49 1.6134878\n",
      "Batch  99 1.8577895\n",
      "Batch  149 1.6733971\n",
      "Batch  199 1.5221076\n",
      "Batch  249 1.7505044\n",
      "Batch  299 1.6098359\n",
      "Batch  349 1.6778091\n",
      "Batch  399 1.8100345\n",
      "Batch  449 1.5861965\n"
     ]
    },
    {
     "name": "stderr",
     "output_type": "stream",
     "text": [
      " 56%|████████████████████████████████████████████████████████████████████████████████████████████████████████████████████████████████▏                                                                                                      | 111/200 [32:50<32:43, 22.06s/it]"
     ]
    },
    {
     "name": "stdout",
     "output_type": "stream",
     "text": [
      "[Mean epoch loss] 1.657037\n",
      "[Epoch] 111\n",
      "Batch  49 1.4937651\n",
      "Batch  99 1.441412\n",
      "Batch  149 1.7818778\n",
      "Batch  199 1.6921976\n",
      "Batch  249 1.5089934\n",
      "Batch  299 1.2939768\n",
      "Batch  349 1.5369985\n",
      "Batch  399 1.6591167\n",
      "Batch  449 1.4625167\n"
     ]
    },
    {
     "name": "stderr",
     "output_type": "stream",
     "text": [
      " 56%|█████████████████████████████████████████████████████████████████████████████████████████████████████████████████████████████████▎                                                                                                     | 112/200 [33:12<32:36, 22.23s/it]"
     ]
    },
    {
     "name": "stdout",
     "output_type": "stream",
     "text": [
      "[Mean epoch loss] 1.651755\n",
      "[Epoch] 112\n",
      "Batch  49 1.6835644\n",
      "Batch  99 1.5566789\n",
      "Batch  149 1.8369188\n",
      "Batch  199 1.6998763\n",
      "Batch  249 2.0454607\n",
      "Batch  299 1.6233095\n",
      "Batch  349 1.3914344\n",
      "Batch  399 1.4818403\n",
      "Batch  449 1.7122808\n"
     ]
    },
    {
     "name": "stderr",
     "output_type": "stream",
     "text": [
      " 56%|██████████████████████████████████████████████████████████████████████████████████████████████████████████████████████████████████▌                                                                                                    | 113/200 [33:34<32:08, 22.16s/it]"
     ]
    },
    {
     "name": "stdout",
     "output_type": "stream",
     "text": [
      "[Mean epoch loss] 1.649332\n",
      "[Epoch] 113\n",
      "Batch  49 2.0143027\n",
      "Batch  99 1.5372927\n",
      "Batch  149 1.5500951\n",
      "Batch  199 1.8729098\n",
      "Batch  249 1.7034879\n",
      "Batch  299 1.6714103\n",
      "Batch  349 1.8634804\n",
      "Batch  399 1.7378618\n",
      "Batch  449 2.2411666\n"
     ]
    },
    {
     "name": "stderr",
     "output_type": "stream",
     "text": [
      " 57%|███████████████████████████████████████████████████████████████████████████████████████████████████████████████████████████████████▋                                                                                                   | 114/200 [33:57<31:52, 22.23s/it]"
     ]
    },
    {
     "name": "stdout",
     "output_type": "stream",
     "text": [
      "[Mean epoch loss] 1.649030\n",
      "[Epoch] 114\n",
      "Batch  49 1.4781885\n",
      "Batch  99 1.681001\n",
      "Batch  149 1.6736546\n",
      "Batch  199 1.6166034\n",
      "Batch  249 1.7613769\n",
      "Batch  299 1.765437\n",
      "Batch  349 1.561008\n",
      "Batch  399 1.774194\n",
      "Batch  449 1.705076\n"
     ]
    },
    {
     "name": "stderr",
     "output_type": "stream",
     "text": [
      " 57%|████████████████████████████████████████████████████████████████████████████████████████████████████████████████████████████████████▊                                                                                                  | 115/200 [34:20<31:51, 22.49s/it]"
     ]
    },
    {
     "name": "stdout",
     "output_type": "stream",
     "text": [
      "[Mean epoch loss] 1.643675\n",
      "[Epoch] 115\n",
      "Batch  49 1.8240116\n",
      "Batch  99 1.2406477\n",
      "Batch  149 1.675885\n",
      "Batch  199 1.2210394\n",
      "Batch  249 1.6338656\n",
      "Batch  299 1.5427322\n",
      "Batch  349 1.7688276\n",
      "Batch  399 1.5786957\n",
      "Batch  449 1.5937512\n"
     ]
    },
    {
     "name": "stderr",
     "output_type": "stream",
     "text": [
      " 58%|█████████████████████████████████████████████████████████████████████████████████████████████████████████████████████████████████████▉                                                                                                 | 116/200 [34:42<31:15, 22.33s/it]"
     ]
    },
    {
     "name": "stdout",
     "output_type": "stream",
     "text": [
      "[Mean epoch loss] 1.644001\n",
      "[Epoch] 116\n",
      "Batch  49 1.5322249\n",
      "Batch  99 1.8346189\n",
      "Batch  149 1.5320137\n",
      "Batch  199 1.6029023\n",
      "Batch  249 1.7486595\n",
      "Batch  299 1.6293794\n",
      "Batch  349 1.6459364\n",
      "Batch  399 1.7804112\n",
      "Batch  449 1.4740322\n"
     ]
    },
    {
     "name": "stderr",
     "output_type": "stream",
     "text": [
      " 58%|███████████████████████████████████████████████████████████████████████████████████████████████████████████████████████████████████████▏                                                                                               | 117/200 [35:04<30:55, 22.36s/it]"
     ]
    },
    {
     "name": "stdout",
     "output_type": "stream",
     "text": [
      "[Mean epoch loss] 1.644337\n",
      "[Epoch] 117\n",
      "Batch  49 1.5043092\n",
      "Batch  99 1.7644475\n",
      "Batch  149 1.6224146\n",
      "Batch  199 1.4643185\n",
      "Batch  249 1.7338326\n",
      "Batch  299 2.0019975\n",
      "Batch  349 1.596606\n",
      "Batch  399 1.4745643\n",
      "Batch  449 1.7848625\n"
     ]
    },
    {
     "name": "stderr",
     "output_type": "stream",
     "text": [
      " 59%|████████████████████████████████████████████████████████████████████████████████████████████████████████████████████████████████████████▎                                                                                              | 118/200 [35:27<30:38, 22.42s/it]"
     ]
    },
    {
     "name": "stdout",
     "output_type": "stream",
     "text": [
      "[Mean epoch loss] 1.643213\n",
      "[Epoch] 118\n",
      "Batch  49 1.4681559\n",
      "Batch  99 1.2468239\n",
      "Batch  149 1.4378291\n",
      "Batch  199 1.8955503\n",
      "Batch  249 1.5805516\n",
      "Batch  299 1.6902577\n",
      "Batch  349 1.4977252\n",
      "Batch  399 1.7726326\n",
      "Batch  449 1.3846939\n"
     ]
    },
    {
     "name": "stderr",
     "output_type": "stream",
     "text": [
      " 60%|█████████████████████████████████████████████████████████████████████████████████████████████████████████████████████████████████████████▍                                                                                             | 119/200 [35:49<30:09, 22.33s/it]"
     ]
    },
    {
     "name": "stdout",
     "output_type": "stream",
     "text": [
      "[Mean epoch loss] 1.640690\n",
      "[Epoch] 119\n",
      "Batch  49 1.1636208\n",
      "Batch  99 1.6612893\n",
      "Batch  149 1.7489576\n",
      "Batch  199 1.6098326\n",
      "Batch  249 1.4911863\n",
      "Batch  299 1.4041911\n",
      "Batch  349 1.8808129\n",
      "Batch  399 1.7034001\n",
      "Batch  449 1.5388135\n"
     ]
    },
    {
     "name": "stderr",
     "output_type": "stream",
     "text": [
      " 60%|██████████████████████████████████████████████████████████████████████████████████████████████████████████████████████████████████████████▌                                                                                            | 120/200 [36:11<29:46, 22.33s/it]"
     ]
    },
    {
     "name": "stdout",
     "output_type": "stream",
     "text": [
      "[Mean epoch loss] 1.635146\n",
      "[Epoch] 120\n",
      "Batch  49 1.9434284\n",
      "Batch  99 1.7097206\n",
      "Batch  149 1.8051617\n",
      "Batch  199 1.4855425\n",
      "Batch  249 1.401962\n",
      "Batch  299 1.846179\n",
      "Batch  349 1.5298408\n",
      "Batch  399 1.8636212\n",
      "Batch  449 1.6929023\n"
     ]
    },
    {
     "name": "stderr",
     "output_type": "stream",
     "text": [
      " 60%|███████████████████████████████████████████████████████████████████████████████████████████████████████████████████████████████████████████▊                                                                                           | 121/200 [36:33<29:19, 22.27s/it]"
     ]
    },
    {
     "name": "stdout",
     "output_type": "stream",
     "text": [
      "[Mean epoch loss] 1.636420\n",
      "[Epoch] 121\n",
      "Batch  49 1.540035\n",
      "Batch  99 1.7335937\n",
      "Batch  149 1.6636842\n",
      "Batch  199 1.636215\n",
      "Batch  249 1.3837808\n",
      "Batch  299 1.3027406\n",
      "Batch  349 1.5823872\n",
      "Batch  399 1.6265235\n",
      "Batch  449 1.7623163\n"
     ]
    },
    {
     "name": "stderr",
     "output_type": "stream",
     "text": [
      " 61%|████████████████████████████████████████████████████████████████████████████████████████████████████████████████████████████████████████████▉                                                                                          | 122/200 [36:56<29:08, 22.42s/it]"
     ]
    },
    {
     "name": "stdout",
     "output_type": "stream",
     "text": [
      "[Mean epoch loss] 1.633083\n",
      "[Epoch] 122\n",
      "Batch  49 1.6694081\n",
      "Batch  99 1.6483297\n",
      "Batch  149 1.4999925\n",
      "Batch  199 1.6100491\n",
      "Batch  249 1.6493101\n",
      "Batch  299 1.5501071\n",
      "Batch  349 1.5406282\n",
      "Batch  399 1.7053392\n",
      "Batch  449 1.4489295\n"
     ]
    },
    {
     "name": "stderr",
     "output_type": "stream",
     "text": [
      " 62%|██████████████████████████████████████████████████████████████████████████████████████████████████████████████████████████████████████████████                                                                                         | 123/200 [37:18<28:25, 22.15s/it]"
     ]
    },
    {
     "name": "stdout",
     "output_type": "stream",
     "text": [
      "[Mean epoch loss] 1.632148\n",
      "[Epoch] 123\n",
      "Batch  49 1.6340263\n",
      "Batch  99 1.5552447\n",
      "Batch  149 1.2798303\n",
      "Batch  199 1.7309067\n",
      "Batch  249 1.5828838\n",
      "Batch  299 1.495291\n",
      "Batch  349 1.5636508\n",
      "Batch  399 1.7664052\n",
      "Batch  449 1.6235561\n"
     ]
    },
    {
     "name": "stderr",
     "output_type": "stream",
     "text": [
      " 62%|███████████████████████████████████████████████████████████████████████████████████████████████████████████████████████████████████████████████▏                                                                                       | 124/200 [37:40<28:09, 22.23s/it]"
     ]
    },
    {
     "name": "stdout",
     "output_type": "stream",
     "text": [
      "[Mean epoch loss] 1.632199\n",
      "[Epoch] 124\n",
      "Batch  49 1.4388249\n",
      "Batch  99 1.5242193\n",
      "Batch  149 1.6018252\n",
      "Batch  199 1.7161243\n",
      "Batch  249 1.9446836\n",
      "Batch  299 2.0182822\n",
      "Batch  349 1.7546337\n",
      "Batch  399 1.3816974\n",
      "Batch  449 1.7251818\n"
     ]
    },
    {
     "name": "stderr",
     "output_type": "stream",
     "text": [
      " 62%|████████████████████████████████████████████████████████████████████████████████████████████████████████████████████████████████████████████████▍                                                                                      | 125/200 [38:03<27:55, 22.34s/it]"
     ]
    },
    {
     "name": "stdout",
     "output_type": "stream",
     "text": [
      "[Mean epoch loss] 1.631183\n",
      "[Epoch] 125\n",
      "Batch  49 1.6612779\n",
      "Batch  99 1.8714052\n",
      "Batch  149 1.3928738\n",
      "Batch  199 1.8519526\n",
      "Batch  249 1.3192471\n",
      "Batch  299 1.6191338\n",
      "Batch  349 1.5993054\n",
      "Batch  399 2.0457692\n",
      "Batch  449 1.7407303\n"
     ]
    },
    {
     "name": "stderr",
     "output_type": "stream",
     "text": [
      " 63%|█████████████████████████████████████████████████████████████████████████████████████████████████████████████████████████████████████████████████▌                                                                                     | 126/200 [38:25<27:34, 22.36s/it]"
     ]
    },
    {
     "name": "stdout",
     "output_type": "stream",
     "text": [
      "[Mean epoch loss] 1.627396\n",
      "[Epoch] 126\n",
      "Batch  49 1.7933258\n",
      "Batch  99 1.782573\n",
      "Batch  149 1.6855586\n",
      "Batch  199 1.4495473\n",
      "Batch  249 1.942886\n",
      "Batch  299 1.3763472\n",
      "Batch  349 1.9108732\n",
      "Batch  399 1.8623114\n",
      "Batch  449 1.7481287\n"
     ]
    },
    {
     "name": "stderr",
     "output_type": "stream",
     "text": [
      " 64%|██████████████████████████████████████████████████████████████████████████████████████████████████████████████████████████████████████████████████▋                                                                                    | 127/200 [38:47<26:54, 22.12s/it]"
     ]
    },
    {
     "name": "stdout",
     "output_type": "stream",
     "text": [
      "[Mean epoch loss] 1.625867\n",
      "[Epoch] 127\n",
      "Batch  49 1.5214008\n",
      "Batch  99 1.6753743\n",
      "Batch  149 1.5118246\n",
      "Batch  199 1.8461703\n",
      "Batch  249 1.5832149\n",
      "Batch  299 1.5971297\n",
      "Batch  349 1.526666\n",
      "Batch  399 1.528168\n",
      "Batch  449 1.6836618\n"
     ]
    },
    {
     "name": "stderr",
     "output_type": "stream",
     "text": [
      " 64%|███████████████████████████████████████████████████████████████████████████████████████████████████████████████████████████████████████████████████▊                                                                                   | 128/200 [39:14<28:28, 23.73s/it]"
     ]
    },
    {
     "name": "stdout",
     "output_type": "stream",
     "text": [
      "[Mean epoch loss] 1.623764\n",
      "[Epoch] 128\n",
      "Batch  49 1.6209391\n",
      "Batch  99 1.5321194\n",
      "Batch  149 1.503845\n",
      "Batch  199 1.370086\n",
      "Batch  249 1.5215194\n",
      "Batch  299 1.6058092\n",
      "Batch  349 1.5784448\n",
      "Batch  399 1.6373377\n",
      "Batch  449 1.4775809\n"
     ]
    },
    {
     "name": "stderr",
     "output_type": "stream",
     "text": [
      " 64%|████████████████████████████████████████████████████████████████████████████████████████████████████████████████████████████████████████████████████▉                                                                                  | 129/200 [39:40<28:46, 24.31s/it]"
     ]
    },
    {
     "name": "stdout",
     "output_type": "stream",
     "text": [
      "[Mean epoch loss] 1.621446\n",
      "[Epoch] 129\n",
      "Batch  49 1.7488093\n",
      "Batch  99 1.7222462\n",
      "Batch  149 1.3985407\n",
      "Batch  199 1.9918829\n",
      "Batch  249 1.5457509\n",
      "Batch  299 1.8390751\n",
      "Batch  349 1.8649424\n",
      "Batch  399 1.3939544\n",
      "Batch  449 1.4620391\n"
     ]
    },
    {
     "name": "stderr",
     "output_type": "stream",
     "text": [
      " 65%|██████████████████████████████████████████████████████████████████████████████████████████████████████████████████████████████████████████████████████▏                                                                                | 130/200 [40:07<29:23, 25.20s/it]"
     ]
    },
    {
     "name": "stdout",
     "output_type": "stream",
     "text": [
      "[Mean epoch loss] 1.621763\n",
      "[Epoch] 130\n",
      "Batch  49 1.7543824\n",
      "Batch  99 1.8251843\n",
      "Batch  149 1.3381892\n",
      "Batch  199 1.667886\n",
      "Batch  249 1.5180908\n",
      "Batch  299 1.7254834\n",
      "Batch  349 1.6991205\n",
      "Batch  399 1.4232768\n",
      "Batch  449 1.3722935\n"
     ]
    },
    {
     "name": "stderr",
     "output_type": "stream",
     "text": [
      " 66%|███████████████████████████████████████████████████████████████████████████████████████████████████████████████████████████████████████████████████████▎                                                                               | 131/200 [40:28<27:35, 23.99s/it]"
     ]
    },
    {
     "name": "stdout",
     "output_type": "stream",
     "text": [
      "[Mean epoch loss] 1.620142\n",
      "[Epoch] 131\n",
      "Batch  49 1.5785117\n",
      "Batch  99 1.2260288\n",
      "Batch  149 1.2954693\n",
      "Batch  199 1.4055556\n",
      "Batch  249 1.7121674\n",
      "Batch  299 1.868779\n",
      "Batch  349 1.2128034\n",
      "Batch  399 1.7293956\n",
      "Batch  449 1.3810704\n"
     ]
    },
    {
     "name": "stderr",
     "output_type": "stream",
     "text": [
      " 66%|████████████████████████████████████████████████████████████████████████████████████████████████████████████████████████████████████████████████████████▍                                                                              | 132/200 [40:45<24:54, 21.97s/it]"
     ]
    },
    {
     "name": "stdout",
     "output_type": "stream",
     "text": [
      "[Mean epoch loss] 1.619526\n",
      "[Epoch] 132\n",
      "Batch  49 1.5261482\n",
      "Batch  99 1.7185255\n",
      "Batch  149 1.7364761\n",
      "Batch  199 1.72245\n",
      "Batch  249 1.2659345\n",
      "Batch  299 1.6847265\n",
      "Batch  349 1.798507\n",
      "Batch  399 1.6315088\n",
      "Batch  449 1.5889901\n"
     ]
    },
    {
     "name": "stderr",
     "output_type": "stream",
     "text": [
      " 66%|█████████████████████████████████████████████████████████████████████████████████████████████████████████████████████████████████████████████████████████▌                                                                             | 133/200 [41:03<23:10, 20.75s/it]"
     ]
    },
    {
     "name": "stdout",
     "output_type": "stream",
     "text": [
      "[Mean epoch loss] 1.617144\n",
      "[Epoch] 133\n",
      "Batch  49 1.4025604\n",
      "Batch  99 1.6116621\n",
      "Batch  149 1.9886304\n",
      "Batch  199 1.7670939\n",
      "Batch  249 1.5092852\n",
      "Batch  299 2.0483055\n",
      "Batch  349 1.8221478\n",
      "Batch  399 1.6054289\n",
      "Batch  449 1.7240192\n"
     ]
    },
    {
     "name": "stderr",
     "output_type": "stream",
     "text": [
      " 67%|██████████████████████████████████████████████████████████████████████████████████████████████████████████████████████████████████████████████████████████▊                                                                            | 134/200 [41:27<23:46, 21.62s/it]"
     ]
    },
    {
     "name": "stdout",
     "output_type": "stream",
     "text": [
      "[Mean epoch loss] 1.619058\n",
      "[Epoch] 134\n",
      "Batch  49 1.409816\n",
      "Batch  99 1.6312997\n",
      "Batch  149 1.777806\n",
      "Batch  199 1.5862086\n",
      "Batch  249 1.5765052\n",
      "Batch  299 1.6151059\n",
      "Batch  349 1.6816562\n",
      "Batch  399 1.41746\n",
      "Batch  449 1.7267357\n"
     ]
    },
    {
     "name": "stderr",
     "output_type": "stream",
     "text": [
      " 68%|███████████████████████████████████████████████████████████████████████████████████████████████████████████████████████████████████████████████████████████▉                                                                           | 135/200 [41:52<24:26, 22.56s/it]"
     ]
    },
    {
     "name": "stdout",
     "output_type": "stream",
     "text": [
      "[Mean epoch loss] 1.612859\n",
      "[Epoch] 135\n",
      "Batch  49 1.6335754\n",
      "Batch  99 1.638005\n",
      "Batch  149 1.6920688\n",
      "Batch  199 1.5458101\n",
      "Batch  249 1.7231023\n",
      "Batch  299 1.3078768\n",
      "Batch  349 1.1837765\n",
      "Batch  399 1.340461\n",
      "Batch  449 1.5118614\n"
     ]
    },
    {
     "name": "stderr",
     "output_type": "stream",
     "text": [
      " 68%|█████████████████████████████████████████████████████████████████████████████████████████████████████████████████████████████████████████████████████████████                                                                          | 136/200 [42:12<23:12, 21.75s/it]"
     ]
    },
    {
     "name": "stdout",
     "output_type": "stream",
     "text": [
      "[Mean epoch loss] 1.613516\n",
      "[Epoch] 136\n",
      "Batch  49 1.3942893\n",
      "Batch  99 1.3951186\n",
      "Batch  149 1.7019029\n",
      "Batch  199 1.7562823\n",
      "Batch  249 1.372382\n",
      "Batch  299 1.4535196\n",
      "Batch  349 2.0710497\n",
      "Batch  399 1.7038102\n",
      "Batch  449 1.3826222\n"
     ]
    },
    {
     "name": "stderr",
     "output_type": "stream",
     "text": [
      " 68%|██████████████████████████████████████████████████████████████████████████████████████████████████████████████████████████████████████████████████████████████▏                                                                        | 137/200 [42:30<21:38, 20.61s/it]"
     ]
    },
    {
     "name": "stdout",
     "output_type": "stream",
     "text": [
      "[Mean epoch loss] 1.612093\n",
      "[Epoch] 137\n",
      "Batch  49 1.3463352\n",
      "Batch  99 1.5415152\n",
      "Batch  149 1.9069195\n",
      "Batch  199 1.6040933\n",
      "Batch  249 1.682616\n",
      "Batch  299 1.8710964\n",
      "Batch  349 1.4116454\n",
      "Batch  399 1.6752211\n",
      "Batch  449 1.6852727\n"
     ]
    },
    {
     "name": "stderr",
     "output_type": "stream",
     "text": [
      " 69%|███████████████████████████████████████████████████████████████████████████████████████████████████████████████████████████████████████████████████████████████▍                                                                       | 138/200 [42:48<20:36, 19.94s/it]"
     ]
    },
    {
     "name": "stdout",
     "output_type": "stream",
     "text": [
      "[Mean epoch loss] 1.612446\n",
      "[Epoch] 138\n",
      "Batch  49 1.3766115\n",
      "Batch  99 1.5620432\n",
      "Batch  149 1.6971302\n",
      "Batch  199 1.7143763\n",
      "Batch  249 1.7587823\n",
      "Batch  299 1.4679775\n",
      "Batch  349 1.7465171\n",
      "Batch  399 1.5233412\n",
      "Batch  449 1.6051342\n"
     ]
    },
    {
     "name": "stderr",
     "output_type": "stream",
     "text": [
      " 70%|████████████████████████████████████████████████████████████████████████████████████████████████████████████████████████████████████████████████████████████████▌                                                                      | 139/200 [43:12<21:23, 21.03s/it]"
     ]
    },
    {
     "name": "stdout",
     "output_type": "stream",
     "text": [
      "[Mean epoch loss] 1.607887\n",
      "[Epoch] 139\n",
      "Batch  49 1.9830735\n",
      "Batch  99 1.6622292\n",
      "Batch  149 1.6854835\n",
      "Batch  199 1.6903563\n",
      "Batch  249 1.6242807\n",
      "Batch  299 1.5031369\n",
      "Batch  349 1.7052548\n",
      "Batch  399 1.6122649\n",
      "Batch  449 1.5966799\n"
     ]
    },
    {
     "name": "stderr",
     "output_type": "stream",
     "text": [
      " 70%|█████████████████████████████████████████████████████████████████████████████████████████████████████████████████████████████████████████████████████████████████▋                                                                     | 140/200 [43:35<21:45, 21.76s/it]"
     ]
    },
    {
     "name": "stdout",
     "output_type": "stream",
     "text": [
      "[Mean epoch loss] 1.607103\n",
      "[Epoch] 140\n",
      "Batch  49 1.4199288\n",
      "Batch  99 1.3938029\n",
      "Batch  149 1.1742618\n",
      "Batch  199 1.4353848\n",
      "Batch  249 1.5858756\n",
      "Batch  299 1.640037\n",
      "Batch  349 1.4475389\n",
      "Batch  399 1.306695\n",
      "Batch  449 1.6335201\n"
     ]
    },
    {
     "name": "stderr",
     "output_type": "stream",
     "text": [
      " 70%|██████████████████████████████████████████████████████████████████████████████████████████████████████████████████████████████████████████████████████████████████▊                                                                    | 141/200 [43:58<21:47, 22.17s/it]"
     ]
    },
    {
     "name": "stdout",
     "output_type": "stream",
     "text": [
      "[Mean epoch loss] 1.603588\n",
      "[Epoch] 141\n",
      "Batch  49 1.574123\n",
      "Batch  99 1.221371\n",
      "Batch  149 1.6583791\n",
      "Batch  199 1.5832903\n",
      "Batch  249 1.7784078\n",
      "Batch  299 1.4864589\n",
      "Batch  349 1.3365511\n",
      "Batch  399 1.5484762\n",
      "Batch  449 1.7412118\n"
     ]
    },
    {
     "name": "stderr",
     "output_type": "stream",
     "text": [
      " 71%|████████████████████████████████████████████████████████████████████████████████████████████████████████████████████████████████████████████████████████████████████                                                                   | 142/200 [44:22<21:57, 22.71s/it]"
     ]
    },
    {
     "name": "stdout",
     "output_type": "stream",
     "text": [
      "[Mean epoch loss] 1.604675\n",
      "[Epoch] 142\n",
      "Batch  49 1.6347265\n",
      "Batch  99 1.4728913\n",
      "Batch  149 1.6764565\n",
      "Batch  199 1.5467918\n",
      "Batch  249 1.5006135\n",
      "Batch  299 1.6373541\n",
      "Batch  349 1.6826807\n",
      "Batch  399 1.84759\n",
      "Batch  449 1.61611\n"
     ]
    },
    {
     "name": "stderr",
     "output_type": "stream",
     "text": [
      " 72%|█████████████████████████████████████████████████████████████████████████████████████████████████████████████████████████████████████████████████████████████████████▏                                                                 | 143/200 [44:45<21:34, 22.70s/it]"
     ]
    },
    {
     "name": "stdout",
     "output_type": "stream",
     "text": [
      "[Mean epoch loss] 1.605332\n",
      "[Epoch] 143\n",
      "Batch  49 1.6985447\n",
      "Batch  99 1.3796895\n",
      "Batch  149 1.6401284\n",
      "Batch  199 1.741207\n",
      "Batch  249 1.3676914\n",
      "Batch  299 1.6363695\n",
      "Batch  349 1.4918725\n",
      "Batch  399 1.5452654\n",
      "Batch  449 1.2873926\n"
     ]
    },
    {
     "name": "stderr",
     "output_type": "stream",
     "text": [
      " 72%|██████████████████████████████████████████████████████████████████████████████████████████████████████████████████████████████████████████████████████████████████████▎                                                                | 144/200 [45:09<21:32, 23.08s/it]"
     ]
    },
    {
     "name": "stdout",
     "output_type": "stream",
     "text": [
      "[Mean epoch loss] 1.603184\n",
      "[Epoch] 144\n",
      "Batch  49 1.6304429\n",
      "Batch  99 1.5204426\n",
      "Batch  149 1.6547649\n",
      "Batch  199 1.6468414\n",
      "Batch  249 1.3550498\n",
      "Batch  299 1.3071718\n",
      "Batch  349 1.7380428\n",
      "Batch  399 1.8283596\n",
      "Batch  449 1.344754\n"
     ]
    },
    {
     "name": "stderr",
     "output_type": "stream",
     "text": [
      " 72%|███████████████████████████████████████████████████████████████████████████████████████████████████████████████████████████████████████████████████████████████████████▍                                                               | 145/200 [45:32<21:19, 23.26s/it]"
     ]
    },
    {
     "name": "stdout",
     "output_type": "stream",
     "text": [
      "[Mean epoch loss] 1.604352\n",
      "[Epoch] 145\n",
      "Batch  49 1.6529641\n",
      "Batch  99 1.5302855\n",
      "Batch  149 1.5201674\n",
      "Batch  199 1.6748812\n",
      "Batch  249 1.3697776\n",
      "Batch  299 1.3510394\n",
      "Batch  349 1.6196312\n",
      "Batch  399 1.697161\n",
      "Batch  449 1.4526148\n"
     ]
    },
    {
     "name": "stderr",
     "output_type": "stream",
     "text": [
      " 73%|████████████████████████████████████████████████████████████████████████████████████████████████████████████████████████████████████████████████████████████████████████▋                                                              | 146/200 [45:56<21:00, 23.34s/it]"
     ]
    },
    {
     "name": "stdout",
     "output_type": "stream",
     "text": [
      "[Mean epoch loss] 1.596854\n",
      "[Epoch] 146\n",
      "Batch  49 1.7610528\n",
      "Batch  99 1.5234398\n",
      "Batch  149 1.6398572\n",
      "Batch  199 1.7684836\n",
      "Batch  249 1.4672781\n",
      "Batch  299 1.5359743\n",
      "Batch  349 1.4093157\n",
      "Batch  399 1.8221941\n",
      "Batch  449 1.3698022\n"
     ]
    },
    {
     "name": "stderr",
     "output_type": "stream",
     "text": [
      " 74%|█████████████████████████████████████████████████████████████████████████████████████████████████████████████████████████████████████████████████████████████████████████▊                                                             | 147/200 [46:19<20:35, 23.32s/it]"
     ]
    },
    {
     "name": "stdout",
     "output_type": "stream",
     "text": [
      "[Mean epoch loss] 1.596933\n",
      "[Epoch] 147\n",
      "Batch  49 1.328893\n",
      "Batch  99 1.514898\n",
      "Batch  149 1.4560677\n",
      "Batch  199 1.2163429\n",
      "Batch  249 1.3379762\n",
      "Batch  299 2.0208917\n",
      "Batch  349 1.5439432\n",
      "Batch  399 1.8946419\n",
      "Batch  449 1.4791889\n"
     ]
    },
    {
     "name": "stderr",
     "output_type": "stream",
     "text": [
      " 74%|██████████████████████████████████████████████████████████████████████████████████████████████████████████████████████████████████████████████████████████████████████████▉                                                            | 148/200 [46:43<20:20, 23.46s/it]"
     ]
    },
    {
     "name": "stdout",
     "output_type": "stream",
     "text": [
      "[Mean epoch loss] 1.599058\n",
      "[Epoch] 148\n",
      "Batch  49 1.486772\n",
      "Batch  99 1.5901666\n",
      "Batch  149 1.6600897\n",
      "Batch  199 1.4451354\n",
      "Batch  249 1.9950368\n",
      "Batch  299 1.3849297\n",
      "Batch  349 1.3776325\n",
      "Batch  399 1.7126342\n",
      "Batch  449 1.7198477\n"
     ]
    },
    {
     "name": "stderr",
     "output_type": "stream",
     "text": [
      " 74%|████████████████████████████████████████████████████████████████████████████████████████████████████████████████████████████████████████████████████████████████████████████                                                           | 149/200 [47:07<20:03, 23.59s/it]"
     ]
    },
    {
     "name": "stdout",
     "output_type": "stream",
     "text": [
      "[Mean epoch loss] 1.595731\n",
      "[Epoch] 149\n",
      "Batch  49 1.6944284\n",
      "Batch  99 1.5707207\n",
      "Batch  149 1.2977467\n",
      "Batch  199 1.4424349\n",
      "Batch  249 1.4856437\n",
      "Batch  299 1.6664959\n",
      "Batch  349 1.9634753\n",
      "Batch  399 1.3439056\n",
      "Batch  449 1.6876012\n"
     ]
    },
    {
     "name": "stderr",
     "output_type": "stream",
     "text": [
      " 75%|█████████████████████████████████████████████████████████████████████████████████████████████████████████████████████████████████████████████████████████████████████████████▎                                                         | 150/200 [47:30<19:33, 23.48s/it]"
     ]
    },
    {
     "name": "stdout",
     "output_type": "stream",
     "text": [
      "[Mean epoch loss] 1.598112\n",
      "[Epoch] 150\n",
      "Batch  49 1.6445385\n",
      "Batch  99 1.6944406\n",
      "Batch  149 1.8487065\n",
      "Batch  199 1.3533705\n",
      "Batch  249 1.6468854\n",
      "Batch  299 1.4023497\n",
      "Batch  349 1.3283176\n",
      "Batch  399 1.6152209\n",
      "Batch  449 1.9424105\n"
     ]
    },
    {
     "name": "stderr",
     "output_type": "stream",
     "text": [
      " 76%|██████████████████████████████████████████████████████████████████████████████████████████████████████████████████████████████████████████████████████████████████████████████▍                                                        | 151/200 [47:53<19:09, 23.45s/it]"
     ]
    },
    {
     "name": "stdout",
     "output_type": "stream",
     "text": [
      "[Mean epoch loss] 1.595116\n",
      "[Epoch] 151\n",
      "Batch  49 1.7868526\n",
      "Batch  99 1.7349042\n",
      "Batch  149 1.588412\n",
      "Batch  199 1.902318\n",
      "Batch  249 1.9578271\n",
      "Batch  299 1.7109611\n",
      "Batch  349 1.5532278\n",
      "Batch  399 1.3008416\n",
      "Batch  449 1.7894638\n"
     ]
    },
    {
     "name": "stderr",
     "output_type": "stream",
     "text": [
      " 76%|███████████████████████████████████████████████████████████████████████████████████████████████████████████████████████████████████████████████████████████████████████████████▌                                                       | 152/200 [48:17<18:53, 23.61s/it]"
     ]
    },
    {
     "name": "stdout",
     "output_type": "stream",
     "text": [
      "[Mean epoch loss] 1.596316\n",
      "[Epoch] 152\n",
      "Batch  49 1.6153512\n",
      "Batch  99 1.3226068\n",
      "Batch  149 1.5420651\n",
      "Batch  199 1.7536658\n",
      "Batch  249 1.4105144\n",
      "Batch  299 1.3183258\n",
      "Batch  349 1.7731755\n",
      "Batch  399 1.7455658\n",
      "Batch  449 1.5295475\n"
     ]
    },
    {
     "name": "stderr",
     "output_type": "stream",
     "text": [
      " 76%|████████████████████████████████████████████████████████████████████████████████████████████████████████████████████████████████████████████████████████████████████████████████▋                                                      | 153/200 [48:40<18:16, 23.33s/it]"
     ]
    },
    {
     "name": "stdout",
     "output_type": "stream",
     "text": [
      "[Mean epoch loss] 1.592912\n",
      "[Epoch] 153\n",
      "Batch  49 1.6620283\n",
      "Batch  99 1.7701464\n",
      "Batch  149 1.5547464\n",
      "Batch  199 1.6861539\n",
      "Batch  249 1.3025999\n",
      "Batch  299 1.5425491\n",
      "Batch  349 1.6888006\n",
      "Batch  399 1.6875296\n",
      "Batch  449 1.6839354\n"
     ]
    },
    {
     "name": "stderr",
     "output_type": "stream",
     "text": [
      " 77%|█████████████████████████████████████████████████████████████████████████████████████████████████████████████████████████████████████████████████████████████████████████████████▊                                                     | 154/200 [49:03<17:52, 23.31s/it]"
     ]
    },
    {
     "name": "stdout",
     "output_type": "stream",
     "text": [
      "[Mean epoch loss] 1.593996\n",
      "[Epoch] 154\n",
      "Batch  49 1.6710811\n",
      "Batch  99 1.4061822\n",
      "Batch  149 1.4337193\n",
      "Batch  199 1.7347736\n",
      "Batch  249 1.3942202\n",
      "Batch  299 1.2281382\n",
      "Batch  349 1.6070609\n",
      "Batch  399 1.539574\n",
      "Batch  449 1.2886964\n"
     ]
    },
    {
     "name": "stderr",
     "output_type": "stream",
     "text": [
      " 78%|███████████████████████████████████████████████████████████████████████████████████████████████████████████████████████████████████████████████████████████████████████████████████                                                    | 155/200 [49:27<17:36, 23.48s/it]"
     ]
    },
    {
     "name": "stdout",
     "output_type": "stream",
     "text": [
      "[Mean epoch loss] 1.587384\n",
      "[Epoch] 155\n",
      "Batch  49 1.5366958\n",
      "Batch  99 1.5452404\n",
      "Batch  149 1.5622365\n",
      "Batch  199 1.8275157\n",
      "Batch  249 1.7606746\n",
      "Batch  299 1.8233248\n",
      "Batch  349 1.6542337\n",
      "Batch  399 1.6255176\n",
      "Batch  449 1.61289\n"
     ]
    },
    {
     "name": "stderr",
     "output_type": "stream",
     "text": [
      " 78%|████████████████████████████████████████████████████████████████████████████████████████████████████████████████████████████████████████████████████████████████████████████████████▏                                                  | 156/200 [49:51<17:14, 23.51s/it]"
     ]
    },
    {
     "name": "stdout",
     "output_type": "stream",
     "text": [
      "[Mean epoch loss] 1.589798\n",
      "[Epoch] 156\n",
      "Batch  49 1.5748453\n",
      "Batch  99 1.7396586\n",
      "Batch  149 1.6552687\n",
      "Batch  199 1.4545541\n",
      "Batch  249 1.6779478\n",
      "Batch  299 1.4214358\n",
      "Batch  349 1.7956443\n",
      "Batch  399 1.5411447\n",
      "Batch  449 1.5039707\n"
     ]
    },
    {
     "name": "stderr",
     "output_type": "stream",
     "text": [
      " 78%|█████████████████████████████████████████████████████████████████████████████████████████████████████████████████████████████████████████████████████████████████████████████████████▎                                                 | 157/200 [50:14<16:48, 23.44s/it]"
     ]
    },
    {
     "name": "stdout",
     "output_type": "stream",
     "text": [
      "[Mean epoch loss] 1.589548\n",
      "[Epoch] 157\n",
      "Batch  49 1.9242616\n",
      "Batch  99 1.3422146\n",
      "Batch  149 2.0125513\n",
      "Batch  199 1.5092605\n",
      "Batch  249 1.7470593\n",
      "Batch  299 1.2116909\n",
      "Batch  349 1.6570654\n",
      "Batch  399 1.542295\n",
      "Batch  449 1.5057036\n"
     ]
    },
    {
     "name": "stderr",
     "output_type": "stream",
     "text": [
      " 79%|██████████████████████████████████████████████████████████████████████████████████████████████████████████████████████████████████████████████████████████████████████████████████████▍                                                | 158/200 [50:38<16:25, 23.46s/it]"
     ]
    },
    {
     "name": "stdout",
     "output_type": "stream",
     "text": [
      "[Mean epoch loss] 1.587724\n",
      "[Epoch] 158\n",
      "Batch  49 1.411345\n",
      "Batch  99 1.363446\n",
      "Batch  149 1.2458292\n",
      "Batch  199 1.5209001\n",
      "Batch  249 1.8071994\n",
      "Batch  299 1.9334689\n",
      "Batch  349 1.3546327\n",
      "Batch  399 1.5865432\n",
      "Batch  449 1.449241\n"
     ]
    },
    {
     "name": "stderr",
     "output_type": "stream",
     "text": [
      " 80%|███████████████████████████████████████████████████████████████████████████████████████████████████████████████████████████████████████████████████████████████████████████████████████▋                                               | 159/200 [51:01<16:04, 23.53s/it]"
     ]
    },
    {
     "name": "stdout",
     "output_type": "stream",
     "text": [
      "[Mean epoch loss] 1.590069\n",
      "[Epoch] 159\n",
      "Batch  49 1.7866161\n",
      "Batch  99 1.627725\n",
      "Batch  149 1.4656057\n",
      "Batch  199 1.5130203\n",
      "Batch  249 1.5841097\n",
      "Batch  299 1.5262648\n",
      "Batch  349 1.4820211\n",
      "Batch  399 1.4533128\n",
      "Batch  449 2.0070412\n"
     ]
    },
    {
     "name": "stderr",
     "output_type": "stream",
     "text": [
      " 80%|████████████████████████████████████████████████████████████████████████████████████████████████████████████████████████████████████████████████████████████████████████████████████████▊                                              | 160/200 [51:28<16:15, 24.38s/it]"
     ]
    },
    {
     "name": "stdout",
     "output_type": "stream",
     "text": [
      "[Mean epoch loss] 1.587411\n",
      "[Epoch] 160\n",
      "Batch  49 1.435132\n",
      "Batch  99 1.2512267\n",
      "Batch  149 1.5339653\n",
      "Batch  199 1.7190617\n",
      "Batch  249 1.4967561\n",
      "Batch  299 1.6847332\n",
      "Batch  349 1.5858111\n",
      "Batch  399 1.8203063\n",
      "Batch  449 1.4990894\n"
     ]
    },
    {
     "name": "stderr",
     "output_type": "stream",
     "text": [
      " 80%|█████████████████████████████████████████████████████████████████████████████████████████████████████████████████████████████████████████████████████████████████████████████████████████▉                                             | 161/200 [51:57<16:42, 25.71s/it]"
     ]
    },
    {
     "name": "stdout",
     "output_type": "stream",
     "text": [
      "[Mean epoch loss] 1.583575\n",
      "[Epoch] 161\n",
      "Batch  49 1.4924296\n",
      "Batch  99 1.6240582\n",
      "Batch  149 1.7112412\n",
      "Batch  199 1.4855652\n",
      "Batch  249 1.5614712\n",
      "Batch  299 1.7014937\n",
      "Batch  349 1.4524293\n",
      "Batch  399 1.4158831\n",
      "Batch  449 1.828244\n"
     ]
    },
    {
     "name": "stderr",
     "output_type": "stream",
     "text": [
      " 81%|███████████████████████████████████████████████████████████████████████████████████████████████████████████████████████████████████████████████████████████████████████████████████████████                                            | 162/200 [52:25<16:51, 26.61s/it]"
     ]
    },
    {
     "name": "stdout",
     "output_type": "stream",
     "text": [
      "[Mean epoch loss] 1.584130\n",
      "[Epoch] 162\n",
      "Batch  49 1.5050249\n",
      "Batch  99 1.8717384\n",
      "Batch  149 1.7922287\n",
      "Batch  199 1.5144747\n",
      "Batch  249 1.7252731\n",
      "Batch  299 1.2173831\n",
      "Batch  349 1.5816176\n",
      "Batch  399 1.2390473\n",
      "Batch  449 1.6947815\n"
     ]
    },
    {
     "name": "stderr",
     "output_type": "stream",
     "text": [
      " 82%|████████████████████████████████████████████████████████████████████████████████████████████████████████████████████████████████████████████████████████████████████████████████████████████▎                                          | 163/200 [52:51<16:16, 26.39s/it]"
     ]
    },
    {
     "name": "stdout",
     "output_type": "stream",
     "text": [
      "[Mean epoch loss] 1.580539\n",
      "[Epoch] 163\n",
      "Batch  49 1.6110064\n",
      "Batch  99 1.6704798\n",
      "Batch  149 1.5607109\n",
      "Batch  199 1.9029765\n",
      "Batch  249 1.5820739\n",
      "Batch  299 1.5518023\n",
      "Batch  349 1.3491714\n",
      "Batch  399 1.5916064\n",
      "Batch  449 1.5886024\n"
     ]
    },
    {
     "name": "stderr",
     "output_type": "stream",
     "text": [
      " 82%|█████████████████████████████████████████████████████████████████████████████████████████████████████████████████████████████████████████████████████████████████████████████████████████████▍                                         | 164/200 [53:10<14:23, 23.99s/it]"
     ]
    },
    {
     "name": "stdout",
     "output_type": "stream",
     "text": [
      "[Mean epoch loss] 1.582015\n",
      "[Epoch] 164\n",
      "Batch  49 1.2061675\n",
      "Batch  99 1.566071\n",
      "Batch  149 1.3753603\n",
      "Batch  199 1.7081639\n",
      "Batch  249 1.5871624\n",
      "Batch  299 1.743659\n",
      "Batch  349 1.7544564\n",
      "Batch  399 1.6197954\n",
      "Batch  449 1.5616319\n"
     ]
    },
    {
     "name": "stderr",
     "output_type": "stream",
     "text": [
      " 82%|██████████████████████████████████████████████████████████████████████████████████████████████████████████████████████████████████████████████████████████████████████████████████████████████▌                                        | 165/200 [53:34<14:04, 24.12s/it]"
     ]
    },
    {
     "name": "stdout",
     "output_type": "stream",
     "text": [
      "[Mean epoch loss] 1.581404\n",
      "[Epoch] 165\n",
      "Batch  49 1.6465731\n",
      "Batch  99 1.3438209\n",
      "Batch  149 1.6506331\n",
      "Batch  199 1.5488118\n",
      "Batch  249 1.540227\n",
      "Batch  299 1.6419582\n",
      "Batch  349 1.7430509\n",
      "Batch  399 1.5337031\n",
      "Batch  449 1.8353264\n"
     ]
    },
    {
     "name": "stderr",
     "output_type": "stream",
     "text": [
      " 83%|███████████████████████████████████████████████████████████████████████████████████████████████████████████████████████████████████████████████████████████████████████████████████████████████▋                                       | 166/200 [54:01<14:13, 25.10s/it]"
     ]
    },
    {
     "name": "stdout",
     "output_type": "stream",
     "text": [
      "[Mean epoch loss] 1.578703\n",
      "[Epoch] 166\n",
      "Batch  49 1.6072462\n",
      "Batch  99 1.4206381\n",
      "Batch  149 1.5423834\n",
      "Batch  199 1.2657161\n",
      "Batch  249 2.0192344\n",
      "Batch  299 1.6587317\n",
      "Batch  349 1.7025878\n",
      "Batch  399 1.7764332\n",
      "Batch  449 1.5780797\n"
     ]
    },
    {
     "name": "stderr",
     "output_type": "stream",
     "text": [
      " 84%|████████████████████████████████████████████████████████████████████████████████████████████████████████████████████████████████████████████████████████████████████████████████████████████████▉                                      | 167/200 [54:22<13:01, 23.67s/it]"
     ]
    },
    {
     "name": "stdout",
     "output_type": "stream",
     "text": [
      "[Mean epoch loss] 1.580379\n",
      "[Epoch] 167\n",
      "Batch  49 1.5382693\n",
      "Batch  99 1.29651\n",
      "Batch  149 1.6143665\n",
      "Batch  199 1.7743812\n",
      "Batch  249 1.5170376\n",
      "Batch  299 1.3672783\n",
      "Batch  349 1.321745\n",
      "Batch  399 1.5506151\n",
      "Batch  449 1.6226315\n"
     ]
    },
    {
     "name": "stderr",
     "output_type": "stream",
     "text": [
      " 84%|██████████████████████████████████████████████████████████████████████████████████████████████████████████████████████████████████████████████████████████████████████████████████████████████████                                     | 168/200 [54:42<12:04, 22.65s/it]"
     ]
    },
    {
     "name": "stdout",
     "output_type": "stream",
     "text": [
      "[Mean epoch loss] 1.578396\n",
      "[Epoch] 168\n",
      "Batch  49 1.8288438\n",
      "Batch  99 1.3942263\n",
      "Batch  149 1.7917485\n",
      "Batch  199 1.5170269\n",
      "Batch  249 2.078476\n",
      "Batch  299 1.9718623\n",
      "Batch  349 1.5559254\n",
      "Batch  399 1.5544374\n",
      "Batch  449 1.5840839\n"
     ]
    },
    {
     "name": "stderr",
     "output_type": "stream",
     "text": [
      " 84%|███████████████████████████████████████████████████████████████████████████████████████████████████████████████████████████████████████████████████████████████████████████████████████████████████▏                                   | 169/200 [55:05<11:49, 22.90s/it]"
     ]
    },
    {
     "name": "stdout",
     "output_type": "stream",
     "text": [
      "[Mean epoch loss] 1.575585\n",
      "[Epoch] 169\n",
      "Batch  49 1.4990335\n",
      "Batch  99 1.3535495\n",
      "Batch  149 1.5914662\n",
      "Batch  199 1.587315\n",
      "Batch  249 1.5590464\n",
      "Batch  299 1.5751877\n",
      "Batch  349 1.5523795\n",
      "Batch  399 1.8019674\n",
      "Batch  449 1.5260617\n"
     ]
    },
    {
     "name": "stderr",
     "output_type": "stream",
     "text": [
      " 85%|████████████████████████████████████████████████████████████████████████████████████████████████████████████████████████████████████████████████████████████████████████████████████████████████████▎                                  | 170/200 [55:29<11:32, 23.08s/it]"
     ]
    },
    {
     "name": "stdout",
     "output_type": "stream",
     "text": [
      "[Mean epoch loss] 1.576231\n",
      "[Epoch] 170\n",
      "Batch  49 1.4085734\n",
      "Batch  99 1.3932798\n",
      "Batch  149 1.6358484\n",
      "Batch  199 1.8750435\n",
      "Batch  249 1.5602595\n",
      "Batch  299 1.8099133\n",
      "Batch  349 1.5951939\n",
      "Batch  399 1.7608622\n",
      "Batch  449 1.546519\n"
     ]
    },
    {
     "name": "stderr",
     "output_type": "stream",
     "text": [
      " 86%|█████████████████████████████████████████████████████████████████████████████████████████████████████████████████████████████████████████████████████████████████████████████████████████████████████▌                                 | 171/200 [55:51<11:01, 22.83s/it]"
     ]
    },
    {
     "name": "stdout",
     "output_type": "stream",
     "text": [
      "[Mean epoch loss] 1.573839\n",
      "[Epoch] 171\n",
      "Batch  49 1.5517917\n",
      "Batch  99 1.3275137\n",
      "Batch  149 1.4565946\n",
      "Batch  199 1.6087046\n",
      "Batch  249 1.6483861\n",
      "Batch  299 1.4639021\n",
      "Batch  349 1.9580649\n",
      "Batch  399 1.7343128\n",
      "Batch  449 1.6007518\n"
     ]
    },
    {
     "name": "stderr",
     "output_type": "stream",
     "text": [
      " 86%|██████████████████████████████████████████████████████████████████████████████████████████████████████████████████████████████████████████████████████████████████████████████████████████████████████▋                                | 172/200 [56:15<10:48, 23.15s/it]"
     ]
    },
    {
     "name": "stdout",
     "output_type": "stream",
     "text": [
      "[Mean epoch loss] 1.574998\n",
      "[Epoch] 172\n",
      "Batch  49 1.5318735\n",
      "Batch  99 1.4933662\n",
      "Batch  149 1.6214969\n",
      "Batch  199 1.554799\n",
      "Batch  249 1.7602915\n",
      "Batch  299 1.3632576\n",
      "Batch  349 1.4612598\n",
      "Batch  399 1.3784435\n",
      "Batch  449 1.7416494\n"
     ]
    },
    {
     "name": "stderr",
     "output_type": "stream",
     "text": [
      " 86%|███████████████████████████████████████████████████████████████████████████████████████████████████████████████████████████████████████████████████████████████████████████████████████████████████████▊                               | 173/200 [56:39<10:31, 23.38s/it]"
     ]
    },
    {
     "name": "stdout",
     "output_type": "stream",
     "text": [
      "[Mean epoch loss] 1.573152\n",
      "[Epoch] 173\n",
      "Batch  49 1.1342071\n",
      "Batch  99 1.6981568\n",
      "Batch  149 1.3449861\n",
      "Batch  199 1.4005907\n",
      "Batch  249 1.8733022\n",
      "Batch  299 1.5953759\n",
      "Batch  349 1.806895\n",
      "Batch  399 1.4576329\n",
      "Batch  449 1.7060698\n"
     ]
    },
    {
     "name": "stderr",
     "output_type": "stream",
     "text": [
      " 87%|████████████████████████████████████████████████████████████████████████████████████████████████████████████████████████████████████████████████████████████████████████████████████████████████████████▉                              | 174/200 [57:03<10:14, 23.65s/it]"
     ]
    },
    {
     "name": "stdout",
     "output_type": "stream",
     "text": [
      "[Mean epoch loss] 1.573395\n",
      "[Epoch] 174\n",
      "Batch  49 1.5769141\n",
      "Batch  99 1.4313484\n",
      "Batch  149 1.6537782\n",
      "Batch  199 1.7883137\n",
      "Batch  249 1.7462597\n",
      "Batch  299 1.4722717\n",
      "Batch  349 1.5081172\n",
      "Batch  399 1.5649261\n",
      "Batch  449 1.8456724\n"
     ]
    },
    {
     "name": "stderr",
     "output_type": "stream",
     "text": [
      " 88%|██████████████████████████████████████████████████████████████████████████████████████████████████████████████████████████████████████████████████████████████████████████████████████████████████████████▏                            | 175/200 [57:27<09:52, 23.70s/it]"
     ]
    },
    {
     "name": "stdout",
     "output_type": "stream",
     "text": [
      "[Mean epoch loss] 1.573608\n",
      "[Epoch] 175\n",
      "Batch  49 1.8484812\n",
      "Batch  99 1.6445429\n",
      "Batch  149 1.8878633\n",
      "Batch  199 1.6024784\n",
      "Batch  249 1.4920263\n",
      "Batch  299 1.7176458\n",
      "Batch  349 1.6716534\n",
      "Batch  399 1.4903352\n",
      "Batch  449 1.9237593\n"
     ]
    },
    {
     "name": "stderr",
     "output_type": "stream",
     "text": [
      " 88%|███████████████████████████████████████████████████████████████████████████████████████████████████████████████████████████████████████████████████████████████████████████████████████████████████████████▎                           | 176/200 [57:51<09:30, 23.79s/it]"
     ]
    },
    {
     "name": "stdout",
     "output_type": "stream",
     "text": [
      "[Mean epoch loss] 1.570970\n",
      "[Epoch] 176\n",
      "Batch  49 1.740098\n",
      "Batch  99 1.6992302\n",
      "Batch  149 1.7691009\n",
      "Batch  199 1.6638998\n",
      "Batch  249 1.623218\n",
      "Batch  299 2.2611256\n",
      "Batch  349 1.8566661\n",
      "Batch  399 1.355457\n",
      "Batch  449 1.5377648\n"
     ]
    },
    {
     "name": "stderr",
     "output_type": "stream",
     "text": [
      " 88%|████████████████████████████████████████████████████████████████████████████████████████████████████████████████████████████████████████████████████████████████████████████████████████████████████████████▍                          | 177/200 [58:15<09:08, 23.84s/it]"
     ]
    },
    {
     "name": "stdout",
     "output_type": "stream",
     "text": [
      "[Mean epoch loss] 1.568989\n",
      "[Epoch] 177\n",
      "Batch  49 1.5150971\n",
      "Batch  99 1.5505462\n",
      "Batch  149 1.4850068\n",
      "Batch  199 1.631361\n",
      "Batch  249 1.293901\n",
      "Batch  299 1.5791986\n",
      "Batch  349 1.7150886\n",
      "Batch  399 1.4573519\n",
      "Batch  449 1.7309773\n"
     ]
    },
    {
     "name": "stderr",
     "output_type": "stream",
     "text": [
      " 89%|█████████████████████████████████████████████████████████████████████████████████████████████████████████████████████████████████████████████████████████████████████████████████████████████████████████████▌                         | 178/200 [58:39<08:45, 23.90s/it]"
     ]
    },
    {
     "name": "stdout",
     "output_type": "stream",
     "text": [
      "[Mean epoch loss] 1.570749\n",
      "[Epoch] 178\n",
      "Batch  49 1.5575094\n",
      "Batch  99 1.4543333\n",
      "Batch  149 1.7083628\n",
      "Batch  199 1.2243204\n",
      "Batch  249 1.4433217\n",
      "Batch  299 1.3558275\n",
      "Batch  349 1.7284238\n",
      "Batch  399 1.3345592\n",
      "Batch  449 1.7982581\n"
     ]
    },
    {
     "name": "stderr",
     "output_type": "stream",
     "text": [
      " 90%|██████████████████████████████████████████████████████████████████████████████████████████████████████████████████████████████████████████████████████████████████████████████████████████████████████████████▋                        | 179/200 [59:02<08:18, 23.72s/it]"
     ]
    },
    {
     "name": "stdout",
     "output_type": "stream",
     "text": [
      "[Mean epoch loss] 1.568949\n",
      "[Epoch] 179\n",
      "Batch  49 1.6356486\n",
      "Batch  99 1.5595801\n",
      "Batch  149 1.4166098\n",
      "Batch  199 1.7358899\n",
      "Batch  249 1.506442\n",
      "Batch  299 1.8525268\n",
      "Batch  349 1.3513942\n",
      "Batch  399 1.921489\n",
      "Batch  449 1.2017576\n"
     ]
    },
    {
     "name": "stderr",
     "output_type": "stream",
     "text": [
      " 90%|███████████████████████████████████████████████████████████████████████████████████████████████████████████████████████████████████████████████████████████████████████████████████████████████████████████████▉                       | 180/200 [59:26<07:53, 23.67s/it]"
     ]
    },
    {
     "name": "stdout",
     "output_type": "stream",
     "text": [
      "[Mean epoch loss] 1.569248\n",
      "[Epoch] 180\n",
      "Batch  49 1.3472972\n",
      "Batch  99 1.4989952\n",
      "Batch  149 1.3171742\n",
      "Batch  199 1.4021462\n",
      "Batch  249 1.4783361\n",
      "Batch  299 1.5985283\n",
      "Batch  349 1.5076115\n",
      "Batch  399 1.5851982\n",
      "Batch  449 1.6948252\n"
     ]
    },
    {
     "name": "stderr",
     "output_type": "stream",
     "text": [
      " 90%|█████████████████████████████████████████████████████████████████████████████████████████████████████████████████████████████████████████████████████████████████████████████████████████████████████████████████                      | 181/200 [59:50<07:33, 23.87s/it]"
     ]
    },
    {
     "name": "stdout",
     "output_type": "stream",
     "text": [
      "[Mean epoch loss] 1.567884\n",
      "[Epoch] 181\n",
      "Batch  49 1.1803507\n",
      "Batch  99 1.5926099\n",
      "Batch  149 1.5640373\n",
      "Batch  199 1.4346902\n",
      "Batch  249 1.5851436\n",
      "Batch  299 1.3681245\n",
      "Batch  349 1.7685962\n",
      "Batch  399 1.7766063\n",
      "Batch  449 1.9145025\n"
     ]
    },
    {
     "name": "stderr",
     "output_type": "stream",
     "text": [
      " 91%|████████████████████████████████████████████████████████████████████████████████████████████████████████████████████████████████████████████████████████████████████████████████████████████████████████████████▍                    | 182/200 [1:00:14<07:08, 23.79s/it]"
     ]
    },
    {
     "name": "stdout",
     "output_type": "stream",
     "text": [
      "[Mean epoch loss] 1.568259\n",
      "[Epoch] 182\n",
      "Batch  49 1.2451185\n",
      "Batch  99 1.3602406\n",
      "Batch  149 1.2177861\n",
      "Batch  199 1.3816667\n",
      "Batch  249 1.2634786\n",
      "Batch  299 1.7464117\n",
      "Batch  349 1.657817\n",
      "Batch  399 1.3025935\n",
      "Batch  449 1.3500227\n"
     ]
    },
    {
     "name": "stderr",
     "output_type": "stream",
     "text": [
      " 92%|█████████████████████████████████████████████████████████████████████████████████████████████████████████████████████████████████████████████████████████████████████████████████████████████████████████████████▌                   | 183/200 [1:00:37<06:41, 23.61s/it]"
     ]
    },
    {
     "name": "stdout",
     "output_type": "stream",
     "text": [
      "[Mean epoch loss] 1.566309\n",
      "[Epoch] 183\n",
      "Batch  49 1.6504108\n",
      "Batch  99 1.8078016\n",
      "Batch  149 1.9494834\n",
      "Batch  199 1.4965125\n",
      "Batch  249 1.4997385\n",
      "Batch  299 1.6075898\n",
      "Batch  349 1.6557767\n",
      "Batch  399 1.4457768\n",
      "Batch  449 1.6316496\n"
     ]
    },
    {
     "name": "stderr",
     "output_type": "stream",
     "text": [
      " 92%|██████████████████████████████████████████████████████████████████████████████████████████████████████████████████████████████████████████████████████████████████████████████████████████████████████████████████▋                  | 184/200 [1:01:01<06:19, 23.73s/it]"
     ]
    },
    {
     "name": "stdout",
     "output_type": "stream",
     "text": [
      "[Mean epoch loss] 1.565565\n",
      "[Epoch] 184\n",
      "Batch  49 1.5792032\n",
      "Batch  99 1.3864312\n",
      "Batch  149 1.6639366\n",
      "Batch  199 1.3148496\n",
      "Batch  249 1.5643148\n",
      "Batch  299 1.7810466\n",
      "Batch  349 1.8517594\n",
      "Batch  399 1.543612\n",
      "Batch  449 1.6527286\n"
     ]
    },
    {
     "name": "stderr",
     "output_type": "stream",
     "text": [
      " 92%|███████████████████████████████████████████████████████████████████████████████████████████████████████████████████████████████████████████████████████████████████████████████████████████████████████████████████▊                 | 185/200 [1:01:25<05:55, 23.69s/it]"
     ]
    },
    {
     "name": "stdout",
     "output_type": "stream",
     "text": [
      "[Mean epoch loss] 1.564471\n",
      "[Epoch] 185\n",
      "Batch  49 1.5605893\n",
      "Batch  99 1.9800403\n",
      "Batch  149 1.5208672\n",
      "Batch  199 1.7225866\n",
      "Batch  249 1.3995212\n",
      "Batch  299 1.5311214\n",
      "Batch  349 1.6234822\n",
      "Batch  399 1.3682392\n",
      "Batch  449 1.7718282\n"
     ]
    },
    {
     "name": "stderr",
     "output_type": "stream",
     "text": [
      " 93%|████████████████████████████████████████████████████████████████████████████████████████████████████████████████████████████████████████████████████████████████████████████████████████████████████████████████████▉                | 186/200 [1:01:48<05:31, 23.65s/it]"
     ]
    },
    {
     "name": "stdout",
     "output_type": "stream",
     "text": [
      "[Mean epoch loss] 1.560411\n",
      "[Epoch] 186\n",
      "Batch  49 1.3544871\n",
      "Batch  99 1.3417187\n",
      "Batch  149 1.5571754\n",
      "Batch  199 1.4060674\n",
      "Batch  249 1.7261336\n",
      "Batch  299 1.670917\n",
      "Batch  349 1.7144026\n",
      "Batch  399 1.654506\n",
      "Batch  449 1.6677029\n"
     ]
    },
    {
     "name": "stderr",
     "output_type": "stream",
     "text": [
      " 94%|██████████████████████████████████████████████████████████████████████████████████████████████████████████████████████████████████████████████████████████████████████████████████████████████████████████████████████               | 187/200 [1:02:11<05:03, 23.31s/it]"
     ]
    },
    {
     "name": "stdout",
     "output_type": "stream",
     "text": [
      "[Mean epoch loss] 1.564230\n",
      "[Epoch] 187\n",
      "Batch  49 1.7550063\n",
      "Batch  99 1.8130498\n",
      "Batch  149 1.6726031\n",
      "Batch  199 1.5075705\n",
      "Batch  249 1.3773822\n",
      "Batch  299 1.6181908\n",
      "Batch  349 2.1860514\n",
      "Batch  399 1.4876559\n",
      "Batch  449 1.4787292\n"
     ]
    },
    {
     "name": "stderr",
     "output_type": "stream",
     "text": [
      " 94%|███████████████████████████████████████████████████████████████████████████████████████████████████████████████████████████████████████████████████████████████████████████████████████████████████████████████████████▎             | 188/200 [1:02:34<04:41, 23.44s/it]"
     ]
    },
    {
     "name": "stdout",
     "output_type": "stream",
     "text": [
      "[Mean epoch loss] 1.563674\n",
      "[Epoch] 188\n",
      "Batch  49 1.4909159\n",
      "Batch  99 1.5420411\n",
      "Batch  149 1.3885069\n",
      "Batch  199 1.4297867\n",
      "Batch  249 1.5476401\n",
      "Batch  299 1.2149634\n",
      "Batch  349 1.6105093\n",
      "Batch  399 1.3589016\n",
      "Batch  449 1.7018218\n"
     ]
    },
    {
     "name": "stderr",
     "output_type": "stream",
     "text": [
      " 94%|████████████████████████████████████████████████████████████████████████████████████████████████████████████████████████████████████████████████████████████████████████████████████████████████████████████████████████▍            | 189/200 [1:02:59<04:20, 23.66s/it]"
     ]
    },
    {
     "name": "stdout",
     "output_type": "stream",
     "text": [
      "[Mean epoch loss] 1.560696\n",
      "[Epoch] 189\n",
      "Batch  49 1.5880128\n",
      "Batch  99 1.6559696\n",
      "Batch  149 1.3368809\n",
      "Batch  199 1.3606224\n",
      "Batch  249 1.6235048\n",
      "Batch  299 1.2496371\n",
      "Batch  349 1.3182964\n",
      "Batch  399 1.1237057\n",
      "Batch  449 1.7360597\n"
     ]
    },
    {
     "name": "stderr",
     "output_type": "stream",
     "text": [
      " 95%|█████████████████████████████████████████████████████████████████████████████████████████████████████████████████████████████████████████████████████████████████████████████████████████████████████████████████████████▌           | 190/200 [1:03:27<04:11, 25.18s/it]"
     ]
    },
    {
     "name": "stdout",
     "output_type": "stream",
     "text": [
      "[Mean epoch loss] 1.560390\n",
      "[Epoch] 190\n",
      "Batch  49 1.4448686\n",
      "Batch  99 1.6315055\n",
      "Batch  149 1.5359063\n",
      "Batch  199 1.5347763\n",
      "Batch  249 1.447463\n",
      "Batch  299 1.3724046\n",
      "Batch  349 1.6464185\n",
      "Batch  399 1.794521\n",
      "Batch  449 1.423429\n"
     ]
    },
    {
     "name": "stderr",
     "output_type": "stream",
     "text": [
      " 96%|██████████████████████████████████████████████████████████████████████████████████████████████████████████████████████████████████████████████████████████████████████████████████████████████████████████████████████████▋          | 191/200 [1:03:56<03:56, 26.24s/it]"
     ]
    },
    {
     "name": "stdout",
     "output_type": "stream",
     "text": [
      "[Mean epoch loss] 1.561158\n",
      "[Epoch] 191\n",
      "Batch  49 1.2931001\n",
      "Batch  99 1.4424806\n",
      "Batch  149 1.4728287\n",
      "Batch  199 1.4235833\n",
      "Batch  249 1.8334067\n",
      "Batch  299 1.8159103\n",
      "Batch  349 1.7685469\n",
      "Batch  399 1.8088691\n",
      "Batch  449 1.8654382\n"
     ]
    },
    {
     "name": "stderr",
     "output_type": "stream",
     "text": [
      " 96%|███████████████████████████████████████████████████████████████████████████████████████████████████████████████████████████████████████████████████████████████████████████████████████████████████████████████████████████▊         | 192/200 [1:04:25<03:36, 27.10s/it]"
     ]
    },
    {
     "name": "stdout",
     "output_type": "stream",
     "text": [
      "[Mean epoch loss] 1.557016\n",
      "[Epoch] 192\n",
      "Batch  49 1.4078882\n",
      "Batch  99 1.9333758\n",
      "Batch  149 1.5680068\n",
      "Batch  199 1.4484397\n",
      "Batch  249 1.1091814\n",
      "Batch  299 1.4176705\n",
      "Batch  349 1.524095\n",
      "Batch  399 1.8544831\n",
      "Batch  449 1.5350384\n"
     ]
    },
    {
     "name": "stderr",
     "output_type": "stream",
     "text": [
      " 96%|████████████████████████████████████████████████████████████████████████████████████████████████████████████████████████████████████████████████████████████████████████████████████████████████████████████████████████████▉        | 193/200 [1:04:46<02:56, 25.16s/it]"
     ]
    },
    {
     "name": "stdout",
     "output_type": "stream",
     "text": [
      "[Mean epoch loss] 1.559162\n",
      "[Epoch] 193\n",
      "Batch  49 1.5787599\n",
      "Batch  99 1.372882\n",
      "Batch  149 1.4736636\n",
      "Batch  199 0.8478904\n",
      "Batch  249 1.7312524\n",
      "Batch  299 2.0826159\n",
      "Batch  349 1.5781188\n",
      "Batch  399 1.61654\n",
      "Batch  449 1.7463884\n"
     ]
    },
    {
     "name": "stderr",
     "output_type": "stream",
     "text": [
      " 97%|██████████████████████████████████████████████████████████████████████████████████████████████████████████████████████████████████████████████████████████████████████████████████████████████████████████████████████████████▏      | 194/200 [1:05:07<02:23, 23.84s/it]"
     ]
    },
    {
     "name": "stdout",
     "output_type": "stream",
     "text": [
      "[Mean epoch loss] 1.557985\n",
      "[Epoch] 194\n",
      "Batch  49 1.5627915\n",
      "Batch  99 1.6963817\n",
      "Batch  149 1.536061\n",
      "Batch  199 1.6879773\n",
      "Batch  249 1.5195627\n",
      "Batch  299 1.8714081\n",
      "Batch  349 1.346556\n",
      "Batch  399 1.3072369\n",
      "Batch  449 1.5534241\n"
     ]
    },
    {
     "name": "stderr",
     "output_type": "stream",
     "text": [
      " 98%|███████████████████████████████████████████████████████████████████████████████████████████████████████████████████████████████████████████████████████████████████████████████████████████████████████████████████████████████▎     | 195/200 [1:05:34<02:04, 24.87s/it]"
     ]
    },
    {
     "name": "stdout",
     "output_type": "stream",
     "text": [
      "[Mean epoch loss] 1.555737\n",
      "[Epoch] 195\n",
      "Batch  49 1.3406205\n",
      "Batch  99 1.4341209\n",
      "Batch  149 1.2108474\n",
      "Batch  199 1.4096246\n",
      "Batch  249 1.4971578\n",
      "Batch  299 1.7960396\n",
      "Batch  349 1.308934\n",
      "Batch  399 1.6927935\n",
      "Batch  449 1.4183493\n"
     ]
    },
    {
     "name": "stderr",
     "output_type": "stream",
     "text": [
      " 98%|████████████████████████████████████████████████████████████████████████████████████████████████████████████████████████████████████████████████████████████████████████████████████████████████████████████████████████████████▍    | 196/200 [1:05:58<01:38, 24.65s/it]"
     ]
    },
    {
     "name": "stdout",
     "output_type": "stream",
     "text": [
      "[Mean epoch loss] 1.554889\n",
      "[Epoch] 196\n",
      "Batch  49 1.2738591\n",
      "Batch  99 1.6191509\n",
      "Batch  149 1.665179\n",
      "Batch  199 1.7244887\n",
      "Batch  249 1.3201935\n",
      "Batch  299 1.5898361\n",
      "Batch  349 1.8448611\n",
      "Batch  399 1.4567857\n",
      "Batch  449 1.8391008\n"
     ]
    },
    {
     "name": "stderr",
     "output_type": "stream",
     "text": [
      " 98%|█████████████████████████████████████████████████████████████████████████████████████████████████████████████████████████████████████████████████████████████████████████████████████████████████████████████████████████████████▌   | 197/200 [1:06:17<01:08, 22.98s/it]"
     ]
    },
    {
     "name": "stdout",
     "output_type": "stream",
     "text": [
      "[Mean epoch loss] 1.557594\n",
      "[Epoch] 197\n",
      "Batch  49 1.5937853\n",
      "Batch  99 1.7883003\n",
      "Batch  149 1.5895151\n",
      "Batch  199 1.3638873\n",
      "Batch  249 1.6182191\n",
      "Batch  299 1.2796398\n",
      "Batch  349 1.7109883\n",
      "Batch  399 1.4979438\n",
      "Batch  449 1.3863225\n"
     ]
    },
    {
     "name": "stderr",
     "output_type": "stream",
     "text": [
      " 99%|██████████████████████████████████████████████████████████████████████████████████████████████████████████████████████████████████████████████████████████████████████████████████████████████████████████████████████████████████▋  | 198/200 [1:06:40<00:45, 22.97s/it]"
     ]
    },
    {
     "name": "stdout",
     "output_type": "stream",
     "text": [
      "[Mean epoch loss] 1.555861\n",
      "[Epoch] 198\n",
      "Batch  49 1.6363788\n",
      "Batch  99 1.232775\n",
      "Batch  149 1.7194242\n",
      "Batch  199 1.79179\n",
      "Batch  249 1.5112953\n",
      "Batch  299 1.0322647\n",
      "Batch  349 1.6939987\n",
      "Batch  399 1.7497637\n",
      "Batch  449 1.7816901\n"
     ]
    },
    {
     "name": "stderr",
     "output_type": "stream",
     "text": [
      "100%|███████████████████████████████████████████████████████████████████████████████████████████████████████████████████████████████████████████████████████████████████████████████████████████████████████████████████████████████████▊ | 199/200 [1:07:02<00:22, 22.76s/it]"
     ]
    },
    {
     "name": "stdout",
     "output_type": "stream",
     "text": [
      "[Mean epoch loss] 1.557274\n",
      "[Epoch] 199\n",
      "Batch  49 1.5252903\n",
      "Batch  99 1.5033145\n",
      "Batch  149 1.5839875\n",
      "Batch  199 1.480264\n",
      "Batch  249 1.8820987\n",
      "Batch  299 1.3429568\n",
      "Batch  349 1.6591419\n",
      "Batch  399 1.7177253\n",
      "Batch  449 1.4779729\n"
     ]
    },
    {
     "name": "stderr",
     "output_type": "stream",
     "text": [
      "100%|█████████████████████████████████████████████████████████████████████████████████████████████████████████████████████████████████████████████████████████████████████████████████████████████████████████████████████████████████████| 200/200 [1:07:24<00:00, 20.22s/it]"
     ]
    },
    {
     "name": "stdout",
     "output_type": "stream",
     "text": [
      "[Mean epoch loss] 1.554011\n"
     ]
    },
    {
     "name": "stderr",
     "output_type": "stream",
     "text": [
      "\n"
     ]
    }
   ],
   "source": [
    "losses = xformer_obj.train_model(data, batch_size = 256, num_epochs = 200)"
   ]
  },
  {
   "cell_type": "code",
   "execution_count": 5,
   "id": "43a9323c-b293-4d96-8846-98af8356e644",
   "metadata": {
    "scrolled": true,
    "tags": []
   },
   "outputs": [
    {
     "ename": "NameError",
     "evalue": "name 'os' is not defined",
     "output_type": "error",
     "traceback": [
      "\u001b[0;31m---------------------------------------------------------------------------\u001b[0m",
      "\u001b[0;31mNameError\u001b[0m                                 Traceback (most recent call last)",
      "\u001b[0;32m/tmp/ipykernel_9824/3959846978.py\u001b[0m in \u001b[0;36m<module>\u001b[0;34m\u001b[0m\n\u001b[0;32m----> 1\u001b[0;31m \u001b[0mxformer_obj\u001b[0m\u001b[0;34m.\u001b[0m\u001b[0msave_model\u001b[0m\u001b[0;34m(\u001b[0m\u001b[0;34m)\u001b[0m\u001b[0;34m\u001b[0m\u001b[0;34m\u001b[0m\u001b[0m\n\u001b[0m",
      "\u001b[0;32m/tmp/ipykernel_9824/3356079846.py\u001b[0m in \u001b[0;36msave_model\u001b[0;34m(self)\u001b[0m\n\u001b[1;32m     98\u001b[0m     \u001b[0;32mdef\u001b[0m \u001b[0msave_model\u001b[0m\u001b[0;34m(\u001b[0m\u001b[0mself\u001b[0m\u001b[0;34m)\u001b[0m\u001b[0;34m:\u001b[0m\u001b[0;34m\u001b[0m\u001b[0;34m\u001b[0m\u001b[0m\n\u001b[1;32m     99\u001b[0m         \u001b[0mPath\u001b[0m\u001b[0;34m(\u001b[0m\u001b[0mself\u001b[0m\u001b[0;34m.\u001b[0m\u001b[0mmodel_save_dir\u001b[0m\u001b[0;34m)\u001b[0m\u001b[0;34m.\u001b[0m\u001b[0mmkdir\u001b[0m\u001b[0;34m(\u001b[0m \u001b[0mexist_ok\u001b[0m\u001b[0;34m=\u001b[0m\u001b[0;32mTrue\u001b[0m\u001b[0;34m,\u001b[0m \u001b[0mparents\u001b[0m\u001b[0;34m=\u001b[0m\u001b[0;32mTrue\u001b[0m\u001b[0;34m)\u001b[0m\u001b[0;34m\u001b[0m\u001b[0;34m\u001b[0m\u001b[0m\n\u001b[0;32m--> 100\u001b[0;31m         \u001b[0mfpath\u001b[0m \u001b[0;34m=\u001b[0m \u001b[0mos\u001b[0m\u001b[0;34m.\u001b[0m\u001b[0mpath\u001b[0m\u001b[0;34m.\u001b[0m\u001b[0mjoin\u001b[0m\u001b[0;34m(\u001b[0m\u001b[0mself\u001b[0m\u001b[0;34m.\u001b[0m\u001b[0mmodel_save_dir\u001b[0m\u001b[0;34m,\u001b[0m \u001b[0;34m'encoder_mlm.pth'\u001b[0m\u001b[0;34m)\u001b[0m\u001b[0;34m\u001b[0m\u001b[0;34m\u001b[0m\u001b[0m\n\u001b[0m\u001b[1;32m    101\u001b[0m         \u001b[0mtorch\u001b[0m\u001b[0;34m.\u001b[0m\u001b[0msave\u001b[0m\u001b[0;34m(\u001b[0m\u001b[0mself\u001b[0m\u001b[0;34m.\u001b[0m\u001b[0mencoder_obj\u001b[0m\u001b[0;34m,\u001b[0m \u001b[0mfpath\u001b[0m\u001b[0;34m)\u001b[0m\u001b[0;34m\u001b[0m\u001b[0;34m\u001b[0m\u001b[0m\n\u001b[1;32m    102\u001b[0m         \u001b[0mfpath\u001b[0m \u001b[0;34m=\u001b[0m \u001b[0mos\u001b[0m\u001b[0;34m.\u001b[0m\u001b[0mpath\u001b[0m\u001b[0;34m.\u001b[0m\u001b[0mjoin\u001b[0m\u001b[0;34m(\u001b[0m\u001b[0mself\u001b[0m\u001b[0;34m.\u001b[0m\u001b[0mmodel_save_dir\u001b[0m\u001b[0;34m,\u001b[0m \u001b[0;34m'decoder_mlm.pth'\u001b[0m\u001b[0;34m)\u001b[0m\u001b[0;34m\u001b[0m\u001b[0;34m\u001b[0m\u001b[0m\n",
      "\u001b[0;31mNameError\u001b[0m: name 'os' is not defined"
     ]
    }
   ],
   "source": [
    "xformer_obj.save_model()"
   ]
  },
  {
   "cell_type": "code",
   "execution_count": 5,
   "id": "6344c86e-ba64-42e3-b88f-2498b3e5b531",
   "metadata": {},
   "outputs": [],
   "source": [
    "import matplotlib.pyplot as plt"
   ]
  },
  {
   "cell_type": "code",
   "execution_count": 6,
   "id": "56862f0b-ca83-4a55-b4ec-20219a0a4eea",
   "metadata": {},
   "outputs": [
    {
     "data": {
      "text/plain": [
       "[<matplotlib.lines.Line2D at 0x7f79a4b79850>]"
      ]
     },
     "execution_count": 6,
     "metadata": {},
     "output_type": "execute_result"
    },
    {
     "data": {
      "image/png": "[encoded data removed]",
      "text/plain": [
       "<Figure size 432x288 with 1 Axes>"
      ]
     },
     "metadata": {
      "needs_background": "light"
     },
     "output_type": "display_data"
    }
   ],
   "source": [
    "plt.plot(np.arange(len(losses)), losses)"
   ]
  },
  {
   "cell_type": "code",
   "execution_count": 10,
   "id": "67a4a22b-3ee6-4ba6-a8ed-393679f8b070",
   "metadata": {},
   "outputs": [
    {
     "data": {
      "text/plain": [
       "[<matplotlib.lines.Line2D at 0x7f79e058aee0>]"
      ]
     },
     "execution_count": 10,
     "metadata": {},
     "output_type": "execute_result"
    },
    {
     "data": {
      "image/png": "[encoded data removed]",
      "text/plain": [
       "<Figure size 432x288 with 1 Axes>"
      ]
     },
     "metadata": {
      "needs_background": "light"
     },
     "output_type": "display_data"
    }
   ],
   "source": [
    "plt.plot(np.arange(len(losses)), losses)"
   ]
  },
  {
   "cell_type": "code",
   "execution_count": 5,
   "id": "6c57da30-bc85-49ac-a566-2700101ba293",
   "metadata": {},
   "outputs": [
    {
     "name": "stdout",
     "output_type": "stream",
     "text": [
      "column_indices.shape (5000, 8)\n"
     ]
    }
   ],
   "source": [
    "seq_data, labels, token_weights = get_maksed_tokens(\n",
    "            data, \n",
    "            cardinality\n",
    "        )"
   ]
  },
  {
   "cell_type": "code",
   "execution_count": 16,
   "id": "563cee02-11fe-4466-9a28-71e89d9c567e",
   "metadata": {},
   "outputs": [
    {
     "data": {
      "text/plain": [
       "Encoder(\n",
       "  (field_embedding): ModuleList(\n",
       "    (0): Embedding(532, 16)\n",
       "    (1): Embedding(2386, 16)\n",
       "    (2): Embedding(1547, 16)\n",
       "    (3): Embedding(264, 16)\n",
       "    (4): Embedding(61, 16)\n",
       "    (5): Embedding(127, 16)\n",
       "    (6): Embedding(85, 16)\n",
       "    (7): Embedding(2159, 16)\n",
       "  )\n",
       "  (PE): PositionalEncoding(\n",
       "    (dropout): Dropout(p=0.0, inplace=False)\n",
       "  )\n",
       "  (cat_xformer): TransformerEncoderLayer(\n",
       "    (self_attn): MultiheadAttention(\n",
       "      (out_proj): NonDynamicallyQuantizableLinear(in_features=16, out_features=16, bias=True)\n",
       "    )\n",
       "    (linear1): Linear(in_features=16, out_features=512, bias=True)\n",
       "    (dropout): Dropout(p=0.1, inplace=False)\n",
       "    (linear2): Linear(in_features=512, out_features=16, bias=True)\n",
       "    (norm1): LayerNorm((16,), eps=1e-05, elementwise_affine=True)\n",
       "    (norm2): LayerNorm((16,), eps=1e-05, elementwise_affine=True)\n",
       "    (dropout1): Dropout(p=0.1, inplace=False)\n",
       "    (dropout2): Dropout(p=0.1, inplace=False)\n",
       "  )\n",
       "  (numAttr_LN): LayerNorm((0,), eps=1e-05, elementwise_affine=True)\n",
       "  (encoder_xformer_joint): TransformerEncoder(\n",
       "    (layers): ModuleList(\n",
       "      (0): TransformerEncoderLayer(\n",
       "        (self_attn): MultiheadAttention(\n",
       "          (out_proj): NonDynamicallyQuantizableLinear(in_features=16, out_features=16, bias=True)\n",
       "        )\n",
       "        (linear1): Linear(in_features=16, out_features=2048, bias=True)\n",
       "        (dropout): Dropout(p=0.1, inplace=False)\n",
       "        (linear2): Linear(in_features=2048, out_features=16, bias=True)\n",
       "        (norm1): LayerNorm((16,), eps=1e-05, elementwise_affine=True)\n",
       "        (norm2): LayerNorm((16,), eps=1e-05, elementwise_affine=True)\n",
       "        (dropout1): Dropout(p=0.1, inplace=False)\n",
       "        (dropout2): Dropout(p=0.1, inplace=False)\n",
       "      )\n",
       "      (1): TransformerEncoderLayer(\n",
       "        (self_attn): MultiheadAttention(\n",
       "          (out_proj): NonDynamicallyQuantizableLinear(in_features=16, out_features=16, bias=True)\n",
       "        )\n",
       "        (linear1): Linear(in_features=16, out_features=2048, bias=True)\n",
       "        (dropout): Dropout(p=0.1, inplace=False)\n",
       "        (linear2): Linear(in_features=2048, out_features=16, bias=True)\n",
       "        (norm1): LayerNorm((16,), eps=1e-05, elementwise_affine=True)\n",
       "        (norm2): LayerNorm((16,), eps=1e-05, elementwise_affine=True)\n",
       "        (dropout1): Dropout(p=0.1, inplace=False)\n",
       "        (dropout2): Dropout(p=0.1, inplace=False)\n",
       "      )\n",
       "    )\n",
       "  )\n",
       ")"
      ]
     },
     "execution_count": 16,
     "metadata": {},
     "output_type": "execute_result"
    }
   ],
   "source": [
    "xformer_obj.encoder_obj"
   ]
  },
  {
   "cell_type": "code",
   "execution_count": 6,
   "id": "420e683b-2eca-4104-ba2f-4f3760a66bbd",
   "metadata": {
    "scrolled": true,
    "tags": []
   },
   "outputs": [
    {
     "data": {
      "text/plain": [
       "array([[  95, 1455,  530, ...,    0,   16, 1617],\n",
       "       [  26,    0,  727, ...,  108,   55,  342],\n",
       "       [  87,   93,   77, ...,   65,   32,  265],\n",
       "       ...,\n",
       "       [ 279, 2368,    0, ...,   83,   41, 2010],\n",
       "       [  65,    0,   76, ...,  121,   15, 1529],\n",
       "       [ 276,    0, 1486, ...,  121,   35,  325]])"
      ]
     },
     "execution_count": 6,
     "metadata": {},
     "output_type": "execute_result"
    }
   ],
   "source": [
    "seq_data[128*6:128*7]"
   ]
  },
  {
   "cell_type": "code",
   "execution_count": 17,
   "id": "e3f4209e-25e3-4610-bfbd-7cfaa09ac7db",
   "metadata": {},
   "outputs": [
    {
     "data": {
      "text/plain": [
       "61"
      ]
     },
     "execution_count": 17,
     "metadata": {},
     "output_type": "execute_result"
    }
   ],
   "source": [
    "np.max(seq_data[:,4])"
   ]
  },
  {
   "cell_type": "code",
   "execution_count": 7,
   "id": "d23ae537-0472-4f3f-a87d-fd3dcd69abc3",
   "metadata": {},
   "outputs": [
    {
     "data": {
      "text/plain": [
       "[532, 2386, 1547, 264, 61, 127, 85, 2159]"
      ]
     },
     "execution_count": 7,
     "metadata": {},
     "output_type": "execute_result"
    }
   ],
   "source": [
    "cardinality"
   ]
  },
  {
   "cell_type": "code",
   "execution_count": null,
   "id": "90e0afe9-4543-4b23-8869-913bee7852ef",
   "metadata": {},
   "outputs": [],
   "source": [
    "a = np.array([[-1,1,-1],[1,-2,0]])\n",
    "np.where(a == -1, 0, a) \n"
   ]
  },
  {
   "cell_type": "code",
   "execution_count": null,
   "id": "e7b200bb-7133-45bb-8dcb-14653f02a54f",
   "metadata": {},
   "outputs": [],
   "source": []
  }
 ],
 "metadata": {
  "kernelspec": {
   "display_name": "Python 3 (ipykernel)",
   "language": "python",
   "name": "python3"
  },
  "language_info": {
   "codemirror_mode": {
    "name": "ipython",
    "version": 3
   },
   "file_extension": ".py",
   "mimetype": "text/x-python",
   "name": "python",
   "nbconvert_exporter": "python",
   "pygments_lexer": "ipython3",
   "version": "3.8.12"
  }
 },
 "nbformat": 4,
 "nbformat_minor": 5
}
