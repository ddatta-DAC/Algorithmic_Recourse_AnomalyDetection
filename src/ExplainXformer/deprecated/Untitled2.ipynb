{
 "cells": [
  {
   "cell_type": "code",
   "execution_count": 3,
   "id": "afbba963-18ef-44d7-b911-30fe1ebe6e99",
   "metadata": {},
   "outputs": [],
   "source": [
    "import numpy as np\n",
    "import torch \n",
    "import os\n",
    "import sys\n",
    "import pandas as pd\n",
    "import numpy as np\n",
    "import glob\n",
    "import re\n",
    "from pprint import pprint\n",
    "from typing import *\n",
    "sys.path.append('./..')\n",
    "from PanjivaDataPreprocessor import data_fetcher_v1"
   ]
  },
  {
   "cell_type": "code",
   "execution_count": 21,
   "id": "8cf2b9ee-8f1f-41f4-8679-c556f9a29866",
   "metadata": {},
   "outputs": [
    {
     "data": {
      "text/plain": [
       "'\\nSample run\\n'"
      ]
     },
     "execution_count": 21,
     "metadata": {},
     "output_type": "execute_result"
    }
   ],
   "source": [
    "'''\n",
    "Set the MASK token to be 0\n",
    "token weights = 0 - means the loss does not need to be accounted for \n",
    "'''\n",
    "def get_maksed_tokens(\n",
    "    data, \n",
    "    column_cardinalities, \n",
    "    k1 = 0.8, \n",
    "    k2 = 0.2,\n",
    "    uniform_column_choice = True\n",
    "):\n",
    "    column_indices = np.array(data)\n",
    "    mask_token_id = 0\n",
    "\n",
    "    # =======\n",
    "    num_attr = data.shape[-1]\n",
    "    if uniform_column_choice:\n",
    "        column_prob = np.array([1/num_attr for _ in range(num_attr)])\n",
    "    else:\n",
    "        column_prob = np.array([np.power(column_cardinalities[i]/sum(column_cardinalities),0.5) for i in range(num_attr)]) \n",
    "        column_prob = column_prob/np.sum(column_prob)\n",
    "    print('[Columns Probability]',column_prob)    \n",
    "    \n",
    "    inp_mask = np.random.multinomial(1, column_prob, column_indices.shape[:1])\n",
    "    inp_mask = np.array(inp_mask, dtype=bool)\n",
    "    print('column_indices.shape', column_indices.shape)\n",
    "    # ======\n",
    "    # Set targets to -1 by default, it means ignore\n",
    "    # the labels to be predicted \n",
    "    # ======\n",
    "\n",
    "    labels = -1 * np.ones(column_indices.shape, dtype=int)\n",
    "    labels[inp_mask] = column_indices[inp_mask]\n",
    "\n",
    "    column_indices_masked = np.copy(column_indices)\n",
    "    # Replace k1 fraction of tokens with [MASK] following MLM\n",
    "    \n",
    "    inp_mask_2mask = inp_mask & (np.random.rand(*column_indices_masked.shape) < k1)\n",
    "    column_indices_masked[inp_mask_2mask] = mask_token_id  \n",
    "\n",
    "    # The indices that are not going to be changed\n",
    "    # Set this fraction to k2\n",
    "   \n",
    "    inp_mask_2random = inp_mask_2mask & (np.random.rand(*column_indices_masked.shape) < k2)\n",
    "    \n",
    "    # ----------------------\n",
    "    # Replace masks in each column by randomly sampling from candidate values\n",
    "    # ----------------------\n",
    "    values = []\n",
    "    for i in range(num_attr):\n",
    "        _values = np.random.randint(1, column_cardinalities[i]+1, inp_mask_2random[:,i].sum())\n",
    "        print(_values)\n",
    "        values.extend(_values)\n",
    "        \n",
    "    column_indices_masked[inp_mask_2random] =  values\n",
    "    data_masked = column_indices_masked\n",
    "    token_weights = np.ones(labels.shape)\n",
    "    token_weights[labels == -1] = 0\n",
    "\n",
    "    return data_masked, labels, token_weights\n",
    "\n",
    "'''\n",
    "Sample run\n",
    "'''\n",
    "# column_indices = [\n",
    "#     [12,90,64,24, 240],\n",
    "#     [22,91,65,25,241],\n",
    "#     [32,92,66,26,242],\n",
    "#     [42,93,67,27,243]\n",
    "# ]\n",
    "# column_indices = np.array(column_indices)\n",
    "# column_cardinalities = [45,100,70,30,250]\n",
    "\n",
    "# get_maksed_tokens(\n",
    "#     column_indices, \n",
    "#     column_cardinalities,\n",
    "#     uniform_column_choice = False\n",
    "# )"
   ]
  },
  {
   "cell_type": "code",
   "execution_count": 25,
   "id": "fbfc16ed-62ca-4867-a4db-86359a5156c3",
   "metadata": {},
   "outputs": [],
   "source": [
    "data = data_fetcher_v1.get_training_set_data('us_import1')\n",
    "del data['PanjivaRecordID']\n",
    "data = data.head(1000)\n",
    "data = data.values\n",
    "domain_dims_df = data_fetcher_v1.get_domain_dims('us_import1')\n",
    "cardinality = domain_dims_df['dimension'].tolist()"
   ]
  },
  {
   "cell_type": "code",
   "execution_count": 26,
   "id": "fc27d161-00ab-4fe6-8f82-f0f5f2c8b9a3",
   "metadata": {},
   "outputs": [
    {
     "data": {
      "text/plain": [
       "[531, 2385, 1546, 263, 60, 126, 84, 2158]"
      ]
     },
     "execution_count": 26,
     "metadata": {},
     "output_type": "execute_result"
    }
   ],
   "source": [
    "cardinality"
   ]
  },
  {
   "cell_type": "code",
   "execution_count": null,
   "id": "33e20d4e-9377-407e-b3c8-603bf6002a8d",
   "metadata": {},
   "outputs": [],
   "source": []
  },
  {
   "cell_type": "code",
   "execution_count": 27,
   "id": "24129385-d012-4bee-b3ce-f09680c5351a",
   "metadata": {},
   "outputs": [
    {
     "name": "stdout",
     "output_type": "stream",
     "text": [
      "[Columns Probability] [0.125 0.125 0.125 0.125 0.125 0.125 0.125 0.125]\n",
      "column_indices.shape (1000, 8)\n",
      "[403 289 106 152  15 141 291  82 145 485 197 342 385  72 112 461 170  52\n",
      " 506 412 125 175 166 177 147 228 185]\n",
      "[1196 1524 1428 1366 1748 1862  795 1456  935 1148  483 1061  335  274\n",
      "  430 2285  666]\n",
      "[ 135  132 1151  353 1141 1184 1308  181   15   79  229  906 1339  291\n",
      "  145   98  364  781  479  560  561 1306  781  471  553  642 1202]\n",
      "[170  90 145 258  51 140  11 241  78 108 146  85 108 110 261]\n",
      "[39 37 42 52 31 35 37 45 45 20 18 13 47 60  6  5 33]\n",
      "[121  55  34 117 106  89   2  37   9  81 125  65   8  90 113  73  52  31\n",
      "  61  91]\n",
      "[44 67 39 40 46 62 50 79  9 47 47 53 19 31  4 65 45]\n",
      "[1054  330 1445 1786   76 1663 1269 1987  766   17  437 1275 1881  629]\n"
     ]
    },
    {
     "data": {
      "text/plain": [
       "(array([[ 206, 1054, 1113, ...,   82,   15, 1242],\n",
       "        [  79,  237,  529, ...,   83,   15,  403],\n",
       "        [ 529, 2369, 1210, ...,   20,   15,  933],\n",
       "        ...,\n",
       "        [ 207, 2039,  821, ...,   92,   34,  710],\n",
       "        [ 140,  543,  583, ...,    0,   15, 2107],\n",
       "        [   0,  749,  955, ...,   36,   80, 1953]]),\n",
       " array([[  -1,   -1,   -1, ...,   -1,   -1,   -1],\n",
       "        [  -1,   -1,   -1, ...,   -1,   -1, 1777],\n",
       "        [  -1,   -1,   -1, ...,   -1,   -1,   -1],\n",
       "        ...,\n",
       "        [  -1,   -1,   -1, ...,   -1,   -1,   -1],\n",
       "        [  -1,   -1,   -1, ...,   10,   -1,   -1],\n",
       "        [ 299,   -1,   -1, ...,   -1,   -1,   -1]]),\n",
       " array([[0., 0., 0., ..., 0., 0., 0.],\n",
       "        [0., 0., 0., ..., 0., 0., 1.],\n",
       "        [0., 0., 0., ..., 0., 0., 0.],\n",
       "        ...,\n",
       "        [0., 0., 0., ..., 0., 0., 0.],\n",
       "        [0., 0., 0., ..., 1., 0., 0.],\n",
       "        [1., 0., 0., ..., 0., 0., 0.]]))"
      ]
     },
     "execution_count": 27,
     "metadata": {},
     "output_type": "execute_result"
    }
   ],
   "source": [
    "get_maksed_tokens(\n",
    "    data, \n",
    "    cardinality\n",
    ")"
   ]
  },
  {
   "cell_type": "code",
   "execution_count": null,
   "id": "e52ff34c-d970-451f-b0db-ec199c29c3a6",
   "metadata": {},
   "outputs": [],
   "source": []
  }
 ],
 "metadata": {
  "kernelspec": {
   "display_name": "Python 3 (ipykernel)",
   "language": "python",
   "name": "python3"
  },
  "language_info": {
   "codemirror_mode": {
    "name": "ipython",
    "version": 3
   },
   "file_extension": ".py",
   "mimetype": "text/x-python",
   "name": "python",
   "nbconvert_exporter": "python",
   "pygments_lexer": "ipython3",
   "version": "3.8.12"
  }
 },
 "nbformat": 4,
 "nbformat_minor": 5
}
