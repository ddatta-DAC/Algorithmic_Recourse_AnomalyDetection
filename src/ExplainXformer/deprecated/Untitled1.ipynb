{
 "cells": [
  {
   "cell_type": "code",
   "execution_count": 1,
   "id": "c94818da-20af-4b3a-a532-d972dd3fcbfb",
   "metadata": {},
   "outputs": [],
   "source": [
    "%load_ext autoreload\n",
    "%autoreload 2 \n",
    "import os\n",
    "import sys\n",
    "import os\n",
    "import sys\n",
    "import torch\n",
    "import pandas as pd\n",
    "import numpy as np\n",
    "from torch import FloatTensor as FT\n",
    "from torch import nn\n",
    "from torch import LongTensor as LT\n",
    "from torch.nn import Module\n",
    "from torch.nn import functional as F\n",
    "import sys\n",
    "sys.path.append('./..')\n",
    "from  modules import PE\n",
    "from typing import *\n",
    "import math\n",
    "import sys\n",
    "sys.path.append('./..')\n",
    "from  modules import PE\n",
    "from typing import *\n",
    "import math\n",
    "\n",
    "\n",
    "DEVICE = torch.device(\"cuda\" if torch.cuda.is_available() else \"cpu\")\n",
    "DEVICE = torch.device(\"cpu\")"
   ]
  },
  {
   "cell_type": "code",
   "execution_count": 2,
   "id": "5263cab7-24de-41f0-b452-61487bb52193",
   "metadata": {},
   "outputs": [],
   "source": [
    "from  encoder_v1 import Encoder"
   ]
  },
  {
   "cell_type": "code",
   "execution_count": null,
   "id": "38e4a9f1-b40f-4ef6-ac39-8845f0e931b0",
   "metadata": {},
   "outputs": [],
   "source": [
    "\n",
    "\n",
    "\n",
    "\n"
   ]
  },
  {
   "cell_type": "code",
   "execution_count": 3,
   "id": "8a7a755f-ab6b-4ad8-b179-04bd43c0851f",
   "metadata": {},
   "outputs": [],
   "source": [
    "enc = Encoder(\n",
    "    64, \n",
    "    24, \n",
    "    8, \n",
    "    [10,20,30],\n",
    "    count_numerical_attr = 4,\n",
    "    device = DEVICE\n",
    ")"
   ]
  },
  {
   "cell_type": "code",
   "execution_count": 4,
   "id": "bbc83ff1-f4f4-4257-85cc-1c0a96df0b50",
   "metadata": {},
   "outputs": [
    {
     "data": {
      "text/plain": [
       "PositionalEncoding(\n",
       "  (dropout): Dropout(p=0.0, inplace=False)\n",
       ")"
      ]
     },
     "execution_count": 4,
     "metadata": {},
     "output_type": "execute_result"
    }
   ],
   "source": [
    "enc.PE"
   ]
  },
  {
   "cell_type": "code",
   "execution_count": null,
   "id": "fa307ebc-29b0-4f67-86d8-16d0d48fab65",
   "metadata": {},
   "outputs": [],
   "source": []
  },
  {
   "cell_type": "code",
   "execution_count": null,
   "id": "410d5e32-6f4a-47b3-a0ba-f7188f5e17e2",
   "metadata": {},
   "outputs": [],
   "source": []
  },
  {
   "cell_type": "code",
   "execution_count": 5,
   "id": "a9ea8c0a-4035-4e5e-a727-b3cd4e3cd1e9",
   "metadata": {},
   "outputs": [
    {
     "ename": "NameError",
     "evalue": "name 'Decoder' is not defined",
     "output_type": "error",
     "traceback": [
      "\u001b[0;31m---------------------------------------------------------------------------\u001b[0m",
      "\u001b[0;31mNameError\u001b[0m                                 Traceback (most recent call last)",
      "\u001b[0;32m/tmp/ipykernel_16570/1351080780.py\u001b[0m in \u001b[0;36m<module>\u001b[0;34m\u001b[0m\n\u001b[0;32m----> 1\u001b[0;31m dec = Decoder(\n\u001b[0m\u001b[1;32m      2\u001b[0m     \u001b[0md_emb_dim\u001b[0m \u001b[0;34m=\u001b[0m \u001b[0;36m64\u001b[0m\u001b[0;34m,\u001b[0m\u001b[0;34m\u001b[0m\u001b[0;34m\u001b[0m\u001b[0m\n\u001b[1;32m      3\u001b[0m     \u001b[0mxformer_heads\u001b[0m \u001b[0;34m=\u001b[0m \u001b[0;36m8\u001b[0m\u001b[0;34m,\u001b[0m\u001b[0;34m\u001b[0m\u001b[0;34m\u001b[0m\u001b[0m\n\u001b[1;32m      4\u001b[0m     \u001b[0mcardinality\u001b[0m \u001b[0;34m=\u001b[0m \u001b[0;34m[\u001b[0m\u001b[0;36m10\u001b[0m\u001b[0;34m,\u001b[0m\u001b[0;36m20\u001b[0m\u001b[0;34m,\u001b[0m\u001b[0;36m30\u001b[0m\u001b[0;34m]\u001b[0m\u001b[0;34m,\u001b[0m\u001b[0;34m\u001b[0m\u001b[0;34m\u001b[0m\u001b[0m\n\u001b[1;32m      5\u001b[0m     \u001b[0mcount_numerical_attr\u001b[0m \u001b[0;34m=\u001b[0m \u001b[0;36m4\u001b[0m\u001b[0;34m,\u001b[0m\u001b[0;34m\u001b[0m\u001b[0;34m\u001b[0m\u001b[0m\n",
      "\u001b[0;31mNameError\u001b[0m: name 'Decoder' is not defined"
     ]
    }
   ],
   "source": [
    "dec = Decoder(\n",
    "    d_emb_dim = 64,\n",
    "    xformer_heads = 8,\n",
    "    cardinality = [10,20,30],\n",
    "    count_numerical_attr = 4,\n",
    "    device = DEVICE\n",
    ")"
   ]
  },
  {
   "cell_type": "code",
   "execution_count": 6,
   "id": "06668608-4da3-4151-a23a-e043376fa35d",
   "metadata": {},
   "outputs": [],
   "source": [
    "x1 = np.random.randint(0,10,100).reshape(-1,1)\n",
    "x2 = np.random.randint(0,20,100).reshape(-1,1)\n",
    "x3 = np.random.randint(0,30,100).reshape(-1,1)\n",
    "x4 = np.random.normal(size=[100,4])\n",
    "x = np.concatenate([x1,x2,x3,x4],axis=-1)\n",
    "x = FT(x)\n",
    "enc_x, emb = enc(x)"
   ]
  },
  {
   "cell_type": "code",
   "execution_count": 7,
   "id": "a750334a-467c-4ff7-b996-ea057d3d3319",
   "metadata": {},
   "outputs": [
    {
     "ename": "NameError",
     "evalue": "name 'dec' is not defined",
     "output_type": "error",
     "traceback": [
      "\u001b[0;31m---------------------------------------------------------------------------\u001b[0m",
      "\u001b[0;31mNameError\u001b[0m                                 Traceback (most recent call last)",
      "\u001b[0;32m/tmp/ipykernel_16570/212805589.py\u001b[0m in \u001b[0;36m<module>\u001b[0;34m\u001b[0m\n\u001b[0;32m----> 1\u001b[0;31m \u001b[0mop\u001b[0m \u001b[0;34m=\u001b[0m \u001b[0mdec\u001b[0m\u001b[0;34m(\u001b[0m\u001b[0menc_x\u001b[0m\u001b[0;34m,\u001b[0m \u001b[0memb\u001b[0m \u001b[0;34m)\u001b[0m\u001b[0;34m\u001b[0m\u001b[0;34m\u001b[0m\u001b[0m\n\u001b[0m",
      "\u001b[0;31mNameError\u001b[0m: name 'dec' is not defined"
     ]
    }
   ],
   "source": [
    "op = dec(enc_x, emb )"
   ]
  },
  {
   "cell_type": "code",
   "execution_count": 237,
   "id": "a0863228-83e8-454a-a158-f2af1b447aa1",
   "metadata": {},
   "outputs": [
    {
     "data": {
      "text/plain": [
       "torch.Size([100, 4])"
      ]
     },
     "execution_count": 237,
     "metadata": {},
     "output_type": "execute_result"
    }
   ],
   "source": [
    "op.shape"
   ]
  },
  {
   "cell_type": "code",
   "execution_count": 8,
   "id": "24cf331c-592a-4713-a164-8964f758341f",
   "metadata": {},
   "outputs": [
    {
     "data": {
      "text/plain": [
       "torch.Size([100, 4, 64])"
      ]
     },
     "execution_count": 8,
     "metadata": {},
     "output_type": "execute_result"
    }
   ],
   "source": [
    "enc_x.shape"
   ]
  },
  {
   "cell_type": "code",
   "execution_count": null,
   "id": "e120d2e0-9023-4e42-840f-209ab902455f",
   "metadata": {},
   "outputs": [],
   "source": []
  }
 ],
 "metadata": {
  "kernelspec": {
   "display_name": "Python 3 (ipykernel)",
   "language": "python",
   "name": "python3"
  },
  "language_info": {
   "codemirror_mode": {
    "name": "ipython",
    "version": 3
   },
   "file_extension": ".py",
   "mimetype": "text/x-python",
   "name": "python",
   "nbconvert_exporter": "python",
   "pygments_lexer": "ipython3",
   "version": "3.8.12"
  }
 },
 "nbformat": 4,
 "nbformat_minor": 5
}
