{
 "cells": [
  {
   "cell_type": "code",
   "execution_count": 1,
   "id": "d02f336c-165f-46fd-8ea0-93db073fa162",
   "metadata": {},
   "outputs": [],
   "source": [
    "%load_ext autoreload\n",
    "%autoreload 2\n",
    "import os\n",
    "import sys\n",
    "import pandas as pd\n",
    "import numpy as np\n",
    "import pickle\n",
    "import torch\n",
    "from torch import nn\n",
    "import yaml\n",
    "from pathlib import Path\n",
    "from collections import OrderedDict\n",
    "\n",
    "import proxyClassifier\n",
    "import perturbation_model\n",
    "from proxyClassifier import proxy_clf_network, proxy_clf\n",
    "\n",
    "from perturbation_model import perturb_network, perturb_clf\n",
    "\n",
    "DEVICE = torch.device(\"cuda:0\" if torch.cuda.is_available() else \"cpu\")\n",
    "\n",
    "try:\n",
    "    file_path = os.path.realpath(__file__)\n",
    "    base_path =  os.path.dirname(basepath)\n",
    "except:\n",
    "    base_path = './'\n",
    "CONFIG_FILE = os.path.join(base_path, 'config.yaml')\n",
    "ID_COL = 'PanjivaRecordID'\n",
    "\n",
    "\n",
    "# Globals\n",
    "DIR = None\n",
    "Data_Dir = None\n",
    "Anom_Dir = None\n",
    "data_count = None \n",
    "clf_batch_size = None\n",
    "clf_model_save_dir = None \n",
    "perturbModel_train_epochs = None\n",
    "def setup_config(_dir):\n",
    "    global DIR, Data_Dir, Anom_Dir\n",
    "    global CONFIG_FILE\n",
    "    global data_count\n",
    "    global clf_batch_size\n",
    "    global clf_model_save_dir\n",
    "    global base_path\n",
    "    global perturbModel_train_epochs\n",
    "    \n",
    "    with open(CONFIG_FILE,'r') as fh:\n",
    "        CONFIG = yaml.safe_load(fh)\n",
    "    Data_Dir = CONFIG['data_loc']\n",
    "    Anom_Dir = CONFIG['anom_data_path']\n",
    "    DIR = _dir\n",
    "    data_count = CONFIG['data_count']\n",
    "    clf_batch_size = CONFIG['clf_batch_size']\n",
    "    clf_model_save_dir = os.path.join(base_path, './clf_model_save_dir', DIR)\n",
    "    Path(clf_model_save_dir).mkdir(exist_ok=True, parents=True)\n",
    "    Path(clf_model_save_dir).mkdir(exist_ok=True, parents=True)\n",
    "    perturbModel_train_epochs = CONFIG['perturbModel_train_epochs']\n",
    "    return\n",
    "\n",
    "setup_config('us_import1')"
   ]
  },
  {
   "cell_type": "code",
   "execution_count": 2,
   "id": "fbefa08b-58f3-4b4b-90ea-9abe8c7472c7",
   "metadata": {},
   "outputs": [],
   "source": [
    "def get_domain_dims():\n",
    "    global DIR, Data_Dir\n",
    "    with open(os.path.join(Data_Dir, DIR, 'domain_dims.pkl'), 'rb') as fh:\n",
    "        domain_dims = OrderedDict(pickle.load(fh))\n",
    "    return domain_dims"
   ]
  },
  {
   "cell_type": "code",
   "execution_count": 3,
   "id": "73d03561-d241-4c3e-9a66-9ef5be63bae9",
   "metadata": {},
   "outputs": [],
   "source": [
    "def proxy_training_data():\n",
    "    global DIR, Data_Dir, Anom_Dir, data_points, ID_COL, data_count\n",
    "    # normal_instances\n",
    "    path_normal = os.path.join(Data_Dir, DIR, 'train_data.csv')\n",
    "    df_normal = pd.read_csv(path_normal,index_col=None)\n",
    "    \n",
    "    path_anom = os.path.join(Anom_Dir, DIR, 'anomalies_1_1.csv')\n",
    "    df_anomalies_1 = pd.read_csv(path_normal,index_col=None)\n",
    "    \n",
    "    path_anom = os.path.join(Anom_Dir, DIR, 'anomalies_1_2.csv')\n",
    "    df_anomalies_2 = pd.read_csv(path_normal,index_col=None)\n",
    "    \n",
    "    df_anomalies = df_anomalies_1.append(df_anomalies_2,ignore_index=True)\n",
    "    \n",
    "    \n",
    "    if data_count > 0:\n",
    "        if len(df_anomalies) < data_count:\n",
    "            df_anomalies = df_anomalies.sample(n = data_count, replace=True)\n",
    "        else:\n",
    "            df_anomalies = df_anomalies.sample(n = data_count)\n",
    "\n",
    "        df_normal = df_normal.sample(n = data_count) \n",
    "        \n",
    "    # create X, Y\n",
    "    Y1 = np.ones([len(df_normal)])\n",
    "    Y2 = np.zeros([len(df_anomalies)])\n",
    "    \n",
    "    try: del df_normal[ID_COL]\n",
    "    except: pass\n",
    "    try: del df_anomalies[ID_COL]\n",
    "    except: pass\n",
    "    X1 = df_normal.values\n",
    "    X2 = df_anomalies.values\n",
    "    \n",
    "    X = np.vstack([X1,X2])\n",
    "    Y = np.hstack([Y1,Y2])            \n",
    "    \n",
    "    return X,Y\n",
    "    "
   ]
  },
  {
   "cell_type": "code",
   "execution_count": null,
   "id": "a00c3f7b-7a1c-483b-a90e-70b17d3d2d4f",
   "metadata": {},
   "outputs": [],
   "source": []
  },
  {
   "cell_type": "code",
   "execution_count": 4,
   "id": "157b21e9-f723-4dfd-8b22-23a6933b3c49",
   "metadata": {},
   "outputs": [],
   "source": [
    "def get_proxy_clf():\n",
    "    \"\"\"\n",
    "    Train model  and store\n",
    "    \"\"\"\n",
    "    global clf_batch_size, DIR\n",
    "    global DEVICE\n",
    "    global clf_model_save_dir\n",
    "    domain_dims = get_domain_dims()\n",
    "    \n",
    "    network = proxy_clf_network(\n",
    "        list(domain_dims.values())\n",
    "    )\n",
    "    clf_obj = proxy_clf(\n",
    "            model = network,\n",
    "            dataset = DIR, \n",
    "            save_dir = clf_model_save_dir,\n",
    "            batch_size= clf_batch_size,\n",
    "            device = DEVICE    \n",
    "        )\n",
    "    \n",
    "    try:\n",
    "        clf_obj.load_model()\n",
    "    except:\n",
    "        \n",
    "        train_X, train_Y = proxy_training_data()\n",
    "        clf_obj.fit(train_X, train_Y.reshape([-1,1]), num_epochs=200)\n",
    "        clf_obj.save_model()\n",
    "    \n",
    "    return clf_obj"
   ]
  },
  {
   "cell_type": "code",
   "execution_count": 5,
   "id": "bf764fd4-c80b-4e3d-8cf0-8bdbeb0862c2",
   "metadata": {
    "tags": []
   },
   "outputs": [
    {
     "name": "stdout",
     "output_type": "stream",
     "text": [
      "Device cuda:0\n"
     ]
    }
   ],
   "source": [
    "clf_obj = get_proxy_clf()"
   ]
  },
  {
   "cell_type": "code",
   "execution_count": 6,
   "id": "f2b28516-31fc-4762-ac6a-f1718f93410f",
   "metadata": {
    "scrolled": true,
    "tags": []
   },
   "outputs": [],
   "source": [
    "def train_pert_model():\n",
    "    global DEVICE, DIR\n",
    "    domain_dims = get_domain_dims()\n",
    "    clf_obj = get_proxy_clf()\n",
    "    clf_network = clf_obj.model\n",
    "    \n",
    "    perturb_network_obj  = perturb_network(\n",
    "        list(domain_dims.values())\n",
    "    )\n",
    "    \n",
    "    perturb_clf_obj = perturb_clf(\n",
    "        perturb_model = perturb_network_obj,\n",
    "        clf_model = clf_network,\n",
    "        dataset = DIR,\n",
    "        device = DEVICE\n",
    "    )\n",
    "    # Train the model \n",
    "    \n",
    "    return perturb_clf_obj"
   ]
  },
  {
   "cell_type": "code",
   "execution_count": 7,
   "id": "276cef11-93d5-4165-b8ed-7536a4909709",
   "metadata": {},
   "outputs": [
    {
     "name": "stdout",
     "output_type": "stream",
     "text": [
      "Device cuda:0\n"
     ]
    }
   ],
   "source": [
    "perturb_clf_obj = train_pert_model()"
   ]
  },
  {
   "cell_type": "code",
   "execution_count": 8,
   "id": "6d1323bd-7028-401b-ab9f-93862310c53f",
   "metadata": {},
   "outputs": [
    {
     "data": {
      "text/plain": [
       "(20000,)"
      ]
     },
     "execution_count": 8,
     "metadata": {},
     "output_type": "execute_result"
    }
   ],
   "source": [
    "train_X, train_Y = proxy_training_data()\n",
    "\n",
    "train_X.shape\n",
    "\n",
    "train_Y.shape"
   ]
  },
  {
   "cell_type": "code",
   "execution_count": null,
   "id": "4bd9437f-6f01-41fa-8686-5bafae49d6ae",
   "metadata": {},
   "outputs": [],
   "source": []
  },
  {
   "cell_type": "code",
   "execution_count": 9,
   "id": "135a8b3a-facc-4b8d-8a48-dee85222b8c4",
   "metadata": {},
   "outputs": [
    {
     "name": "stderr",
     "output_type": "stream",
     "text": [
      "  1%|          | 10/1000 [00:00<00:36, 26.96it/s]"
     ]
    },
    {
     "name": "stdout",
     "output_type": "stream",
     "text": [
      "[Epoch] 0  | batch 0 | Loss 1.748657\n",
      "[Epoch] 1  | batch 0 | Loss 1.781845\n",
      "[Epoch] 2  | batch 0 | Loss 1.983910\n",
      "[Epoch] 3  | batch 0 | Loss 1.955962\n",
      "[Epoch] 4  | batch 0 | Loss 1.920985\n",
      "[Epoch] 5  | batch 0 | Loss 2.030923\n",
      "[Epoch] 6  | batch 0 | Loss 2.083749\n",
      "[Epoch] 7  | batch 0 | Loss 2.339351\n",
      "[Epoch] 8  | batch 0 | Loss 2.233174\n",
      "[Epoch] 9  | batch 0 | Loss 2.075572\n",
      "[Epoch] 10  | batch 0 | Loss 1.855489\n",
      "[Epoch] 11  | batch 0 | Loss 2.308291\n",
      "[Epoch] 12  | batch 0 | Loss 2.140818\n",
      "[Epoch] 13  | batch 0 | Loss 1.858302\n",
      "[Epoch] 14  | batch 0 | Loss 2.053906\n",
      "[Epoch] 15  | batch 0 | Loss 2.384487\n",
      "[Epoch] 16  | batch 0 | Loss 2.008908\n"
     ]
    },
    {
     "name": "stderr",
     "output_type": "stream",
     "text": [
      "  3%|▎         | 26/1000 [00:00<00:18, 52.49it/s]"
     ]
    },
    {
     "name": "stdout",
     "output_type": "stream",
     "text": [
      "[Epoch] 17  | batch 0 | Loss 1.966647\n",
      "[Epoch] 18  | batch 0 | Loss 2.172150\n",
      "[Epoch] 19  | batch 0 | Loss 2.151794\n",
      "[Epoch] 20  | batch 0 | Loss 2.093338\n",
      "[Epoch] 21  | batch 0 | Loss 1.764663\n",
      "[Epoch] 22  | batch 0 | Loss 1.881285\n",
      "[Epoch] 23  | batch 0 | Loss 1.833573\n",
      "[Epoch] 24  | batch 0 | Loss 2.060652\n",
      "[Epoch] 25  | batch 0 | Loss 2.118948\n",
      "[Epoch] 26  | batch 0 | Loss 1.873251\n",
      "[Epoch] 27  | batch 0 | Loss 1.937286\n",
      "[Epoch] 28  | batch 0 | Loss 1.927108\n",
      "[Epoch] 29  | batch 0 | Loss 2.081978\n",
      "[Epoch] 30  | batch 0 | Loss 1.942453\n",
      "[Epoch] 31  | batch 0 | Loss 1.958050\n",
      "[Epoch] 32  | batch 0 | Loss 1.630450\n",
      "[Epoch] 33  | batch 0 | Loss 1.924700\n"
     ]
    },
    {
     "name": "stderr",
     "output_type": "stream",
     "text": [
      "  4%|▍         | 44/1000 [00:00<00:14, 67.87it/s]"
     ]
    },
    {
     "name": "stdout",
     "output_type": "stream",
     "text": [
      "[Epoch] 34  | batch 0 | Loss 2.284096\n",
      "[Epoch] 35  | batch 0 | Loss 1.876199\n",
      "[Epoch] 36  | batch 0 | Loss 2.122646\n",
      "[Epoch] 37  | batch 0 | Loss 1.954559\n",
      "[Epoch] 38  | batch 0 | Loss 2.249629\n",
      "[Epoch] 39  | batch 0 | Loss 2.000776\n",
      "[Epoch] 40  | batch 0 | Loss 1.977582\n",
      "[Epoch] 41  | batch 0 | Loss 1.947464\n",
      "[Epoch] 42  | batch 0 | Loss 1.755363\n",
      "[Epoch] 43  | batch 0 | Loss 2.324058\n",
      "[Epoch] 44  | batch 0 | Loss 1.806571\n",
      "[Epoch] 45  | batch 0 | Loss 1.740412\n",
      "[Epoch] 46  | batch 0 | Loss 2.067109\n",
      "[Epoch] 47  | batch 0 | Loss 2.318245\n",
      "[Epoch] 48  | batch 0 | Loss 2.216286\n",
      "[Epoch] 49  | batch 0 | Loss 1.805020\n",
      "[Epoch] 50  | batch 0 | Loss 2.093611\n"
     ]
    },
    {
     "name": "stderr",
     "output_type": "stream",
     "text": [
      "  6%|▌         | 61/1000 [00:01<00:12, 74.19it/s]"
     ]
    },
    {
     "name": "stdout",
     "output_type": "stream",
     "text": [
      "[Epoch] 51  | batch 0 | Loss 1.451122\n",
      "[Epoch] 52  | batch 0 | Loss 1.839589\n",
      "[Epoch] 53  | batch 0 | Loss 1.877357\n",
      "[Epoch] 54  | batch 0 | Loss 2.143271\n",
      "[Epoch] 55  | batch 0 | Loss 2.006726\n",
      "[Epoch] 56  | batch 0 | Loss 2.115196\n",
      "[Epoch] 57  | batch 0 | Loss 2.121379\n",
      "[Epoch] 58  | batch 0 | Loss 2.112063\n",
      "[Epoch] 59  | batch 0 | Loss 1.885364\n",
      "[Epoch] 60  | batch 0 | Loss 1.938189\n",
      "[Epoch] 61  | batch 0 | Loss 1.711291\n",
      "[Epoch] 62  | batch 0 | Loss 1.959112\n",
      "[Epoch] 63  | batch 0 | Loss 1.567789\n",
      "[Epoch] 64  | batch 0 | Loss 2.096354\n",
      "[Epoch] 65  | batch 0 | Loss 2.272190\n",
      "[Epoch] 66  | batch 0 | Loss 1.643578\n",
      "[Epoch] 67  | batch 0 | Loss 2.283795\n"
     ]
    },
    {
     "name": "stderr",
     "output_type": "stream",
     "text": [
      "  8%|▊         | 79/1000 [00:01<00:11, 78.19it/s]"
     ]
    },
    {
     "name": "stdout",
     "output_type": "stream",
     "text": [
      "[Epoch] 68  | batch 0 | Loss 2.717146\n",
      "[Epoch] 69  | batch 0 | Loss 2.062598\n",
      "[Epoch] 70  | batch 0 | Loss 1.691499\n",
      "[Epoch] 71  | batch 0 | Loss 2.309451\n",
      "[Epoch] 72  | batch 0 | Loss 1.829885\n",
      "[Epoch] 73  | batch 0 | Loss 2.269151\n",
      "[Epoch] 74  | batch 0 | Loss 2.135408\n",
      "[Epoch] 75  | batch 0 | Loss 1.667966\n",
      "[Epoch] 76  | batch 0 | Loss 1.749386\n",
      "[Epoch] 77  | batch 0 | Loss 1.937741\n",
      "[Epoch] 78  | batch 0 | Loss 1.726317\n",
      "[Epoch] 79  | batch 0 | Loss 2.128721\n",
      "[Epoch] 80  | batch 0 | Loss 1.872778\n",
      "[Epoch] 81  | batch 0 | Loss 2.230427\n",
      "[Epoch] 82  | batch 0 | Loss 1.910013\n",
      "[Epoch] 83  | batch 0 | Loss 1.955326\n",
      "[Epoch] 84  | batch 0 | Loss 1.793359\n"
     ]
    },
    {
     "name": "stderr",
     "output_type": "stream",
     "text": [
      " 10%|▉         | 97/1000 [00:01<00:11, 80.07it/s]"
     ]
    },
    {
     "name": "stdout",
     "output_type": "stream",
     "text": [
      "[Epoch] 85  | batch 0 | Loss 1.899038\n",
      "[Epoch] 86  | batch 0 | Loss 1.709635\n",
      "[Epoch] 87  | batch 0 | Loss 2.293711\n",
      "[Epoch] 88  | batch 0 | Loss 2.317099\n",
      "[Epoch] 89  | batch 0 | Loss 1.870958\n",
      "[Epoch] 90  | batch 0 | Loss 1.909663\n",
      "[Epoch] 91  | batch 0 | Loss 1.726702\n",
      "[Epoch] 92  | batch 0 | Loss 1.882707\n",
      "[Epoch] 93  | batch 0 | Loss 1.849147\n",
      "[Epoch] 94  | batch 0 | Loss 1.717803\n",
      "[Epoch] 95  | batch 0 | Loss 2.146178\n",
      "[Epoch] 96  | batch 0 | Loss 1.970565\n",
      "[Epoch] 97  | batch 0 | Loss 1.983007\n",
      "[Epoch] 98  | batch 0 | Loss 2.138079\n",
      "[Epoch] 99  | batch 0 | Loss 2.312295\n",
      "[Epoch] 100  | batch 0 | Loss 1.563949\n",
      "[Epoch] 101  | batch 0 | Loss 2.324348\n"
     ]
    },
    {
     "name": "stderr",
     "output_type": "stream",
     "text": [
      " 12%|█▏        | 115/1000 [00:01<00:10, 80.70it/s]"
     ]
    },
    {
     "name": "stdout",
     "output_type": "stream",
     "text": [
      "[Epoch] 102  | batch 0 | Loss 2.458604\n",
      "[Epoch] 103  | batch 0 | Loss 1.764577\n",
      "[Epoch] 104  | batch 0 | Loss 1.952659\n",
      "[Epoch] 105  | batch 0 | Loss 1.739787\n",
      "[Epoch] 106  | batch 0 | Loss 1.968844\n",
      "[Epoch] 107  | batch 0 | Loss 2.143780\n",
      "[Epoch] 108  | batch 0 | Loss 1.786493\n",
      "[Epoch] 109  | batch 0 | Loss 1.976324\n",
      "[Epoch] 110  | batch 0 | Loss 2.031797\n",
      "[Epoch] 111  | batch 0 | Loss 1.926511\n",
      "[Epoch] 112  | batch 0 | Loss 2.347185\n",
      "[Epoch] 113  | batch 0 | Loss 2.079448\n",
      "[Epoch] 114  | batch 0 | Loss 1.708286\n",
      "[Epoch] 115  | batch 0 | Loss 2.077670\n",
      "[Epoch] 116  | batch 0 | Loss 2.396915\n",
      "[Epoch] 117  | batch 0 | Loss 2.079053\n",
      "[Epoch] 118  | batch 0 | Loss 1.637566\n"
     ]
    },
    {
     "name": "stderr",
     "output_type": "stream",
     "text": [
      " 13%|█▎        | 133/1000 [00:01<00:10, 81.09it/s]"
     ]
    },
    {
     "name": "stdout",
     "output_type": "stream",
     "text": [
      "[Epoch] 119  | batch 0 | Loss 2.270658\n",
      "[Epoch] 120  | batch 0 | Loss 1.519185\n",
      "[Epoch] 121  | batch 0 | Loss 1.872205\n",
      "[Epoch] 122  | batch 0 | Loss 1.885167\n",
      "[Epoch] 123  | batch 0 | Loss 2.056708\n",
      "[Epoch] 124  | batch 0 | Loss 2.049770\n",
      "[Epoch] 125  | batch 0 | Loss 1.873973\n",
      "[Epoch] 126  | batch 0 | Loss 1.784019\n",
      "[Epoch] 127  | batch 0 | Loss 1.911100\n",
      "[Epoch] 128  | batch 0 | Loss 2.156027\n",
      "[Epoch] 129  | batch 0 | Loss 1.875283\n",
      "[Epoch] 130  | batch 0 | Loss 1.873952\n",
      "[Epoch] 131  | batch 0 | Loss 1.831684\n",
      "[Epoch] 132  | batch 0 | Loss 1.642106\n",
      "[Epoch] 133  | batch 0 | Loss 1.927003\n",
      "[Epoch] 134  | batch 0 | Loss 2.409115\n",
      "[Epoch] 135  | batch 0 | Loss 2.153103\n"
     ]
    },
    {
     "name": "stderr",
     "output_type": "stream",
     "text": [
      " 15%|█▌        | 151/1000 [00:02<00:10, 82.43it/s]"
     ]
    },
    {
     "name": "stdout",
     "output_type": "stream",
     "text": [
      "[Epoch] 136  | batch 0 | Loss 2.110378\n",
      "[Epoch] 137  | batch 0 | Loss 2.492218\n",
      "[Epoch] 138  | batch 0 | Loss 2.181613\n",
      "[Epoch] 139  | batch 0 | Loss 1.798515\n",
      "[Epoch] 140  | batch 0 | Loss 1.710870\n",
      "[Epoch] 141  | batch 0 | Loss 1.717960\n",
      "[Epoch] 142  | batch 0 | Loss 2.282274\n",
      "[Epoch] 143  | batch 0 | Loss 1.757974\n",
      "[Epoch] 144  | batch 0 | Loss 1.697410\n",
      "[Epoch] 145  | batch 0 | Loss 1.815692\n",
      "[Epoch] 146  | batch 0 | Loss 2.194921\n",
      "[Epoch] 147  | batch 0 | Loss 2.088825\n",
      "[Epoch] 148  | batch 0 | Loss 1.486365\n",
      "[Epoch] 149  | batch 0 | Loss 2.017501\n",
      "[Epoch] 150  | batch 0 | Loss 1.797462\n",
      "[Epoch] 151  | batch 0 | Loss 2.138112\n",
      "[Epoch] 152  | batch 0 | Loss 2.131607\n"
     ]
    },
    {
     "name": "stderr",
     "output_type": "stream",
     "text": [
      " 17%|█▋        | 169/1000 [00:02<00:10, 82.86it/s]"
     ]
    },
    {
     "name": "stdout",
     "output_type": "stream",
     "text": [
      "[Epoch] 153  | batch 0 | Loss 2.243758\n",
      "[Epoch] 154  | batch 0 | Loss 2.017107\n",
      "[Epoch] 155  | batch 0 | Loss 1.985255\n",
      "[Epoch] 156  | batch 0 | Loss 1.988942\n",
      "[Epoch] 157  | batch 0 | Loss 1.872020\n",
      "[Epoch] 158  | batch 0 | Loss 2.408174\n",
      "[Epoch] 159  | batch 0 | Loss 1.683770\n",
      "[Epoch] 160  | batch 0 | Loss 1.955487\n",
      "[Epoch] 161  | batch 0 | Loss 2.063469\n",
      "[Epoch] 162  | batch 0 | Loss 1.808284\n",
      "[Epoch] 163  | batch 0 | Loss 2.122750\n",
      "[Epoch] 164  | batch 0 | Loss 2.251623\n",
      "[Epoch] 165  | batch 0 | Loss 1.806134\n",
      "[Epoch] 166  | batch 0 | Loss 1.868064\n",
      "[Epoch] 167  | batch 0 | Loss 1.872496\n",
      "[Epoch] 168  | batch 0 | Loss 2.610860\n",
      "[Epoch] 169  | batch 0 | Loss 1.946749\n"
     ]
    },
    {
     "name": "stderr",
     "output_type": "stream",
     "text": [
      " 19%|█▊        | 187/1000 [00:02<00:09, 82.97it/s]"
     ]
    },
    {
     "name": "stdout",
     "output_type": "stream",
     "text": [
      "[Epoch] 170  | batch 0 | Loss 1.850542\n",
      "[Epoch] 171  | batch 0 | Loss 2.012417\n",
      "[Epoch] 172  | batch 0 | Loss 1.911162\n",
      "[Epoch] 173  | batch 0 | Loss 2.176709\n",
      "[Epoch] 174  | batch 0 | Loss 1.849375\n",
      "[Epoch] 175  | batch 0 | Loss 2.067003\n",
      "[Epoch] 176  | batch 0 | Loss 2.102139\n",
      "[Epoch] 177  | batch 0 | Loss 1.803343\n",
      "[Epoch] 178  | batch 0 | Loss 2.004902\n",
      "[Epoch] 179  | batch 0 | Loss 2.173371\n",
      "[Epoch] 180  | batch 0 | Loss 1.590119\n",
      "[Epoch] 181  | batch 0 | Loss 2.017120\n",
      "[Epoch] 182  | batch 0 | Loss 1.745449\n",
      "[Epoch] 183  | batch 0 | Loss 2.113071\n",
      "[Epoch] 184  | batch 0 | Loss 2.112973\n",
      "[Epoch] 185  | batch 0 | Loss 2.039044\n",
      "[Epoch] 186  | batch 0 | Loss 1.923859\n"
     ]
    },
    {
     "name": "stderr",
     "output_type": "stream",
     "text": [
      " 20%|█▉        | 196/1000 [00:02<00:09, 83.03it/s]"
     ]
    },
    {
     "name": "stdout",
     "output_type": "stream",
     "text": [
      "[Epoch] 187  | batch 0 | Loss 1.671047\n",
      "[Epoch] 188  | batch 0 | Loss 2.072486\n",
      "[Epoch] 189  | batch 0 | Loss 1.950631\n",
      "[Epoch] 190  | batch 0 | Loss 1.976294\n",
      "[Epoch] 191  | batch 0 | Loss 2.228884\n",
      "[Epoch] 192  | batch 0 | Loss 1.625286\n",
      "[Epoch] 193  | batch 0 | Loss 2.257868\n",
      "[Epoch] 194  | batch 0 | Loss 2.019538\n",
      "[Epoch] 195  | batch 0 | Loss 1.796678\n",
      "[Epoch] 196  | batch 0 | Loss 2.138266\n",
      "[Epoch] 197  | batch 0 | Loss 2.084387\n",
      "[Epoch] 198  | batch 0 | Loss 1.892818\n",
      "[Epoch] 199  | batch 0 | Loss 1.887782\n",
      "[Epoch] 200  | batch 0 | Loss 2.054664\n",
      "[Epoch] 201  | batch 0 | Loss 1.789881\n",
      "[Epoch] 202  | batch 0 | Loss 2.133473\n",
      "[Epoch] 203  | batch 0 | Loss 1.977168\n"
     ]
    },
    {
     "name": "stderr",
     "output_type": "stream",
     "text": [
      " 21%|██▏       | 214/1000 [00:02<00:09, 83.13it/s]"
     ]
    },
    {
     "name": "stdout",
     "output_type": "stream",
     "text": [
      "[Epoch] 204  | batch 0 | Loss 1.752879\n",
      "[Epoch] 205  | batch 0 | Loss 2.117376\n",
      "[Epoch] 206  | batch 0 | Loss 1.935241\n",
      "[Epoch] 207  | batch 0 | Loss 1.999562\n",
      "[Epoch] 208  | batch 0 | Loss 2.029188\n",
      "[Epoch] 209  | batch 0 | Loss 1.456415\n",
      "[Epoch] 210  | batch 0 | Loss 1.720277\n",
      "[Epoch] 211  | batch 0 | Loss 2.162321\n",
      "[Epoch] 212  | batch 0 | Loss 2.222676\n",
      "[Epoch] 213  | batch 0 | Loss 2.344067\n",
      "[Epoch] 214  | batch 0 | Loss 2.103444\n",
      "[Epoch] 215  | batch 0 | Loss 1.820099\n",
      "[Epoch] 216  | batch 0 | Loss 2.137732\n",
      "[Epoch] 217  | batch 0 | Loss 2.065006\n",
      "[Epoch] 218  | batch 0 | Loss 1.697846\n",
      "[Epoch] 219  | batch 0 | Loss 2.206142\n",
      "[Epoch] 220  | batch 0 | Loss 1.930061\n"
     ]
    },
    {
     "name": "stderr",
     "output_type": "stream",
     "text": [
      " 23%|██▎       | 232/1000 [00:03<00:09, 82.78it/s]"
     ]
    },
    {
     "name": "stdout",
     "output_type": "stream",
     "text": [
      "[Epoch] 221  | batch 0 | Loss 1.974499\n",
      "[Epoch] 222  | batch 0 | Loss 1.843815\n",
      "[Epoch] 223  | batch 0 | Loss 2.103714\n",
      "[Epoch] 224  | batch 0 | Loss 1.825418\n",
      "[Epoch] 225  | batch 0 | Loss 2.051914\n",
      "[Epoch] 226  | batch 0 | Loss 2.251514\n",
      "[Epoch] 227  | batch 0 | Loss 2.013901\n",
      "[Epoch] 228  | batch 0 | Loss 1.815034\n",
      "[Epoch] 229  | batch 0 | Loss 1.641472\n",
      "[Epoch] 230  | batch 0 | Loss 2.275643\n",
      "[Epoch] 231  | batch 0 | Loss 1.903701\n",
      "[Epoch] 232  | batch 0 | Loss 2.160292\n",
      "[Epoch] 233  | batch 0 | Loss 2.182992\n",
      "[Epoch] 234  | batch 0 | Loss 2.102954\n",
      "[Epoch] 235  | batch 0 | Loss 2.008776\n",
      "[Epoch] 236  | batch 0 | Loss 2.047871\n",
      "[Epoch] 237  | batch 0 | Loss 1.814857\n"
     ]
    },
    {
     "name": "stderr",
     "output_type": "stream",
     "text": [
      " 25%|██▌       | 250/1000 [00:03<00:09, 83.18it/s]"
     ]
    },
    {
     "name": "stdout",
     "output_type": "stream",
     "text": [
      "[Epoch] 238  | batch 0 | Loss 2.133303\n",
      "[Epoch] 239  | batch 0 | Loss 2.135068\n",
      "[Epoch] 240  | batch 0 | Loss 1.856194\n",
      "[Epoch] 241  | batch 0 | Loss 1.834746\n",
      "[Epoch] 242  | batch 0 | Loss 2.381221\n",
      "[Epoch] 243  | batch 0 | Loss 1.867001\n",
      "[Epoch] 244  | batch 0 | Loss 1.933463\n",
      "[Epoch] 245  | batch 0 | Loss 1.975540\n",
      "[Epoch] 246  | batch 0 | Loss 2.041499\n",
      "[Epoch] 247  | batch 0 | Loss 1.905690\n",
      "[Epoch] 248  | batch 0 | Loss 2.530994\n",
      "[Epoch] 249  | batch 0 | Loss 1.999953\n",
      "[Epoch] 250  | batch 0 | Loss 2.166004\n",
      "[Epoch] 251  | batch 0 | Loss 1.861163\n",
      "[Epoch] 252  | batch 0 | Loss 1.836852\n",
      "[Epoch] 253  | batch 0 | Loss 2.032548\n",
      "[Epoch] 254  | batch 0 | Loss 2.235283\n"
     ]
    },
    {
     "name": "stderr",
     "output_type": "stream",
     "text": [
      " 27%|██▋       | 268/1000 [00:03<00:08, 82.86it/s]"
     ]
    },
    {
     "name": "stdout",
     "output_type": "stream",
     "text": [
      "[Epoch] 255  | batch 0 | Loss 1.960178\n",
      "[Epoch] 256  | batch 0 | Loss 1.911451\n",
      "[Epoch] 257  | batch 0 | Loss 1.695372\n",
      "[Epoch] 258  | batch 0 | Loss 1.844858\n",
      "[Epoch] 259  | batch 0 | Loss 1.951168\n",
      "[Epoch] 260  | batch 0 | Loss 2.077029\n",
      "[Epoch] 261  | batch 0 | Loss 2.009527\n",
      "[Epoch] 262  | batch 0 | Loss 1.866753\n",
      "[Epoch] 263  | batch 0 | Loss 2.332707\n",
      "[Epoch] 264  | batch 0 | Loss 2.261576\n",
      "[Epoch] 265  | batch 0 | Loss 1.882490\n",
      "[Epoch] 266  | batch 0 | Loss 1.953040\n",
      "[Epoch] 267  | batch 0 | Loss 1.986447\n",
      "[Epoch] 268  | batch 0 | Loss 1.577904\n",
      "[Epoch] 269  | batch 0 | Loss 2.135493\n",
      "[Epoch] 270  | batch 0 | Loss 1.868956\n",
      "[Epoch] 271  | batch 0 | Loss 1.769852\n"
     ]
    },
    {
     "name": "stderr",
     "output_type": "stream",
     "text": [
      " 29%|██▊       | 286/1000 [00:03<00:08, 82.36it/s]"
     ]
    },
    {
     "name": "stdout",
     "output_type": "stream",
     "text": [
      "[Epoch] 272  | batch 0 | Loss 2.099360\n",
      "[Epoch] 273  | batch 0 | Loss 2.169394\n",
      "[Epoch] 274  | batch 0 | Loss 1.712707\n",
      "[Epoch] 275  | batch 0 | Loss 1.975949\n",
      "[Epoch] 276  | batch 0 | Loss 1.770981\n",
      "[Epoch] 277  | batch 0 | Loss 1.931496\n",
      "[Epoch] 278  | batch 0 | Loss 1.918034\n",
      "[Epoch] 279  | batch 0 | Loss 1.768835\n",
      "[Epoch] 280  | batch 0 | Loss 2.028892\n",
      "[Epoch] 281  | batch 0 | Loss 1.903781\n",
      "[Epoch] 282  | batch 0 | Loss 1.804347\n",
      "[Epoch] 283  | batch 0 | Loss 2.052777\n",
      "[Epoch] 284  | batch 0 | Loss 2.280676\n",
      "[Epoch] 285  | batch 0 | Loss 1.974956\n",
      "[Epoch] 286  | batch 0 | Loss 2.017184\n",
      "[Epoch] 287  | batch 0 | Loss 1.883153\n",
      "[Epoch] 288  | batch 0 | Loss 1.892027\n"
     ]
    },
    {
     "name": "stderr",
     "output_type": "stream",
     "text": [
      " 30%|███       | 304/1000 [00:04<00:08, 82.93it/s]"
     ]
    },
    {
     "name": "stdout",
     "output_type": "stream",
     "text": [
      "[Epoch] 289  | batch 0 | Loss 2.042597\n",
      "[Epoch] 290  | batch 0 | Loss 1.875266\n",
      "[Epoch] 291  | batch 0 | Loss 1.854175\n",
      "[Epoch] 292  | batch 0 | Loss 1.945483\n",
      "[Epoch] 293  | batch 0 | Loss 1.953383\n",
      "[Epoch] 294  | batch 0 | Loss 2.142420\n",
      "[Epoch] 295  | batch 0 | Loss 1.988806\n",
      "[Epoch] 296  | batch 0 | Loss 2.595652\n",
      "[Epoch] 297  | batch 0 | Loss 1.994991\n",
      "[Epoch] 298  | batch 0 | Loss 2.271371\n",
      "[Epoch] 299  | batch 0 | Loss 2.274279\n",
      "[Epoch] 300  | batch 0 | Loss 1.834236\n",
      "[Epoch] 301  | batch 0 | Loss 1.901433\n",
      "[Epoch] 302  | batch 0 | Loss 2.062754\n",
      "[Epoch] 303  | batch 0 | Loss 1.720899\n",
      "[Epoch] 304  | batch 0 | Loss 1.839523\n",
      "[Epoch] 305  | batch 0 | Loss 1.858471\n"
     ]
    },
    {
     "name": "stderr",
     "output_type": "stream",
     "text": [
      " 32%|███▏      | 322/1000 [00:04<00:08, 82.67it/s]"
     ]
    },
    {
     "name": "stdout",
     "output_type": "stream",
     "text": [
      "[Epoch] 306  | batch 0 | Loss 1.937052\n",
      "[Epoch] 307  | batch 0 | Loss 1.935364\n",
      "[Epoch] 308  | batch 0 | Loss 1.868043\n",
      "[Epoch] 309  | batch 0 | Loss 2.260275\n",
      "[Epoch] 310  | batch 0 | Loss 1.704201\n",
      "[Epoch] 311  | batch 0 | Loss 1.868093\n",
      "[Epoch] 312  | batch 0 | Loss 1.612069\n",
      "[Epoch] 313  | batch 0 | Loss 1.706673\n",
      "[Epoch] 314  | batch 0 | Loss 2.282494\n",
      "[Epoch] 315  | batch 0 | Loss 1.770469\n",
      "[Epoch] 316  | batch 0 | Loss 1.703729\n",
      "[Epoch] 317  | batch 0 | Loss 1.847435\n",
      "[Epoch] 318  | batch 0 | Loss 1.782204\n",
      "[Epoch] 319  | batch 0 | Loss 2.067195\n",
      "[Epoch] 320  | batch 0 | Loss 2.118377\n",
      "[Epoch] 321  | batch 0 | Loss 2.054613\n",
      "[Epoch] 322  | batch 0 | Loss 1.857064\n"
     ]
    },
    {
     "name": "stderr",
     "output_type": "stream",
     "text": [
      " 34%|███▍      | 340/1000 [00:04<00:07, 82.54it/s]"
     ]
    },
    {
     "name": "stdout",
     "output_type": "stream",
     "text": [
      "[Epoch] 323  | batch 0 | Loss 2.031380\n",
      "[Epoch] 324  | batch 0 | Loss 1.904765\n",
      "[Epoch] 325  | batch 0 | Loss 2.074281\n",
      "[Epoch] 326  | batch 0 | Loss 2.267247\n",
      "[Epoch] 327  | batch 0 | Loss 1.833533\n",
      "[Epoch] 328  | batch 0 | Loss 2.017368\n",
      "[Epoch] 329  | batch 0 | Loss 1.811884\n",
      "[Epoch] 330  | batch 0 | Loss 1.897895\n",
      "[Epoch] 331  | batch 0 | Loss 2.031035\n",
      "[Epoch] 332  | batch 0 | Loss 2.137798\n",
      "[Epoch] 333  | batch 0 | Loss 1.986897\n",
      "[Epoch] 334  | batch 0 | Loss 2.092024\n",
      "[Epoch] 335  | batch 0 | Loss 2.187255\n",
      "[Epoch] 336  | batch 0 | Loss 1.725961\n",
      "[Epoch] 337  | batch 0 | Loss 2.148142\n",
      "[Epoch] 338  | batch 0 | Loss 2.154917\n",
      "[Epoch] 339  | batch 0 | Loss 2.231649\n"
     ]
    },
    {
     "name": "stderr",
     "output_type": "stream",
     "text": [
      " 35%|███▍      | 349/1000 [00:04<00:07, 82.61it/s]"
     ]
    },
    {
     "name": "stdout",
     "output_type": "stream",
     "text": [
      "[Epoch] 340  | batch 0 | Loss 2.016230\n",
      "[Epoch] 341  | batch 0 | Loss 2.030120\n",
      "[Epoch] 342  | batch 0 | Loss 2.178538\n",
      "[Epoch] 343  | batch 0 | Loss 1.549946\n",
      "[Epoch] 344  | batch 0 | Loss 1.955418\n",
      "[Epoch] 345  | batch 0 | Loss 2.330142\n",
      "[Epoch] 346  | batch 0 | Loss 1.816039\n",
      "[Epoch] 347  | batch 0 | Loss 1.974024\n",
      "[Epoch] 348  | batch 0 | Loss 2.151011\n",
      "[Epoch] 349  | batch 0 | Loss 1.981670\n",
      "[Epoch] 350  | batch 0 | Loss 1.882183\n",
      "[Epoch] 351  | batch 0 | Loss 2.200510\n",
      "[Epoch] 352  | batch 0 | Loss 2.090150\n",
      "[Epoch] 353  | batch 0 | Loss 1.846971\n",
      "[Epoch] 354  | batch 0 | Loss 2.217379\n",
      "[Epoch] 355  | batch 0 | Loss 1.892644\n",
      "[Epoch] 356  | batch 0 | Loss 1.999570\n"
     ]
    },
    {
     "name": "stderr",
     "output_type": "stream",
     "text": [
      " 37%|███▋      | 367/1000 [00:04<00:07, 82.47it/s]"
     ]
    },
    {
     "name": "stdout",
     "output_type": "stream",
     "text": [
      "[Epoch] 357  | batch 0 | Loss 1.750506\n",
      "[Epoch] 358  | batch 0 | Loss 2.465342\n",
      "[Epoch] 359  | batch 0 | Loss 1.738786\n",
      "[Epoch] 360  | batch 0 | Loss 2.098226\n",
      "[Epoch] 361  | batch 0 | Loss 1.778460\n",
      "[Epoch] 362  | batch 0 | Loss 2.255298\n",
      "[Epoch] 363  | batch 0 | Loss 2.104490\n",
      "[Epoch] 364  | batch 0 | Loss 1.982795\n",
      "[Epoch] 365  | batch 0 | Loss 2.221485\n",
      "[Epoch] 366  | batch 0 | Loss 2.008557\n",
      "[Epoch] 367  | batch 0 | Loss 2.068733\n",
      "[Epoch] 368  | batch 0 | Loss 1.838927\n",
      "[Epoch] 369  | batch 0 | Loss 2.112319\n",
      "[Epoch] 370  | batch 0 | Loss 2.043877\n",
      "[Epoch] 371  | batch 0 | Loss 2.072080\n",
      "[Epoch] 372  | batch 0 | Loss 1.591829\n",
      "[Epoch] 373  | batch 0 | Loss 2.108844\n"
     ]
    },
    {
     "name": "stderr",
     "output_type": "stream",
     "text": [
      " 38%|███▊      | 385/1000 [00:05<00:07, 82.88it/s]"
     ]
    },
    {
     "name": "stdout",
     "output_type": "stream",
     "text": [
      "[Epoch] 374  | batch 0 | Loss 2.220548\n",
      "[Epoch] 375  | batch 0 | Loss 1.676273\n",
      "[Epoch] 376  | batch 0 | Loss 2.143736\n",
      "[Epoch] 377  | batch 0 | Loss 2.083928\n",
      "[Epoch] 378  | batch 0 | Loss 1.787039\n",
      "[Epoch] 379  | batch 0 | Loss 1.661496\n",
      "[Epoch] 380  | batch 0 | Loss 1.890863\n",
      "[Epoch] 381  | batch 0 | Loss 2.075548\n",
      "[Epoch] 382  | batch 0 | Loss 1.930327\n",
      "[Epoch] 383  | batch 0 | Loss 2.063570\n",
      "[Epoch] 384  | batch 0 | Loss 1.992084\n",
      "[Epoch] 385  | batch 0 | Loss 2.110180\n",
      "[Epoch] 386  | batch 0 | Loss 1.855297\n",
      "[Epoch] 387  | batch 0 | Loss 2.167447\n",
      "[Epoch] 388  | batch 0 | Loss 1.902871\n",
      "[Epoch] 389  | batch 0 | Loss 1.880473\n",
      "[Epoch] 390  | batch 0 | Loss 1.947962\n"
     ]
    },
    {
     "name": "stderr",
     "output_type": "stream",
     "text": [
      " 40%|████      | 403/1000 [00:05<00:07, 82.07it/s]"
     ]
    },
    {
     "name": "stdout",
     "output_type": "stream",
     "text": [
      "[Epoch] 391  | batch 0 | Loss 1.926915\n",
      "[Epoch] 392  | batch 0 | Loss 1.918618\n",
      "[Epoch] 393  | batch 0 | Loss 1.998243\n",
      "[Epoch] 394  | batch 0 | Loss 1.998692\n",
      "[Epoch] 395  | batch 0 | Loss 1.755305\n",
      "[Epoch] 396  | batch 0 | Loss 1.806629\n",
      "[Epoch] 397  | batch 0 | Loss 1.994242\n",
      "[Epoch] 398  | batch 0 | Loss 2.203270\n",
      "[Epoch] 399  | batch 0 | Loss 2.086180\n",
      "[Epoch] 400  | batch 0 | Loss 2.098683\n",
      "[Epoch] 401  | batch 0 | Loss 2.088295\n",
      "[Epoch] 402  | batch 0 | Loss 2.459814\n",
      "[Epoch] 403  | batch 0 | Loss 2.090033\n",
      "[Epoch] 404  | batch 0 | Loss 2.148889\n",
      "[Epoch] 405  | batch 0 | Loss 1.759317\n",
      "[Epoch] 406  | batch 0 | Loss 2.098374\n",
      "[Epoch] 407  | batch 0 | Loss 1.606125\n"
     ]
    },
    {
     "name": "stderr",
     "output_type": "stream",
     "text": [
      " 42%|████▏     | 421/1000 [00:05<00:07, 82.64it/s]"
     ]
    },
    {
     "name": "stdout",
     "output_type": "stream",
     "text": [
      "[Epoch] 408  | batch 0 | Loss 2.126462\n",
      "[Epoch] 409  | batch 0 | Loss 2.301436\n",
      "[Epoch] 410  | batch 0 | Loss 1.962626\n",
      "[Epoch] 411  | batch 0 | Loss 1.964153\n",
      "[Epoch] 412  | batch 0 | Loss 1.862544\n",
      "[Epoch] 413  | batch 0 | Loss 2.141797\n",
      "[Epoch] 414  | batch 0 | Loss 2.382297\n",
      "[Epoch] 415  | batch 0 | Loss 1.658584\n",
      "[Epoch] 416  | batch 0 | Loss 2.103822\n",
      "[Epoch] 417  | batch 0 | Loss 2.148164\n",
      "[Epoch] 418  | batch 0 | Loss 1.794024\n",
      "[Epoch] 419  | batch 0 | Loss 1.662351\n",
      "[Epoch] 420  | batch 0 | Loss 2.141808\n",
      "[Epoch] 421  | batch 0 | Loss 2.003173\n",
      "[Epoch] 422  | batch 0 | Loss 1.884444\n",
      "[Epoch] 423  | batch 0 | Loss 2.227367\n",
      "[Epoch] 424  | batch 0 | Loss 2.099643\n"
     ]
    },
    {
     "name": "stderr",
     "output_type": "stream",
     "text": [
      " 44%|████▍     | 439/1000 [00:05<00:06, 82.92it/s]"
     ]
    },
    {
     "name": "stdout",
     "output_type": "stream",
     "text": [
      "[Epoch] 425  | batch 0 | Loss 1.999591\n",
      "[Epoch] 426  | batch 0 | Loss 2.329503\n",
      "[Epoch] 427  | batch 0 | Loss 2.070854\n",
      "[Epoch] 428  | batch 0 | Loss 1.810045\n",
      "[Epoch] 429  | batch 0 | Loss 1.912023\n",
      "[Epoch] 430  | batch 0 | Loss 1.884983\n",
      "[Epoch] 431  | batch 0 | Loss 1.962653\n",
      "[Epoch] 432  | batch 0 | Loss 1.926894\n",
      "[Epoch] 433  | batch 0 | Loss 1.720513\n",
      "[Epoch] 434  | batch 0 | Loss 1.623028\n",
      "[Epoch] 435  | batch 0 | Loss 1.807090\n",
      "[Epoch] 436  | batch 0 | Loss 1.873561\n",
      "[Epoch] 437  | batch 0 | Loss 2.272169\n",
      "[Epoch] 438  | batch 0 | Loss 2.135341\n",
      "[Epoch] 439  | batch 0 | Loss 2.065232\n",
      "[Epoch] 440  | batch 0 | Loss 2.055897\n",
      "[Epoch] 441  | batch 0 | Loss 1.838704\n"
     ]
    },
    {
     "name": "stderr",
     "output_type": "stream",
     "text": [
      " 46%|████▌     | 457/1000 [00:05<00:06, 83.11it/s]"
     ]
    },
    {
     "name": "stdout",
     "output_type": "stream",
     "text": [
      "[Epoch] 442  | batch 0 | Loss 2.093066\n",
      "[Epoch] 443  | batch 0 | Loss 2.264799\n",
      "[Epoch] 444  | batch 0 | Loss 1.994846\n",
      "[Epoch] 445  | batch 0 | Loss 1.927626\n",
      "[Epoch] 446  | batch 0 | Loss 2.245879\n",
      "[Epoch] 447  | batch 0 | Loss 2.029412\n",
      "[Epoch] 448  | batch 0 | Loss 1.947220\n",
      "[Epoch] 449  | batch 0 | Loss 1.855797\n",
      "[Epoch] 450  | batch 0 | Loss 2.211923\n",
      "[Epoch] 451  | batch 0 | Loss 1.907754\n",
      "[Epoch] 452  | batch 0 | Loss 2.031994\n",
      "[Epoch] 453  | batch 0 | Loss 2.181577\n",
      "[Epoch] 454  | batch 0 | Loss 1.624923\n",
      "[Epoch] 455  | batch 0 | Loss 2.201126\n",
      "[Epoch] 456  | batch 0 | Loss 2.174565\n",
      "[Epoch] 457  | batch 0 | Loss 2.251524\n",
      "[Epoch] 458  | batch 0 | Loss 2.155684\n"
     ]
    },
    {
     "name": "stderr",
     "output_type": "stream",
     "text": [
      " 48%|████▊     | 475/1000 [00:06<00:06, 83.33it/s]"
     ]
    },
    {
     "name": "stdout",
     "output_type": "stream",
     "text": [
      "[Epoch] 459  | batch 0 | Loss 1.855381\n",
      "[Epoch] 460  | batch 0 | Loss 1.872049\n",
      "[Epoch] 461  | batch 0 | Loss 1.917573\n",
      "[Epoch] 462  | batch 0 | Loss 1.905231\n",
      "[Epoch] 463  | batch 0 | Loss 2.032131\n",
      "[Epoch] 464  | batch 0 | Loss 2.115196\n",
      "[Epoch] 465  | batch 0 | Loss 1.870785\n",
      "[Epoch] 466  | batch 0 | Loss 1.643039\n",
      "[Epoch] 467  | batch 0 | Loss 2.141801\n",
      "[Epoch] 468  | batch 0 | Loss 2.063557\n",
      "[Epoch] 469  | batch 0 | Loss 1.770820\n",
      "[Epoch] 470  | batch 0 | Loss 1.677899\n",
      "[Epoch] 471  | batch 0 | Loss 2.035264\n",
      "[Epoch] 472  | batch 0 | Loss 2.117711\n",
      "[Epoch] 473  | batch 0 | Loss 2.087484\n",
      "[Epoch] 474  | batch 0 | Loss 1.850622\n",
      "[Epoch] 475  | batch 0 | Loss 1.886138\n"
     ]
    },
    {
     "name": "stderr",
     "output_type": "stream",
     "text": [
      " 49%|████▉     | 493/1000 [00:06<00:06, 83.34it/s]"
     ]
    },
    {
     "name": "stdout",
     "output_type": "stream",
     "text": [
      "[Epoch] 476  | batch 0 | Loss 1.830854\n",
      "[Epoch] 477  | batch 0 | Loss 1.644964\n",
      "[Epoch] 478  | batch 0 | Loss 1.790261\n",
      "[Epoch] 479  | batch 0 | Loss 1.928570\n",
      "[Epoch] 480  | batch 0 | Loss 2.158553\n",
      "[Epoch] 481  | batch 0 | Loss 2.045571\n",
      "[Epoch] 482  | batch 0 | Loss 1.737556\n",
      "[Epoch] 483  | batch 0 | Loss 1.614038\n",
      "[Epoch] 484  | batch 0 | Loss 1.989617\n",
      "[Epoch] 485  | batch 0 | Loss 1.910609\n",
      "[Epoch] 486  | batch 0 | Loss 2.140390\n",
      "[Epoch] 487  | batch 0 | Loss 1.713220\n",
      "[Epoch] 488  | batch 0 | Loss 2.209186\n",
      "[Epoch] 489  | batch 0 | Loss 2.071695\n",
      "[Epoch] 490  | batch 0 | Loss 1.947484\n",
      "[Epoch] 491  | batch 0 | Loss 1.805833\n",
      "[Epoch] 492  | batch 0 | Loss 1.902303\n"
     ]
    },
    {
     "name": "stderr",
     "output_type": "stream",
     "text": [
      " 50%|█████     | 502/1000 [00:06<00:05, 83.16it/s]"
     ]
    },
    {
     "name": "stdout",
     "output_type": "stream",
     "text": [
      "[Epoch] 493  | batch 0 | Loss 1.882492\n",
      "[Epoch] 494  | batch 0 | Loss 1.443259\n",
      "[Epoch] 495  | batch 0 | Loss 1.837534\n",
      "[Epoch] 496  | batch 0 | Loss 1.897226\n",
      "[Epoch] 497  | batch 0 | Loss 2.166750\n",
      "[Epoch] 498  | batch 0 | Loss 1.693804\n",
      "[Epoch] 499  | batch 0 | Loss 1.636480\n",
      "[Epoch] 500  | batch 0 | Loss 1.978648\n",
      "[Epoch] 501  | batch 0 | Loss 2.167118\n",
      "[Epoch] 502  | batch 0 | Loss 2.204821\n",
      "[Epoch] 503  | batch 0 | Loss 1.751161\n",
      "[Epoch] 504  | batch 0 | Loss 2.134079\n",
      "[Epoch] 505  | batch 0 | Loss 1.756830\n",
      "[Epoch] 506  | batch 0 | Loss 1.946645\n",
      "[Epoch] 507  | batch 0 | Loss 2.282290\n",
      "[Epoch] 508  | batch 0 | Loss 1.474746\n",
      "[Epoch] 509  | batch 0 | Loss 2.166022\n"
     ]
    },
    {
     "name": "stderr",
     "output_type": "stream",
     "text": [
      " 52%|█████▏    | 520/1000 [00:06<00:05, 83.18it/s]"
     ]
    },
    {
     "name": "stdout",
     "output_type": "stream",
     "text": [
      "[Epoch] 510  | batch 0 | Loss 2.138618\n",
      "[Epoch] 511  | batch 0 | Loss 1.539756\n",
      "[Epoch] 512  | batch 0 | Loss 2.130286\n",
      "[Epoch] 513  | batch 0 | Loss 1.857362\n",
      "[Epoch] 514  | batch 0 | Loss 2.237377\n",
      "[Epoch] 515  | batch 0 | Loss 1.649559\n",
      "[Epoch] 516  | batch 0 | Loss 1.830149\n",
      "[Epoch] 517  | batch 0 | Loss 2.364978\n",
      "[Epoch] 518  | batch 0 | Loss 2.039882\n",
      "[Epoch] 519  | batch 0 | Loss 1.667134\n",
      "[Epoch] 520  | batch 0 | Loss 1.623147\n",
      "[Epoch] 521  | batch 0 | Loss 2.096159\n",
      "[Epoch] 522  | batch 0 | Loss 2.171351\n",
      "[Epoch] 523  | batch 0 | Loss 2.399137\n",
      "[Epoch] 524  | batch 0 | Loss 2.203157\n",
      "[Epoch] 525  | batch 0 | Loss 1.813021\n",
      "[Epoch] 526  | batch 0 | Loss 1.713892\n"
     ]
    },
    {
     "name": "stderr",
     "output_type": "stream",
     "text": [
      " 54%|█████▍    | 538/1000 [00:06<00:05, 83.36it/s]"
     ]
    },
    {
     "name": "stdout",
     "output_type": "stream",
     "text": [
      "[Epoch] 527  | batch 0 | Loss 2.333028\n",
      "[Epoch] 528  | batch 0 | Loss 1.696873\n",
      "[Epoch] 529  | batch 0 | Loss 1.940562\n",
      "[Epoch] 530  | batch 0 | Loss 1.986753\n",
      "[Epoch] 531  | batch 0 | Loss 1.912041\n",
      "[Epoch] 532  | batch 0 | Loss 2.258240\n",
      "[Epoch] 533  | batch 0 | Loss 2.220645\n",
      "[Epoch] 534  | batch 0 | Loss 1.958641\n",
      "[Epoch] 535  | batch 0 | Loss 1.685529\n",
      "[Epoch] 536  | batch 0 | Loss 1.765656\n",
      "[Epoch] 537  | batch 0 | Loss 2.195030\n",
      "[Epoch] 538  | batch 0 | Loss 1.554508\n",
      "[Epoch] 539  | batch 0 | Loss 2.584184\n",
      "[Epoch] 540  | batch 0 | Loss 1.982780\n",
      "[Epoch] 541  | batch 0 | Loss 1.868569\n",
      "[Epoch] 542  | batch 0 | Loss 2.265083\n",
      "[Epoch] 543  | batch 0 | Loss 1.583647\n"
     ]
    },
    {
     "name": "stderr",
     "output_type": "stream",
     "text": [
      " 56%|█████▌    | 556/1000 [00:07<00:05, 83.36it/s]"
     ]
    },
    {
     "name": "stdout",
     "output_type": "stream",
     "text": [
      "[Epoch] 544  | batch 0 | Loss 2.058643\n",
      "[Epoch] 545  | batch 0 | Loss 1.808492\n",
      "[Epoch] 546  | batch 0 | Loss 1.972888\n",
      "[Epoch] 547  | batch 0 | Loss 1.869487\n",
      "[Epoch] 548  | batch 0 | Loss 2.021562\n",
      "[Epoch] 549  | batch 0 | Loss 1.892815\n",
      "[Epoch] 550  | batch 0 | Loss 1.809561\n",
      "[Epoch] 551  | batch 0 | Loss 1.937239\n",
      "[Epoch] 552  | batch 0 | Loss 1.416234\n",
      "[Epoch] 553  | batch 0 | Loss 2.512812\n",
      "[Epoch] 554  | batch 0 | Loss 1.741952\n",
      "[Epoch] 555  | batch 0 | Loss 2.329866\n",
      "[Epoch] 556  | batch 0 | Loss 1.882998\n",
      "[Epoch] 557  | batch 0 | Loss 1.907738\n",
      "[Epoch] 558  | batch 0 | Loss 1.858832\n",
      "[Epoch] 559  | batch 0 | Loss 1.786804\n",
      "[Epoch] 560  | batch 0 | Loss 2.151062\n"
     ]
    },
    {
     "name": "stderr",
     "output_type": "stream",
     "text": [
      " 57%|█████▋    | 574/1000 [00:07<00:05, 83.53it/s]"
     ]
    },
    {
     "name": "stdout",
     "output_type": "stream",
     "text": [
      "[Epoch] 561  | batch 0 | Loss 2.181426\n",
      "[Epoch] 562  | batch 0 | Loss 1.777847\n",
      "[Epoch] 563  | batch 0 | Loss 2.053069\n",
      "[Epoch] 564  | batch 0 | Loss 1.864576\n",
      "[Epoch] 565  | batch 0 | Loss 1.938997\n",
      "[Epoch] 566  | batch 0 | Loss 1.909863\n",
      "[Epoch] 567  | batch 0 | Loss 1.960932\n",
      "[Epoch] 568  | batch 0 | Loss 1.973356\n",
      "[Epoch] 569  | batch 0 | Loss 2.340777\n",
      "[Epoch] 570  | batch 0 | Loss 2.101221\n",
      "[Epoch] 571  | batch 0 | Loss 2.129456\n",
      "[Epoch] 572  | batch 0 | Loss 1.827162\n",
      "[Epoch] 573  | batch 0 | Loss 2.184477\n",
      "[Epoch] 574  | batch 0 | Loss 1.807700\n",
      "[Epoch] 575  | batch 0 | Loss 1.519848\n",
      "[Epoch] 576  | batch 0 | Loss 1.984506\n",
      "[Epoch] 577  | batch 0 | Loss 1.967035\n"
     ]
    },
    {
     "name": "stderr",
     "output_type": "stream",
     "text": [
      " 59%|█████▉    | 592/1000 [00:07<00:04, 83.59it/s]"
     ]
    },
    {
     "name": "stdout",
     "output_type": "stream",
     "text": [
      "[Epoch] 578  | batch 0 | Loss 2.457854\n",
      "[Epoch] 579  | batch 0 | Loss 1.843225\n",
      "[Epoch] 580  | batch 0 | Loss 2.203477\n",
      "[Epoch] 581  | batch 0 | Loss 2.289524\n",
      "[Epoch] 582  | batch 0 | Loss 1.920924\n",
      "[Epoch] 583  | batch 0 | Loss 1.642537\n",
      "[Epoch] 584  | batch 0 | Loss 2.380550\n",
      "[Epoch] 585  | batch 0 | Loss 1.964257\n",
      "[Epoch] 586  | batch 0 | Loss 2.042834\n",
      "[Epoch] 587  | batch 0 | Loss 1.836321\n",
      "[Epoch] 588  | batch 0 | Loss 1.816379\n",
      "[Epoch] 589  | batch 0 | Loss 2.034388\n",
      "[Epoch] 590  | batch 0 | Loss 2.102288\n",
      "[Epoch] 591  | batch 0 | Loss 1.902202\n",
      "[Epoch] 592  | batch 0 | Loss 1.823181\n",
      "[Epoch] 593  | batch 0 | Loss 2.161340\n",
      "[Epoch] 594  | batch 0 | Loss 2.202232\n"
     ]
    },
    {
     "name": "stderr",
     "output_type": "stream",
     "text": [
      " 61%|██████    | 610/1000 [00:07<00:04, 83.30it/s]"
     ]
    },
    {
     "name": "stdout",
     "output_type": "stream",
     "text": [
      "[Epoch] 595  | batch 0 | Loss 1.749441\n",
      "[Epoch] 596  | batch 0 | Loss 1.961434\n",
      "[Epoch] 597  | batch 0 | Loss 2.217582\n",
      "[Epoch] 598  | batch 0 | Loss 1.707799\n",
      "[Epoch] 599  | batch 0 | Loss 1.811428\n",
      "[Epoch] 600  | batch 0 | Loss 2.113304\n",
      "[Epoch] 601  | batch 0 | Loss 2.022297\n",
      "[Epoch] 602  | batch 0 | Loss 1.788321\n",
      "[Epoch] 603  | batch 0 | Loss 1.893065\n",
      "[Epoch] 604  | batch 0 | Loss 1.954483\n",
      "[Epoch] 605  | batch 0 | Loss 1.713464\n",
      "[Epoch] 606  | batch 0 | Loss 1.782069\n",
      "[Epoch] 607  | batch 0 | Loss 1.906011\n",
      "[Epoch] 608  | batch 0 | Loss 1.830875\n",
      "[Epoch] 609  | batch 0 | Loss 1.745914\n",
      "[Epoch] 610  | batch 0 | Loss 2.029189\n",
      "[Epoch] 611  | batch 0 | Loss 2.021531\n"
     ]
    },
    {
     "name": "stderr",
     "output_type": "stream",
     "text": [
      " 63%|██████▎   | 628/1000 [00:07<00:04, 83.50it/s]"
     ]
    },
    {
     "name": "stdout",
     "output_type": "stream",
     "text": [
      "[Epoch] 612  | batch 0 | Loss 1.974208\n",
      "[Epoch] 613  | batch 0 | Loss 1.938184\n",
      "[Epoch] 614  | batch 0 | Loss 1.932230\n",
      "[Epoch] 615  | batch 0 | Loss 1.991701\n",
      "[Epoch] 616  | batch 0 | Loss 1.897905\n",
      "[Epoch] 617  | batch 0 | Loss 1.821106\n",
      "[Epoch] 618  | batch 0 | Loss 2.169694\n",
      "[Epoch] 619  | batch 0 | Loss 2.104090\n",
      "[Epoch] 620  | batch 0 | Loss 2.365367\n",
      "[Epoch] 621  | batch 0 | Loss 1.930265\n",
      "[Epoch] 622  | batch 0 | Loss 1.937601\n",
      "[Epoch] 623  | batch 0 | Loss 1.962141\n",
      "[Epoch] 624  | batch 0 | Loss 2.329744\n",
      "[Epoch] 625  | batch 0 | Loss 1.689151\n",
      "[Epoch] 626  | batch 0 | Loss 1.846013\n",
      "[Epoch] 627  | batch 0 | Loss 1.855799\n",
      "[Epoch] 628  | batch 0 | Loss 2.198356\n"
     ]
    },
    {
     "name": "stderr",
     "output_type": "stream",
     "text": [
      " 65%|██████▍   | 646/1000 [00:08<00:04, 83.69it/s]"
     ]
    },
    {
     "name": "stdout",
     "output_type": "stream",
     "text": [
      "[Epoch] 629  | batch 0 | Loss 2.015197\n",
      "[Epoch] 630  | batch 0 | Loss 1.794880\n",
      "[Epoch] 631  | batch 0 | Loss 2.093280\n",
      "[Epoch] 632  | batch 0 | Loss 1.903625\n",
      "[Epoch] 633  | batch 0 | Loss 1.951229\n",
      "[Epoch] 634  | batch 0 | Loss 2.426749\n",
      "[Epoch] 635  | batch 0 | Loss 1.534991\n",
      "[Epoch] 636  | batch 0 | Loss 2.047996\n",
      "[Epoch] 637  | batch 0 | Loss 1.728201\n",
      "[Epoch] 638  | batch 0 | Loss 2.100443\n",
      "[Epoch] 639  | batch 0 | Loss 1.904452\n",
      "[Epoch] 640  | batch 0 | Loss 2.087887\n",
      "[Epoch] 641  | batch 0 | Loss 2.040543\n",
      "[Epoch] 642  | batch 0 | Loss 2.135787\n",
      "[Epoch] 643  | batch 0 | Loss 1.667621\n",
      "[Epoch] 644  | batch 0 | Loss 2.156522\n",
      "[Epoch] 645  | batch 0 | Loss 2.167798\n"
     ]
    },
    {
     "name": "stderr",
     "output_type": "stream",
     "text": [
      " 66%|██████▌   | 655/1000 [00:08<00:04, 83.58it/s]"
     ]
    },
    {
     "name": "stdout",
     "output_type": "stream",
     "text": [
      "[Epoch] 646  | batch 0 | Loss 1.792618\n",
      "[Epoch] 647  | batch 0 | Loss 2.281659\n",
      "[Epoch] 648  | batch 0 | Loss 2.209342\n",
      "[Epoch] 649  | batch 0 | Loss 2.146027\n",
      "[Epoch] 650  | batch 0 | Loss 2.142230\n",
      "[Epoch] 651  | batch 0 | Loss 2.231529\n",
      "[Epoch] 652  | batch 0 | Loss 1.952319\n",
      "[Epoch] 653  | batch 0 | Loss 1.920014\n",
      "[Epoch] 654  | batch 0 | Loss 2.046208\n",
      "[Epoch] 655  | batch 0 | Loss 1.762725\n",
      "[Epoch] 656  | batch 0 | Loss 1.910794\n",
      "[Epoch] 657  | batch 0 | Loss 2.017651\n",
      "[Epoch] 658  | batch 0 | Loss 1.934461\n",
      "[Epoch] 659  | batch 0 | Loss 1.867219\n",
      "[Epoch] 660  | batch 0 | Loss 1.547850\n",
      "[Epoch] 661  | batch 0 | Loss 1.945541\n",
      "[Epoch] 662  | batch 0 | Loss 1.826193\n"
     ]
    },
    {
     "name": "stderr",
     "output_type": "stream",
     "text": [
      " 67%|██████▋   | 673/1000 [00:08<00:03, 83.43it/s]"
     ]
    },
    {
     "name": "stdout",
     "output_type": "stream",
     "text": [
      "[Epoch] 663  | batch 0 | Loss 2.103679\n",
      "[Epoch] 664  | batch 0 | Loss 1.825929\n",
      "[Epoch] 665  | batch 0 | Loss 2.004604\n",
      "[Epoch] 666  | batch 0 | Loss 1.924148\n",
      "[Epoch] 667  | batch 0 | Loss 1.949780\n",
      "[Epoch] 668  | batch 0 | Loss 2.023520\n",
      "[Epoch] 669  | batch 0 | Loss 1.945501\n",
      "[Epoch] 670  | batch 0 | Loss 1.884032\n",
      "[Epoch] 671  | batch 0 | Loss 1.921133\n",
      "[Epoch] 672  | batch 0 | Loss 2.000339\n",
      "[Epoch] 673  | batch 0 | Loss 2.286472\n",
      "[Epoch] 674  | batch 0 | Loss 2.067083\n",
      "[Epoch] 675  | batch 0 | Loss 1.939597\n",
      "[Epoch] 676  | batch 0 | Loss 1.940124\n",
      "[Epoch] 677  | batch 0 | Loss 2.019231\n",
      "[Epoch] 678  | batch 0 | Loss 1.356766\n",
      "[Epoch] 679  | batch 0 | Loss 2.007332\n"
     ]
    },
    {
     "name": "stderr",
     "output_type": "stream",
     "text": [
      " 69%|██████▉   | 691/1000 [00:08<00:03, 83.37it/s]"
     ]
    },
    {
     "name": "stdout",
     "output_type": "stream",
     "text": [
      "[Epoch] 680  | batch 0 | Loss 1.865920\n",
      "[Epoch] 681  | batch 0 | Loss 2.231432\n",
      "[Epoch] 682  | batch 0 | Loss 1.989669\n",
      "[Epoch] 683  | batch 0 | Loss 1.952666\n",
      "[Epoch] 684  | batch 0 | Loss 1.941571\n",
      "[Epoch] 685  | batch 0 | Loss 1.708428\n",
      "[Epoch] 686  | batch 0 | Loss 1.835149\n",
      "[Epoch] 687  | batch 0 | Loss 1.817199\n",
      "[Epoch] 688  | batch 0 | Loss 2.324153\n",
      "[Epoch] 689  | batch 0 | Loss 2.047696\n",
      "[Epoch] 690  | batch 0 | Loss 2.060220\n",
      "[Epoch] 691  | batch 0 | Loss 2.135280\n",
      "[Epoch] 692  | batch 0 | Loss 2.210482\n",
      "[Epoch] 693  | batch 0 | Loss 2.037083\n",
      "[Epoch] 694  | batch 0 | Loss 1.768288\n",
      "[Epoch] 695  | batch 0 | Loss 1.933173\n",
      "[Epoch] 696  | batch 0 | Loss 1.821604\n"
     ]
    },
    {
     "name": "stderr",
     "output_type": "stream",
     "text": [
      " 71%|███████   | 709/1000 [00:08<00:03, 83.47it/s]"
     ]
    },
    {
     "name": "stdout",
     "output_type": "stream",
     "text": [
      "[Epoch] 697  | batch 0 | Loss 2.168729\n",
      "[Epoch] 698  | batch 0 | Loss 1.587413\n",
      "[Epoch] 699  | batch 0 | Loss 2.263803\n",
      "[Epoch] 700  | batch 0 | Loss 1.991989\n",
      "[Epoch] 701  | batch 0 | Loss 2.002326\n",
      "[Epoch] 702  | batch 0 | Loss 2.221361\n",
      "[Epoch] 703  | batch 0 | Loss 1.779596\n",
      "[Epoch] 704  | batch 0 | Loss 1.918155\n",
      "[Epoch] 705  | batch 0 | Loss 1.921922\n",
      "[Epoch] 706  | batch 0 | Loss 1.906023\n",
      "[Epoch] 707  | batch 0 | Loss 1.715503\n",
      "[Epoch] 708  | batch 0 | Loss 2.147840\n",
      "[Epoch] 709  | batch 0 | Loss 2.139563\n",
      "[Epoch] 710  | batch 0 | Loss 1.974888\n",
      "[Epoch] 711  | batch 0 | Loss 2.135487\n",
      "[Epoch] 712  | batch 0 | Loss 2.420989\n",
      "[Epoch] 713  | batch 0 | Loss 1.774047\n"
     ]
    },
    {
     "name": "stderr",
     "output_type": "stream",
     "text": [
      " 73%|███████▎  | 727/1000 [00:09<00:03, 83.36it/s]"
     ]
    },
    {
     "name": "stdout",
     "output_type": "stream",
     "text": [
      "[Epoch] 714  | batch 0 | Loss 1.865473\n",
      "[Epoch] 715  | batch 0 | Loss 1.956617\n",
      "[Epoch] 716  | batch 0 | Loss 1.754615\n",
      "[Epoch] 717  | batch 0 | Loss 2.234873\n",
      "[Epoch] 718  | batch 0 | Loss 1.756542\n",
      "[Epoch] 719  | batch 0 | Loss 2.130489\n",
      "[Epoch] 720  | batch 0 | Loss 1.912764\n",
      "[Epoch] 721  | batch 0 | Loss 2.051014\n",
      "[Epoch] 722  | batch 0 | Loss 1.724262\n",
      "[Epoch] 723  | batch 0 | Loss 1.676129\n",
      "[Epoch] 724  | batch 0 | Loss 1.581601\n",
      "[Epoch] 725  | batch 0 | Loss 1.990598\n",
      "[Epoch] 726  | batch 0 | Loss 2.134917\n",
      "[Epoch] 727  | batch 0 | Loss 1.966460\n",
      "[Epoch] 728  | batch 0 | Loss 2.666321\n",
      "[Epoch] 729  | batch 0 | Loss 1.911049\n",
      "[Epoch] 730  | batch 0 | Loss 2.070142\n"
     ]
    },
    {
     "name": "stderr",
     "output_type": "stream",
     "text": [
      " 74%|███████▍  | 745/1000 [00:09<00:03, 81.89it/s]"
     ]
    },
    {
     "name": "stdout",
     "output_type": "stream",
     "text": [
      "[Epoch] 731  | batch 0 | Loss 2.196235\n",
      "[Epoch] 732  | batch 0 | Loss 2.012949\n",
      "[Epoch] 733  | batch 0 | Loss 1.911001\n",
      "[Epoch] 734  | batch 0 | Loss 2.000778\n",
      "[Epoch] 735  | batch 0 | Loss 2.215657\n",
      "[Epoch] 736  | batch 0 | Loss 1.858157\n",
      "[Epoch] 737  | batch 0 | Loss 2.068646\n",
      "[Epoch] 738  | batch 0 | Loss 1.950631\n",
      "[Epoch] 739  | batch 0 | Loss 1.956011\n",
      "[Epoch] 740  | batch 0 | Loss 2.172298\n",
      "[Epoch] 741  | batch 0 | Loss 1.820642\n",
      "[Epoch] 742  | batch 0 | Loss 1.850482\n",
      "[Epoch] 743  | batch 0 | Loss 2.133536\n",
      "[Epoch] 744  | batch 0 | Loss 1.911100\n",
      "[Epoch] 745  | batch 0 | Loss 2.172663\n",
      "[Epoch] 746  | batch 0 | Loss 1.728150\n",
      "[Epoch] 747  | batch 0 | Loss 1.927811\n"
     ]
    },
    {
     "name": "stderr",
     "output_type": "stream",
     "text": [
      " 76%|███████▋  | 763/1000 [00:09<00:02, 82.59it/s]"
     ]
    },
    {
     "name": "stdout",
     "output_type": "stream",
     "text": [
      "[Epoch] 748  | batch 0 | Loss 2.110931\n",
      "[Epoch] 749  | batch 0 | Loss 2.102181\n",
      "[Epoch] 750  | batch 0 | Loss 1.926842\n",
      "[Epoch] 751  | batch 0 | Loss 1.963519\n",
      "[Epoch] 752  | batch 0 | Loss 2.064060\n",
      "[Epoch] 753  | batch 0 | Loss 2.127843\n",
      "[Epoch] 754  | batch 0 | Loss 2.006841\n",
      "[Epoch] 755  | batch 0 | Loss 2.065466\n",
      "[Epoch] 756  | batch 0 | Loss 2.088121\n",
      "[Epoch] 757  | batch 0 | Loss 2.273294\n",
      "[Epoch] 758  | batch 0 | Loss 2.238426\n",
      "[Epoch] 759  | batch 0 | Loss 1.973683\n",
      "[Epoch] 760  | batch 0 | Loss 2.172070\n",
      "[Epoch] 761  | batch 0 | Loss 1.879751\n",
      "[Epoch] 762  | batch 0 | Loss 2.095701\n",
      "[Epoch] 763  | batch 0 | Loss 2.303127\n",
      "[Epoch] 764  | batch 0 | Loss 2.133508\n"
     ]
    },
    {
     "name": "stderr",
     "output_type": "stream",
     "text": [
      " 78%|███████▊  | 781/1000 [00:09<00:02, 83.00it/s]"
     ]
    },
    {
     "name": "stdout",
     "output_type": "stream",
     "text": [
      "[Epoch] 765  | batch 0 | Loss 1.891112\n",
      "[Epoch] 766  | batch 0 | Loss 1.824162\n",
      "[Epoch] 767  | batch 0 | Loss 2.265513\n",
      "[Epoch] 768  | batch 0 | Loss 2.340797\n",
      "[Epoch] 769  | batch 0 | Loss 1.766320\n",
      "[Epoch] 770  | batch 0 | Loss 1.945146\n",
      "[Epoch] 771  | batch 0 | Loss 2.000959\n",
      "[Epoch] 772  | batch 0 | Loss 1.931042\n",
      "[Epoch] 773  | batch 0 | Loss 1.861336\n",
      "[Epoch] 774  | batch 0 | Loss 1.876599\n",
      "[Epoch] 775  | batch 0 | Loss 1.856299\n",
      "[Epoch] 776  | batch 0 | Loss 1.855459\n",
      "[Epoch] 777  | batch 0 | Loss 2.123008\n",
      "[Epoch] 778  | batch 0 | Loss 1.837310\n",
      "[Epoch] 779  | batch 0 | Loss 2.133786\n",
      "[Epoch] 780  | batch 0 | Loss 1.681384\n",
      "[Epoch] 781  | batch 0 | Loss 1.975272\n"
     ]
    },
    {
     "name": "stderr",
     "output_type": "stream",
     "text": [
      " 80%|███████▉  | 799/1000 [00:10<00:02, 82.93it/s]"
     ]
    },
    {
     "name": "stdout",
     "output_type": "stream",
     "text": [
      "[Epoch] 782  | batch 0 | Loss 2.092283\n",
      "[Epoch] 783  | batch 0 | Loss 1.626835\n",
      "[Epoch] 784  | batch 0 | Loss 1.997230\n",
      "[Epoch] 785  | batch 0 | Loss 2.124466\n",
      "[Epoch] 786  | batch 0 | Loss 1.854637\n",
      "[Epoch] 787  | batch 0 | Loss 2.174959\n",
      "[Epoch] 788  | batch 0 | Loss 1.662592\n",
      "[Epoch] 789  | batch 0 | Loss 2.140189\n",
      "[Epoch] 790  | batch 0 | Loss 1.682601\n",
      "[Epoch] 791  | batch 0 | Loss 2.046948\n",
      "[Epoch] 792  | batch 0 | Loss 2.037759\n",
      "[Epoch] 793  | batch 0 | Loss 2.136212\n",
      "[Epoch] 794  | batch 0 | Loss 1.930922\n",
      "[Epoch] 795  | batch 0 | Loss 1.795611\n",
      "[Epoch] 796  | batch 0 | Loss 1.677368\n",
      "[Epoch] 797  | batch 0 | Loss 1.956648\n",
      "[Epoch] 798  | batch 0 | Loss 2.039328\n"
     ]
    },
    {
     "name": "stderr",
     "output_type": "stream",
     "text": [
      " 81%|████████  | 808/1000 [00:10<00:02, 83.05it/s]"
     ]
    },
    {
     "name": "stdout",
     "output_type": "stream",
     "text": [
      "[Epoch] 799  | batch 0 | Loss 2.472255\n",
      "[Epoch] 800  | batch 0 | Loss 2.210989\n",
      "[Epoch] 801  | batch 0 | Loss 2.044737\n",
      "[Epoch] 802  | batch 0 | Loss 1.844622\n",
      "[Epoch] 803  | batch 0 | Loss 2.190614\n",
      "[Epoch] 804  | batch 0 | Loss 1.782872\n",
      "[Epoch] 805  | batch 0 | Loss 2.186255\n",
      "[Epoch] 806  | batch 0 | Loss 2.067484\n",
      "[Epoch] 807  | batch 0 | Loss 1.969438\n",
      "[Epoch] 808  | batch 0 | Loss 1.928686\n",
      "[Epoch] 809  | batch 0 | Loss 1.799802\n",
      "[Epoch] 810  | batch 0 | Loss 2.245427\n",
      "[Epoch] 811  | batch 0 | Loss 1.893561\n",
      "[Epoch] 812  | batch 0 | Loss 2.261734\n",
      "[Epoch] 813  | batch 0 | Loss 2.124953\n",
      "[Epoch] 814  | batch 0 | Loss 1.665737\n",
      "[Epoch] 815  | batch 0 | Loss 1.983112\n"
     ]
    },
    {
     "name": "stderr",
     "output_type": "stream",
     "text": [
      " 83%|████████▎ | 826/1000 [00:10<00:02, 83.26it/s]"
     ]
    },
    {
     "name": "stdout",
     "output_type": "stream",
     "text": [
      "[Epoch] 816  | batch 0 | Loss 2.153615\n",
      "[Epoch] 817  | batch 0 | Loss 1.788841\n",
      "[Epoch] 818  | batch 0 | Loss 2.073813\n",
      "[Epoch] 819  | batch 0 | Loss 1.775188\n",
      "[Epoch] 820  | batch 0 | Loss 1.721065\n",
      "[Epoch] 821  | batch 0 | Loss 1.686099\n",
      "[Epoch] 822  | batch 0 | Loss 1.917596\n",
      "[Epoch] 823  | batch 0 | Loss 2.607499\n",
      "[Epoch] 824  | batch 0 | Loss 2.257554\n",
      "[Epoch] 825  | batch 0 | Loss 2.336727\n",
      "[Epoch] 826  | batch 0 | Loss 1.683770\n",
      "[Epoch] 827  | batch 0 | Loss 2.313606\n",
      "[Epoch] 828  | batch 0 | Loss 1.885352\n",
      "[Epoch] 829  | batch 0 | Loss 2.315949\n",
      "[Epoch] 830  | batch 0 | Loss 2.001852\n",
      "[Epoch] 831  | batch 0 | Loss 1.852312\n",
      "[Epoch] 832  | batch 0 | Loss 1.797482\n"
     ]
    },
    {
     "name": "stderr",
     "output_type": "stream",
     "text": [
      " 84%|████████▍ | 844/1000 [00:10<00:01, 83.16it/s]"
     ]
    },
    {
     "name": "stdout",
     "output_type": "stream",
     "text": [
      "[Epoch] 833  | batch 0 | Loss 2.548412\n",
      "[Epoch] 834  | batch 0 | Loss 1.805941\n",
      "[Epoch] 835  | batch 0 | Loss 2.112507\n",
      "[Epoch] 836  | batch 0 | Loss 2.323193\n",
      "[Epoch] 837  | batch 0 | Loss 1.930389\n",
      "[Epoch] 838  | batch 0 | Loss 2.136830\n",
      "[Epoch] 839  | batch 0 | Loss 1.844801\n",
      "[Epoch] 840  | batch 0 | Loss 1.628254\n",
      "[Epoch] 841  | batch 0 | Loss 1.811540\n",
      "[Epoch] 842  | batch 0 | Loss 2.160929\n",
      "[Epoch] 843  | batch 0 | Loss 2.049681\n",
      "[Epoch] 844  | batch 0 | Loss 2.128045\n",
      "[Epoch] 845  | batch 0 | Loss 2.285294\n",
      "[Epoch] 846  | batch 0 | Loss 2.625828\n",
      "[Epoch] 847  | batch 0 | Loss 1.996703\n",
      "[Epoch] 848  | batch 0 | Loss 1.762694\n",
      "[Epoch] 849  | batch 0 | Loss 1.582795\n"
     ]
    },
    {
     "name": "stderr",
     "output_type": "stream",
     "text": [
      " 86%|████████▌ | 862/1000 [00:10<00:01, 83.25it/s]"
     ]
    },
    {
     "name": "stdout",
     "output_type": "stream",
     "text": [
      "[Epoch] 850  | batch 0 | Loss 1.736845\n",
      "[Epoch] 851  | batch 0 | Loss 1.902606\n",
      "[Epoch] 852  | batch 0 | Loss 2.008889\n",
      "[Epoch] 853  | batch 0 | Loss 2.144031\n",
      "[Epoch] 854  | batch 0 | Loss 1.990549\n",
      "[Epoch] 855  | batch 0 | Loss 1.887630\n",
      "[Epoch] 856  | batch 0 | Loss 2.105638\n",
      "[Epoch] 857  | batch 0 | Loss 1.774415\n",
      "[Epoch] 858  | batch 0 | Loss 2.239830\n",
      "[Epoch] 859  | batch 0 | Loss 1.582149\n",
      "[Epoch] 860  | batch 0 | Loss 1.839932\n",
      "[Epoch] 861  | batch 0 | Loss 1.770580\n",
      "[Epoch] 862  | batch 0 | Loss 2.011213\n",
      "[Epoch] 863  | batch 0 | Loss 1.727744\n",
      "[Epoch] 864  | batch 0 | Loss 2.037736\n",
      "[Epoch] 865  | batch 0 | Loss 1.806271\n",
      "[Epoch] 866  | batch 0 | Loss 2.486876\n"
     ]
    },
    {
     "name": "stderr",
     "output_type": "stream",
     "text": [
      " 88%|████████▊ | 880/1000 [00:10<00:01, 83.38it/s]"
     ]
    },
    {
     "name": "stdout",
     "output_type": "stream",
     "text": [
      "[Epoch] 867  | batch 0 | Loss 1.725221\n",
      "[Epoch] 868  | batch 0 | Loss 1.953711\n",
      "[Epoch] 869  | batch 0 | Loss 1.806835\n",
      "[Epoch] 870  | batch 0 | Loss 2.100109\n",
      "[Epoch] 871  | batch 0 | Loss 1.862106\n",
      "[Epoch] 872  | batch 0 | Loss 2.168667\n",
      "[Epoch] 873  | batch 0 | Loss 1.916929\n",
      "[Epoch] 874  | batch 0 | Loss 2.143170\n",
      "[Epoch] 875  | batch 0 | Loss 1.601714\n",
      "[Epoch] 876  | batch 0 | Loss 2.118413\n",
      "[Epoch] 877  | batch 0 | Loss 2.111158\n",
      "[Epoch] 878  | batch 0 | Loss 2.039806\n",
      "[Epoch] 879  | batch 0 | Loss 2.111898\n",
      "[Epoch] 880  | batch 0 | Loss 2.112863\n",
      "[Epoch] 881  | batch 0 | Loss 2.041208\n",
      "[Epoch] 882  | batch 0 | Loss 1.733431\n",
      "[Epoch] 883  | batch 0 | Loss 1.737093\n"
     ]
    },
    {
     "name": "stderr",
     "output_type": "stream",
     "text": [
      " 90%|████████▉ | 898/1000 [00:11<00:01, 83.56it/s]"
     ]
    },
    {
     "name": "stdout",
     "output_type": "stream",
     "text": [
      "[Epoch] 884  | batch 0 | Loss 2.162158\n",
      "[Epoch] 885  | batch 0 | Loss 2.112472\n",
      "[Epoch] 886  | batch 0 | Loss 1.851798\n",
      "[Epoch] 887  | batch 0 | Loss 1.754578\n",
      "[Epoch] 888  | batch 0 | Loss 2.066627\n",
      "[Epoch] 889  | batch 0 | Loss 2.454998\n",
      "[Epoch] 890  | batch 0 | Loss 2.057125\n",
      "[Epoch] 891  | batch 0 | Loss 1.667840\n",
      "[Epoch] 892  | batch 0 | Loss 2.008941\n",
      "[Epoch] 893  | batch 0 | Loss 1.764520\n",
      "[Epoch] 894  | batch 0 | Loss 1.678779\n",
      "[Epoch] 895  | batch 0 | Loss 2.023775\n",
      "[Epoch] 896  | batch 0 | Loss 1.859396\n",
      "[Epoch] 897  | batch 0 | Loss 2.122180\n",
      "[Epoch] 898  | batch 0 | Loss 1.938975\n",
      "[Epoch] 899  | batch 0 | Loss 1.911370\n",
      "[Epoch] 900  | batch 0 | Loss 2.054240\n"
     ]
    },
    {
     "name": "stderr",
     "output_type": "stream",
     "text": [
      " 92%|█████████▏| 916/1000 [00:11<00:01, 83.49it/s]"
     ]
    },
    {
     "name": "stdout",
     "output_type": "stream",
     "text": [
      "[Epoch] 901  | batch 0 | Loss 1.574341\n",
      "[Epoch] 902  | batch 0 | Loss 1.894788\n",
      "[Epoch] 903  | batch 0 | Loss 2.023317\n",
      "[Epoch] 904  | batch 0 | Loss 1.751349\n",
      "[Epoch] 905  | batch 0 | Loss 1.885630\n",
      "[Epoch] 906  | batch 0 | Loss 2.068394\n",
      "[Epoch] 907  | batch 0 | Loss 2.228554\n",
      "[Epoch] 908  | batch 0 | Loss 1.748150\n",
      "[Epoch] 909  | batch 0 | Loss 1.915088\n",
      "[Epoch] 910  | batch 0 | Loss 1.907520\n",
      "[Epoch] 911  | batch 0 | Loss 1.873987\n",
      "[Epoch] 912  | batch 0 | Loss 1.990652\n",
      "[Epoch] 913  | batch 0 | Loss 2.277930\n",
      "[Epoch] 914  | batch 0 | Loss 1.992876\n",
      "[Epoch] 915  | batch 0 | Loss 2.084332\n",
      "[Epoch] 916  | batch 0 | Loss 1.717236\n",
      "[Epoch] 917  | batch 0 | Loss 1.655604\n"
     ]
    },
    {
     "name": "stderr",
     "output_type": "stream",
     "text": [
      " 93%|█████████▎| 934/1000 [00:11<00:00, 83.47it/s]"
     ]
    },
    {
     "name": "stdout",
     "output_type": "stream",
     "text": [
      "[Epoch] 918  | batch 0 | Loss 1.783804\n",
      "[Epoch] 919  | batch 0 | Loss 1.712767\n",
      "[Epoch] 920  | batch 0 | Loss 1.791541\n",
      "[Epoch] 921  | batch 0 | Loss 1.976798\n",
      "[Epoch] 922  | batch 0 | Loss 1.723701\n",
      "[Epoch] 923  | batch 0 | Loss 1.979066\n",
      "[Epoch] 924  | batch 0 | Loss 1.802494\n",
      "[Epoch] 925  | batch 0 | Loss 1.936019\n",
      "[Epoch] 926  | batch 0 | Loss 1.964295\n",
      "[Epoch] 927  | batch 0 | Loss 1.953289\n",
      "[Epoch] 928  | batch 0 | Loss 1.948270\n",
      "[Epoch] 929  | batch 0 | Loss 2.223064\n",
      "[Epoch] 930  | batch 0 | Loss 1.749786\n",
      "[Epoch] 931  | batch 0 | Loss 2.161515\n",
      "[Epoch] 932  | batch 0 | Loss 1.816214\n",
      "[Epoch] 933  | batch 0 | Loss 1.800693\n",
      "[Epoch] 934  | batch 0 | Loss 1.766381\n"
     ]
    },
    {
     "name": "stderr",
     "output_type": "stream",
     "text": [
      " 95%|█████████▌| 952/1000 [00:11<00:00, 83.41it/s]"
     ]
    },
    {
     "name": "stdout",
     "output_type": "stream",
     "text": [
      "[Epoch] 935  | batch 0 | Loss 2.391405\n",
      "[Epoch] 936  | batch 0 | Loss 2.248093\n",
      "[Epoch] 937  | batch 0 | Loss 1.989581\n",
      "[Epoch] 938  | batch 0 | Loss 2.389271\n",
      "[Epoch] 939  | batch 0 | Loss 1.876164\n",
      "[Epoch] 940  | batch 0 | Loss 1.939524\n",
      "[Epoch] 941  | batch 0 | Loss 1.626540\n",
      "[Epoch] 942  | batch 0 | Loss 1.651448\n",
      "[Epoch] 943  | batch 0 | Loss 2.087681\n",
      "[Epoch] 944  | batch 0 | Loss 2.170242\n",
      "[Epoch] 945  | batch 0 | Loss 2.016423\n",
      "[Epoch] 946  | batch 0 | Loss 1.986102\n",
      "[Epoch] 947  | batch 0 | Loss 1.884727\n",
      "[Epoch] 948  | batch 0 | Loss 2.008531\n",
      "[Epoch] 949  | batch 0 | Loss 1.863124\n",
      "[Epoch] 950  | batch 0 | Loss 2.018269\n",
      "[Epoch] 951  | batch 0 | Loss 1.828248\n"
     ]
    },
    {
     "name": "stderr",
     "output_type": "stream",
     "text": [
      " 96%|█████████▌| 961/1000 [00:11<00:00, 83.44it/s]"
     ]
    },
    {
     "name": "stdout",
     "output_type": "stream",
     "text": [
      "[Epoch] 952  | batch 0 | Loss 1.828860\n",
      "[Epoch] 953  | batch 0 | Loss 2.024080\n",
      "[Epoch] 954  | batch 0 | Loss 1.723251\n",
      "[Epoch] 955  | batch 0 | Loss 1.944839\n",
      "[Epoch] 956  | batch 0 | Loss 1.974316\n",
      "[Epoch] 957  | batch 0 | Loss 2.199961\n",
      "[Epoch] 958  | batch 0 | Loss 1.718175\n",
      "[Epoch] 959  | batch 0 | Loss 1.775737\n",
      "[Epoch] 960  | batch 0 | Loss 1.982655\n",
      "[Epoch] 961  | batch 0 | Loss 2.073966\n",
      "[Epoch] 962  | batch 0 | Loss 2.032851\n",
      "[Epoch] 963  | batch 0 | Loss 1.784951\n",
      "[Epoch] 964  | batch 0 | Loss 1.760723\n",
      "[Epoch] 965  | batch 0 | Loss 2.356742\n",
      "[Epoch] 966  | batch 0 | Loss 1.839314\n",
      "[Epoch] 967  | batch 0 | Loss 1.957399\n",
      "[Epoch] 968  | batch 0 | Loss 1.747418\n"
     ]
    },
    {
     "name": "stderr",
     "output_type": "stream",
     "text": [
      " 98%|█████████▊| 979/1000 [00:12<00:00, 82.61it/s]"
     ]
    },
    {
     "name": "stdout",
     "output_type": "stream",
     "text": [
      "[Epoch] 969  | batch 0 | Loss 1.843012\n",
      "[Epoch] 970  | batch 0 | Loss 1.915320\n",
      "[Epoch] 971  | batch 0 | Loss 2.357218\n",
      "[Epoch] 972  | batch 0 | Loss 2.026498\n",
      "[Epoch] 973  | batch 0 | Loss 1.895410\n",
      "[Epoch] 974  | batch 0 | Loss 2.021171\n",
      "[Epoch] 975  | batch 0 | Loss 1.839972\n",
      "[Epoch] 976  | batch 0 | Loss 1.886445\n",
      "[Epoch] 977  | batch 0 | Loss 1.843869\n",
      "[Epoch] 978  | batch 0 | Loss 2.313621\n",
      "[Epoch] 979  | batch 0 | Loss 1.896933\n",
      "[Epoch] 980  | batch 0 | Loss 1.876756\n",
      "[Epoch] 981  | batch 0 | Loss 1.911339\n",
      "[Epoch] 982  | batch 0 | Loss 2.164487\n",
      "[Epoch] 983  | batch 0 | Loss 1.815938\n",
      "[Epoch] 984  | batch 0 | Loss 2.153142\n",
      "[Epoch] 985  | batch 0 | Loss 1.819600\n"
     ]
    },
    {
     "name": "stderr",
     "output_type": "stream",
     "text": [
      "100%|██████████| 1000/1000 [00:12<00:00, 80.49it/s]"
     ]
    },
    {
     "name": "stdout",
     "output_type": "stream",
     "text": [
      "[Epoch] 986  | batch 0 | Loss 1.637998\n",
      "[Epoch] 987  | batch 0 | Loss 1.958771\n",
      "[Epoch] 988  | batch 0 | Loss 1.965782\n",
      "[Epoch] 989  | batch 0 | Loss 2.002327\n",
      "[Epoch] 990  | batch 0 | Loss 2.120966\n",
      "[Epoch] 991  | batch 0 | Loss 2.193309\n",
      "[Epoch] 992  | batch 0 | Loss 1.825473\n",
      "[Epoch] 993  | batch 0 | Loss 1.676007\n",
      "[Epoch] 994  | batch 0 | Loss 1.581259\n",
      "[Epoch] 995  | batch 0 | Loss 2.015757\n",
      "[Epoch] 996  | batch 0 | Loss 2.100486\n",
      "[Epoch] 997  | batch 0 | Loss 2.099599\n",
      "[Epoch] 998  | batch 0 | Loss 2.374251\n",
      "[Epoch] 999  | batch 0 | Loss 1.763730\n"
     ]
    },
    {
     "name": "stderr",
     "output_type": "stream",
     "text": [
      "\n"
     ]
    }
   ],
   "source": [
    "loss_values = perturb_clf_obj.fit(X = train_X[-1000:], Y = np.abs(1 - train_Y[-1000:]).reshape([-1,1]), num_epochs = perturbModel_train_epochs)"
   ]
  },
  {
   "cell_type": "code",
   "execution_count": 11,
   "id": "f232bbfe-ed4b-4169-8fe3-45f683f00c2a",
   "metadata": {},
   "outputs": [
    {
     "data": {
      "text/plain": [
       "[array([ 188, 1856,  608,  196,   29,   35,   40,  956]),\n",
       " array([ 152, 2281,  301,  167,   22,   81,   24, 1040])]"
      ]
     },
     "execution_count": 11,
     "metadata": {},
     "output_type": "execute_result"
    }
   ],
   "source": [
    "perturb_clf_obj.predict(train_X[-2:])"
   ]
  },
  {
   "cell_type": "code",
   "execution_count": null,
   "id": "2a2370e4-fe98-4480-b86c-4f797e02bb2a",
   "metadata": {},
   "outputs": [],
   "source": []
  }
 ],
 "metadata": {
  "kernelspec": {
   "display_name": "Python 3",
   "language": "python",
   "name": "python3"
  },
  "language_info": {
   "codemirror_mode": {
    "name": "ipython",
    "version": 3
   },
   "file_extension": ".py",
   "mimetype": "text/x-python",
   "name": "python",
   "nbconvert_exporter": "python",
   "pygments_lexer": "ipython3",
   "version": "3.9.7"
  }
 },
 "nbformat": 4,
 "nbformat_minor": 5
}
