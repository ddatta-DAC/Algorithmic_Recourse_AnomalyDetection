{
 "cells": [
  {
   "cell_type": "code",
   "execution_count": 2,
   "id": "7d69fa43-4155-413b-ba3c-8305ff39b25f",
   "metadata": {},
   "outputs": [],
   "source": [
    "\"\"\"\n",
    "Rank Improvement Metric\n",
    "In paper : Conditional Correctness\n",
    "\"\"\"\n",
    "\n",
    "import os\n",
    "import sys\n",
    "import pandas as pd\n",
    "import pickle\n",
    "import multiprocessing as MP\n",
    "sys.path.append('./../')\n",
    "from joblib import Parallel,delayed\n",
    "import numpy as np\n",
    "from tqdm import tqdm\n"
   ]
  },
  {
   "cell_type": "code",
   "execution_count": null,
   "id": "e4bd4725-fab8-4325-8851-fbc54cfb65fb",
   "metadata": {},
   "outputs": [],
   "source": [
    "class condCorrectnessEvaluator:\n",
    "    def __init__(\n",
    "        self,\n",
    "        anomaly_df:pd.DataFrame = None\n",
    "        normal_df:pd.DataFrame = None,\n",
    "        data_id_col : str = None \n",
    "    ):\n",
    "        return"
   ]
  }
 ],
 "metadata": {
  "kernelspec": {
   "display_name": "Python 3",
   "language": "python",
   "name": "python3"
  },
  "language_info": {
   "codemirror_mode": {
    "name": "ipython",
    "version": 3
   },
   "file_extension": ".py",
   "mimetype": "text/x-python",
   "name": "python",
   "nbconvert_exporter": "python",
   "pygments_lexer": "ipython3",
   "version": "3.9.7"
  }
 },
 "nbformat": 4,
 "nbformat_minor": 5
}
